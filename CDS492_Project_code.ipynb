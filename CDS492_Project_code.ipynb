{
 "cells": [
  {
   "attachments": {},
   "cell_type": "markdown",
   "id": "531ce7ec",
   "metadata": {},
   "source": [
    "# Predicting Prices of Used Cars Using Machine Learning"
   ]
  },
  {
   "cell_type": "markdown",
   "id": "8cb25222",
   "metadata": {},
   "source": [
    "###### Muhammad Raees\n",
    "G01297465"
   ]
  },
  {
   "cell_type": "code",
   "execution_count": 962,
   "id": "52d20c07",
   "metadata": {},
   "outputs": [],
   "source": [
    "\n",
    "import re\n",
    "import numpy as np\n",
    "import pandas as pd\n",
    "import matplotlib.pyplot as plt\n",
    "import seaborn as sns\n",
    "import matplotlib.pyplot as plt\n",
    "import pylab\n",
    "import scipy.stats as stats\n",
    "\n",
    "from statsmodels.stats.outliers_influence import variance_inflation_factor\n",
    "from sklearn.model_selection import train_test_split"
   ]
  },
  {
   "cell_type": "code",
   "execution_count": 963,
   "id": "e8e66dde",
   "metadata": {},
   "outputs": [],
   "source": [
    "# uploading data\n",
    "df = pd.read_csv(\"CDS492/Data/used_cars_data.csv\")"
   ]
  },
  {
   "cell_type": "code",
   "execution_count": 964,
   "id": "eb48d15d",
   "metadata": {},
   "outputs": [
    {
     "name": "stdout",
     "output_type": "stream",
     "text": [
      "Number of rows: 7253\n",
      "Number of columns: 14\n"
     ]
    }
   ],
   "source": [
    "# checking dimensions of dataset\n",
    "print(\"Number of rows:\",df.shape[0])\n",
    "print(\"Number of columns:\",df.shape[1])"
   ]
  },
  {
   "cell_type": "code",
   "execution_count": 965,
   "id": "5ca3b26b",
   "metadata": {},
   "outputs": [
    {
     "name": "stdout",
     "output_type": "stream",
     "text": [
      "<class 'pandas.core.frame.DataFrame'>\n",
      "RangeIndex: 7253 entries, 0 to 7252\n",
      "Data columns (total 14 columns):\n",
      " #   Column             Non-Null Count  Dtype  \n",
      "---  ------             --------------  -----  \n",
      " 0   S.No.              7253 non-null   int64  \n",
      " 1   Name               7253 non-null   object \n",
      " 2   Location           7253 non-null   object \n",
      " 3   Year               7253 non-null   int64  \n",
      " 4   Kilometers_Driven  7253 non-null   int64  \n",
      " 5   Fuel_Type          7253 non-null   object \n",
      " 6   Transmission       7253 non-null   object \n",
      " 7   Owner_Type         7253 non-null   object \n",
      " 8   Mileage            7251 non-null   object \n",
      " 9   Engine             7207 non-null   object \n",
      " 10  Power              7207 non-null   object \n",
      " 11  Seats              7200 non-null   float64\n",
      " 12  New_Price          1006 non-null   object \n",
      " 13  Price              6019 non-null   float64\n",
      "dtypes: float64(2), int64(3), object(9)\n",
      "memory usage: 793.4+ KB\n"
     ]
    }
   ],
   "source": [
    "df.info()"
   ]
  },
  {
   "cell_type": "code",
   "execution_count": 966,
   "id": "1e997b7b",
   "metadata": {},
   "outputs": [
    {
     "data": {
      "text/html": [
       "<div>\n",
       "<style scoped>\n",
       "    .dataframe tbody tr th:only-of-type {\n",
       "        vertical-align: middle;\n",
       "    }\n",
       "\n",
       "    .dataframe tbody tr th {\n",
       "        vertical-align: top;\n",
       "    }\n",
       "\n",
       "    .dataframe thead th {\n",
       "        text-align: right;\n",
       "    }\n",
       "</style>\n",
       "<table border=\"1\" class=\"dataframe\">\n",
       "  <thead>\n",
       "    <tr style=\"text-align: right;\">\n",
       "      <th></th>\n",
       "      <th>S.No.</th>\n",
       "      <th>Name</th>\n",
       "      <th>Location</th>\n",
       "      <th>Year</th>\n",
       "      <th>Kilometers_Driven</th>\n",
       "      <th>Fuel_Type</th>\n",
       "      <th>Transmission</th>\n",
       "      <th>Owner_Type</th>\n",
       "      <th>Mileage</th>\n",
       "      <th>Engine</th>\n",
       "      <th>Power</th>\n",
       "      <th>Seats</th>\n",
       "      <th>New_Price</th>\n",
       "      <th>Price</th>\n",
       "    </tr>\n",
       "  </thead>\n",
       "  <tbody>\n",
       "    <tr>\n",
       "      <th>0</th>\n",
       "      <td>0</td>\n",
       "      <td>Maruti Wagon R LXI CNG</td>\n",
       "      <td>Mumbai</td>\n",
       "      <td>2010</td>\n",
       "      <td>72000</td>\n",
       "      <td>CNG</td>\n",
       "      <td>Manual</td>\n",
       "      <td>First</td>\n",
       "      <td>26.6 km/kg</td>\n",
       "      <td>998 CC</td>\n",
       "      <td>58.16 bhp</td>\n",
       "      <td>5.0</td>\n",
       "      <td>NaN</td>\n",
       "      <td>1.75</td>\n",
       "    </tr>\n",
       "    <tr>\n",
       "      <th>1</th>\n",
       "      <td>1</td>\n",
       "      <td>Hyundai Creta 1.6 CRDi SX Option</td>\n",
       "      <td>Pune</td>\n",
       "      <td>2015</td>\n",
       "      <td>41000</td>\n",
       "      <td>Diesel</td>\n",
       "      <td>Manual</td>\n",
       "      <td>First</td>\n",
       "      <td>19.67 kmpl</td>\n",
       "      <td>1582 CC</td>\n",
       "      <td>126.2 bhp</td>\n",
       "      <td>5.0</td>\n",
       "      <td>NaN</td>\n",
       "      <td>12.50</td>\n",
       "    </tr>\n",
       "    <tr>\n",
       "      <th>2</th>\n",
       "      <td>2</td>\n",
       "      <td>Honda Jazz V</td>\n",
       "      <td>Chennai</td>\n",
       "      <td>2011</td>\n",
       "      <td>46000</td>\n",
       "      <td>Petrol</td>\n",
       "      <td>Manual</td>\n",
       "      <td>First</td>\n",
       "      <td>18.2 kmpl</td>\n",
       "      <td>1199 CC</td>\n",
       "      <td>88.7 bhp</td>\n",
       "      <td>5.0</td>\n",
       "      <td>8.61 Lakh</td>\n",
       "      <td>4.50</td>\n",
       "    </tr>\n",
       "    <tr>\n",
       "      <th>3</th>\n",
       "      <td>3</td>\n",
       "      <td>Maruti Ertiga VDI</td>\n",
       "      <td>Chennai</td>\n",
       "      <td>2012</td>\n",
       "      <td>87000</td>\n",
       "      <td>Diesel</td>\n",
       "      <td>Manual</td>\n",
       "      <td>First</td>\n",
       "      <td>20.77 kmpl</td>\n",
       "      <td>1248 CC</td>\n",
       "      <td>88.76 bhp</td>\n",
       "      <td>7.0</td>\n",
       "      <td>NaN</td>\n",
       "      <td>6.00</td>\n",
       "    </tr>\n",
       "    <tr>\n",
       "      <th>4</th>\n",
       "      <td>4</td>\n",
       "      <td>Audi A4 New 2.0 TDI Multitronic</td>\n",
       "      <td>Coimbatore</td>\n",
       "      <td>2013</td>\n",
       "      <td>40670</td>\n",
       "      <td>Diesel</td>\n",
       "      <td>Automatic</td>\n",
       "      <td>Second</td>\n",
       "      <td>15.2 kmpl</td>\n",
       "      <td>1968 CC</td>\n",
       "      <td>140.8 bhp</td>\n",
       "      <td>5.0</td>\n",
       "      <td>NaN</td>\n",
       "      <td>17.74</td>\n",
       "    </tr>\n",
       "  </tbody>\n",
       "</table>\n",
       "</div>"
      ],
      "text/plain": [
       "   S.No.                              Name    Location  Year  \\\n",
       "0      0            Maruti Wagon R LXI CNG      Mumbai  2010   \n",
       "1      1  Hyundai Creta 1.6 CRDi SX Option        Pune  2015   \n",
       "2      2                      Honda Jazz V     Chennai  2011   \n",
       "3      3                 Maruti Ertiga VDI     Chennai  2012   \n",
       "4      4   Audi A4 New 2.0 TDI Multitronic  Coimbatore  2013   \n",
       "\n",
       "   Kilometers_Driven Fuel_Type Transmission Owner_Type     Mileage   Engine  \\\n",
       "0              72000       CNG       Manual      First  26.6 km/kg   998 CC   \n",
       "1              41000    Diesel       Manual      First  19.67 kmpl  1582 CC   \n",
       "2              46000    Petrol       Manual      First   18.2 kmpl  1199 CC   \n",
       "3              87000    Diesel       Manual      First  20.77 kmpl  1248 CC   \n",
       "4              40670    Diesel    Automatic     Second   15.2 kmpl  1968 CC   \n",
       "\n",
       "       Power  Seats  New_Price  Price  \n",
       "0  58.16 bhp    5.0        NaN   1.75  \n",
       "1  126.2 bhp    5.0        NaN  12.50  \n",
       "2   88.7 bhp    5.0  8.61 Lakh   4.50  \n",
       "3  88.76 bhp    7.0        NaN   6.00  \n",
       "4  140.8 bhp    5.0        NaN  17.74  "
      ]
     },
     "execution_count": 966,
     "metadata": {},
     "output_type": "execute_result"
    }
   ],
   "source": [
    "df.head(5)"
   ]
  },
  {
   "cell_type": "code",
   "execution_count": 967,
   "id": "90945b83",
   "metadata": {},
   "outputs": [
    {
     "data": {
      "text/html": [
       "<div>\n",
       "<style scoped>\n",
       "    .dataframe tbody tr th:only-of-type {\n",
       "        vertical-align: middle;\n",
       "    }\n",
       "\n",
       "    .dataframe tbody tr th {\n",
       "        vertical-align: top;\n",
       "    }\n",
       "\n",
       "    .dataframe thead th {\n",
       "        text-align: right;\n",
       "    }\n",
       "</style>\n",
       "<table border=\"1\" class=\"dataframe\">\n",
       "  <thead>\n",
       "    <tr style=\"text-align: right;\">\n",
       "      <th></th>\n",
       "      <th>S.No.</th>\n",
       "      <th>Name</th>\n",
       "      <th>Location</th>\n",
       "      <th>Year</th>\n",
       "      <th>Kilometers_Driven</th>\n",
       "      <th>Fuel_Type</th>\n",
       "      <th>Transmission</th>\n",
       "      <th>Owner_Type</th>\n",
       "      <th>Mileage</th>\n",
       "      <th>Engine</th>\n",
       "      <th>Power</th>\n",
       "      <th>Seats</th>\n",
       "      <th>New_Price</th>\n",
       "      <th>Price</th>\n",
       "    </tr>\n",
       "  </thead>\n",
       "  <tbody>\n",
       "    <tr>\n",
       "      <th>0</th>\n",
       "      <td>0</td>\n",
       "      <td>Maruti Wagon R LXI CNG</td>\n",
       "      <td>Mumbai</td>\n",
       "      <td>2010</td>\n",
       "      <td>72.00</td>\n",
       "      <td>CNG</td>\n",
       "      <td>Manual</td>\n",
       "      <td>First</td>\n",
       "      <td>26.6 km/kg</td>\n",
       "      <td>998 CC</td>\n",
       "      <td>58.16 bhp</td>\n",
       "      <td>5.0</td>\n",
       "      <td>NaN</td>\n",
       "      <td>2108.433735</td>\n",
       "    </tr>\n",
       "    <tr>\n",
       "      <th>1</th>\n",
       "      <td>1</td>\n",
       "      <td>Hyundai Creta 1.6 CRDi SX Option</td>\n",
       "      <td>Pune</td>\n",
       "      <td>2015</td>\n",
       "      <td>41.00</td>\n",
       "      <td>Diesel</td>\n",
       "      <td>Manual</td>\n",
       "      <td>First</td>\n",
       "      <td>19.67 kmpl</td>\n",
       "      <td>1582 CC</td>\n",
       "      <td>126.2 bhp</td>\n",
       "      <td>5.0</td>\n",
       "      <td>NaN</td>\n",
       "      <td>15060.240964</td>\n",
       "    </tr>\n",
       "    <tr>\n",
       "      <th>2</th>\n",
       "      <td>2</td>\n",
       "      <td>Honda Jazz V</td>\n",
       "      <td>Chennai</td>\n",
       "      <td>2011</td>\n",
       "      <td>46.00</td>\n",
       "      <td>Petrol</td>\n",
       "      <td>Manual</td>\n",
       "      <td>First</td>\n",
       "      <td>18.2 kmpl</td>\n",
       "      <td>1199 CC</td>\n",
       "      <td>88.7 bhp</td>\n",
       "      <td>5.0</td>\n",
       "      <td>8.61 Lakh</td>\n",
       "      <td>5421.686747</td>\n",
       "    </tr>\n",
       "    <tr>\n",
       "      <th>3</th>\n",
       "      <td>3</td>\n",
       "      <td>Maruti Ertiga VDI</td>\n",
       "      <td>Chennai</td>\n",
       "      <td>2012</td>\n",
       "      <td>87.00</td>\n",
       "      <td>Diesel</td>\n",
       "      <td>Manual</td>\n",
       "      <td>First</td>\n",
       "      <td>20.77 kmpl</td>\n",
       "      <td>1248 CC</td>\n",
       "      <td>88.76 bhp</td>\n",
       "      <td>7.0</td>\n",
       "      <td>NaN</td>\n",
       "      <td>7228.915663</td>\n",
       "    </tr>\n",
       "    <tr>\n",
       "      <th>4</th>\n",
       "      <td>4</td>\n",
       "      <td>Audi A4 New 2.0 TDI Multitronic</td>\n",
       "      <td>Coimbatore</td>\n",
       "      <td>2013</td>\n",
       "      <td>40.67</td>\n",
       "      <td>Diesel</td>\n",
       "      <td>Automatic</td>\n",
       "      <td>Second</td>\n",
       "      <td>15.2 kmpl</td>\n",
       "      <td>1968 CC</td>\n",
       "      <td>140.8 bhp</td>\n",
       "      <td>5.0</td>\n",
       "      <td>NaN</td>\n",
       "      <td>21373.493976</td>\n",
       "    </tr>\n",
       "  </tbody>\n",
       "</table>\n",
       "</div>"
      ],
      "text/plain": [
       "   S.No.                              Name    Location  Year  \\\n",
       "0      0            Maruti Wagon R LXI CNG      Mumbai  2010   \n",
       "1      1  Hyundai Creta 1.6 CRDi SX Option        Pune  2015   \n",
       "2      2                      Honda Jazz V     Chennai  2011   \n",
       "3      3                 Maruti Ertiga VDI     Chennai  2012   \n",
       "4      4   Audi A4 New 2.0 TDI Multitronic  Coimbatore  2013   \n",
       "\n",
       "   Kilometers_Driven Fuel_Type Transmission Owner_Type     Mileage   Engine  \\\n",
       "0              72.00       CNG       Manual      First  26.6 km/kg   998 CC   \n",
       "1              41.00    Diesel       Manual      First  19.67 kmpl  1582 CC   \n",
       "2              46.00    Petrol       Manual      First   18.2 kmpl  1199 CC   \n",
       "3              87.00    Diesel       Manual      First  20.77 kmpl  1248 CC   \n",
       "4              40.67    Diesel    Automatic     Second   15.2 kmpl  1968 CC   \n",
       "\n",
       "       Power  Seats  New_Price         Price  \n",
       "0  58.16 bhp    5.0        NaN   2108.433735  \n",
       "1  126.2 bhp    5.0        NaN  15060.240964  \n",
       "2   88.7 bhp    5.0  8.61 Lakh   5421.686747  \n",
       "3  88.76 bhp    7.0        NaN   7228.915663  \n",
       "4  140.8 bhp    5.0        NaN  21373.493976  "
      ]
     },
     "execution_count": 967,
     "metadata": {},
     "output_type": "execute_result"
    }
   ],
   "source": [
    "#converting price from rupees to dollars\n",
    "df['Price'] = df['Price'].apply(lambda x: x*100000)\n",
    "df['Price'] = df['Price'].div(83)\n",
    "df['Kilometers_Driven'] = df['Kilometers_Driven'].div(1000)\n",
    "df.head(5)"
   ]
  },
  {
   "cell_type": "code",
   "execution_count": 960,
   "id": "c5479a1c",
   "metadata": {},
   "outputs": [
    {
     "data": {
      "text/plain": [
       "S.No.                   0\n",
       "Name                    0\n",
       "Location                0\n",
       "Year                    0\n",
       "Kilometers_Driven       0\n",
       "Fuel_Type               0\n",
       "Transmission            0\n",
       "Owner_Type              0\n",
       "Mileage                 2\n",
       "Engine                 46\n",
       "Power                  46\n",
       "Seats                  53\n",
       "New_Price            6247\n",
       "Price                1234\n",
       "dtype: int64"
      ]
     },
     "execution_count": 960,
     "metadata": {},
     "output_type": "execute_result"
    }
   ],
   "source": [
    "df.isnull().sum()"
   ]
  },
  {
   "cell_type": "markdown",
   "id": "c25543e3",
   "metadata": {},
   "source": [
    "### Extracting numerical values from mileage"
   ]
  },
  {
   "cell_type": "code",
   "execution_count": 961,
   "id": "7f12d257",
   "metadata": {},
   "outputs": [],
   "source": [
    "fuel_economy = []\n",
    "fuel_economy_unit = []\n",
    "\n",
    "for n in df[\"Mileage\"]:\n",
    "    if isinstance(n, str):\n",
    "        if (\n",
    "            n.split(\" \")[0]\n",
    "            .replace(\".\", \"\", 1)\n",
    "            .isdigit()  # First element should be numeric\n",
    "            and \" \" in n  # Space between numeric and unit\n",
    "            and (\n",
    "                n.split(\" \")[1] == \"kmpl\"  # Units are limited to \"kmpl\" and \"km/kg\"\n",
    "                or n.split(\" \")[1] == \"km/kg\"\n",
    "            )\n",
    "        ):\n",
    "            fuel_economy.append(float(n.split(\" \")[0]))\n",
    "            fuel_economy_unit.append(n.split(\" \")[1])\n",
    "        else:\n",
    "            print(\n",
    "                \"missing value\",\n",
    "                n,\n",
    "            )\n",
    "    else:\n",
    "        fuel_economy.append(np.nan)\n",
    "        fuel_economy_unit.append(np.nan)"
   ]
  },
  {
   "cell_type": "code",
   "execution_count": 920,
   "id": "730b6c2f",
   "metadata": {},
   "outputs": [
    {
     "data": {
      "text/html": [
       "<div>\n",
       "<style scoped>\n",
       "    .dataframe tbody tr th:only-of-type {\n",
       "        vertical-align: middle;\n",
       "    }\n",
       "\n",
       "    .dataframe tbody tr th {\n",
       "        vertical-align: top;\n",
       "    }\n",
       "\n",
       "    .dataframe thead th {\n",
       "        text-align: right;\n",
       "    }\n",
       "</style>\n",
       "<table border=\"1\" class=\"dataframe\">\n",
       "  <thead>\n",
       "    <tr style=\"text-align: right;\">\n",
       "      <th></th>\n",
       "      <th>S.No.</th>\n",
       "      <th>Name</th>\n",
       "      <th>Location</th>\n",
       "      <th>Year</th>\n",
       "      <th>Kilometers_Driven</th>\n",
       "      <th>Fuel_Type</th>\n",
       "      <th>Transmission</th>\n",
       "      <th>Owner_Type</th>\n",
       "      <th>Mileage</th>\n",
       "      <th>Engine</th>\n",
       "      <th>Power</th>\n",
       "      <th>Seats</th>\n",
       "      <th>New_Price</th>\n",
       "      <th>Price</th>\n",
       "      <th>fuel_economy</th>\n",
       "      <th>fuel_economy_unit</th>\n",
       "    </tr>\n",
       "  </thead>\n",
       "  <tbody>\n",
       "    <tr>\n",
       "      <th>0</th>\n",
       "      <td>0</td>\n",
       "      <td>Maruti Wagon R LXI CNG</td>\n",
       "      <td>Mumbai</td>\n",
       "      <td>2010</td>\n",
       "      <td>72.00</td>\n",
       "      <td>CNG</td>\n",
       "      <td>Manual</td>\n",
       "      <td>First</td>\n",
       "      <td>26.6 km/kg</td>\n",
       "      <td>998 CC</td>\n",
       "      <td>58.16 bhp</td>\n",
       "      <td>5.0</td>\n",
       "      <td>NaN</td>\n",
       "      <td>2108.433735</td>\n",
       "      <td>26.60</td>\n",
       "      <td>km/kg</td>\n",
       "    </tr>\n",
       "    <tr>\n",
       "      <th>1</th>\n",
       "      <td>1</td>\n",
       "      <td>Hyundai Creta 1.6 CRDi SX Option</td>\n",
       "      <td>Pune</td>\n",
       "      <td>2015</td>\n",
       "      <td>41.00</td>\n",
       "      <td>Diesel</td>\n",
       "      <td>Manual</td>\n",
       "      <td>First</td>\n",
       "      <td>19.67 kmpl</td>\n",
       "      <td>1582 CC</td>\n",
       "      <td>126.2 bhp</td>\n",
       "      <td>5.0</td>\n",
       "      <td>NaN</td>\n",
       "      <td>15060.240964</td>\n",
       "      <td>19.67</td>\n",
       "      <td>kmpl</td>\n",
       "    </tr>\n",
       "    <tr>\n",
       "      <th>2</th>\n",
       "      <td>2</td>\n",
       "      <td>Honda Jazz V</td>\n",
       "      <td>Chennai</td>\n",
       "      <td>2011</td>\n",
       "      <td>46.00</td>\n",
       "      <td>Petrol</td>\n",
       "      <td>Manual</td>\n",
       "      <td>First</td>\n",
       "      <td>18.2 kmpl</td>\n",
       "      <td>1199 CC</td>\n",
       "      <td>88.7 bhp</td>\n",
       "      <td>5.0</td>\n",
       "      <td>8.61 Lakh</td>\n",
       "      <td>5421.686747</td>\n",
       "      <td>18.20</td>\n",
       "      <td>kmpl</td>\n",
       "    </tr>\n",
       "    <tr>\n",
       "      <th>3</th>\n",
       "      <td>3</td>\n",
       "      <td>Maruti Ertiga VDI</td>\n",
       "      <td>Chennai</td>\n",
       "      <td>2012</td>\n",
       "      <td>87.00</td>\n",
       "      <td>Diesel</td>\n",
       "      <td>Manual</td>\n",
       "      <td>First</td>\n",
       "      <td>20.77 kmpl</td>\n",
       "      <td>1248 CC</td>\n",
       "      <td>88.76 bhp</td>\n",
       "      <td>7.0</td>\n",
       "      <td>NaN</td>\n",
       "      <td>7228.915663</td>\n",
       "      <td>20.77</td>\n",
       "      <td>kmpl</td>\n",
       "    </tr>\n",
       "    <tr>\n",
       "      <th>4</th>\n",
       "      <td>4</td>\n",
       "      <td>Audi A4 New 2.0 TDI Multitronic</td>\n",
       "      <td>Coimbatore</td>\n",
       "      <td>2013</td>\n",
       "      <td>40.67</td>\n",
       "      <td>Diesel</td>\n",
       "      <td>Automatic</td>\n",
       "      <td>Second</td>\n",
       "      <td>15.2 kmpl</td>\n",
       "      <td>1968 CC</td>\n",
       "      <td>140.8 bhp</td>\n",
       "      <td>5.0</td>\n",
       "      <td>NaN</td>\n",
       "      <td>21373.493976</td>\n",
       "      <td>15.20</td>\n",
       "      <td>kmpl</td>\n",
       "    </tr>\n",
       "  </tbody>\n",
       "</table>\n",
       "</div>"
      ],
      "text/plain": [
       "   S.No.                              Name    Location  Year  \\\n",
       "0      0            Maruti Wagon R LXI CNG      Mumbai  2010   \n",
       "1      1  Hyundai Creta 1.6 CRDi SX Option        Pune  2015   \n",
       "2      2                      Honda Jazz V     Chennai  2011   \n",
       "3      3                 Maruti Ertiga VDI     Chennai  2012   \n",
       "4      4   Audi A4 New 2.0 TDI Multitronic  Coimbatore  2013   \n",
       "\n",
       "   Kilometers_Driven Fuel_Type Transmission Owner_Type     Mileage   Engine  \\\n",
       "0              72.00       CNG       Manual      First  26.6 km/kg   998 CC   \n",
       "1              41.00    Diesel       Manual      First  19.67 kmpl  1582 CC   \n",
       "2              46.00    Petrol       Manual      First   18.2 kmpl  1199 CC   \n",
       "3              87.00    Diesel       Manual      First  20.77 kmpl  1248 CC   \n",
       "4              40.67    Diesel    Automatic     Second   15.2 kmpl  1968 CC   \n",
       "\n",
       "       Power  Seats  New_Price         Price  fuel_economy fuel_economy_unit  \n",
       "0  58.16 bhp    5.0        NaN   2108.433735         26.60             km/kg  \n",
       "1  126.2 bhp    5.0        NaN  15060.240964         19.67              kmpl  \n",
       "2   88.7 bhp    5.0  8.61 Lakh   5421.686747         18.20              kmpl  \n",
       "3  88.76 bhp    7.0        NaN   7228.915663         20.77              kmpl  \n",
       "4  140.8 bhp    5.0        NaN  21373.493976         15.20              kmpl  "
      ]
     },
     "execution_count": 920,
     "metadata": {},
     "output_type": "execute_result"
    }
   ],
   "source": [
    "df[\"fuel_economy\"] = fuel_economy\n",
    "df[\"fuel_economy_unit\"] = fuel_economy_unit\n",
    "\n",
    "df.head(5)"
   ]
  },
  {
   "cell_type": "markdown",
   "id": "21c493c0",
   "metadata": {},
   "source": [
    "### Extracting numerical value from engine"
   ]
  },
  {
   "cell_type": "code",
   "execution_count": 921,
   "id": "4a75822c",
   "metadata": {},
   "outputs": [],
   "source": [
    "\n",
    "# Create a new column after splitting the engine values.\n",
    "engine_num = []\n",
    "\n",
    "# Regex for numeric + \" \" + \"CC\"  format\n",
    "regex_engine = \"^\\d+(\\.\\d+)? CC$\"\n",
    "\n",
    "for n in df[\"Engine\"]:\n",
    "    if isinstance(n, str):\n",
    "        if re.match(regex_engine, n):\n",
    "            engine_num.append(float(n.split(\" \")[0]))\n",
    "        else:\n",
    "            print(\n",
    "                \"missing value\",\n",
    "                n,\n",
    "            )\n",
    "    else:\n",
    "        # If there are any missing values in the engine column, we add missing values to the new column\n",
    "        engine_num.append(np.nan)"
   ]
  },
  {
   "cell_type": "code",
   "execution_count": 922,
   "id": "92ef7d26",
   "metadata": {},
   "outputs": [
    {
     "data": {
      "text/html": [
       "<div>\n",
       "<style scoped>\n",
       "    .dataframe tbody tr th:only-of-type {\n",
       "        vertical-align: middle;\n",
       "    }\n",
       "\n",
       "    .dataframe tbody tr th {\n",
       "        vertical-align: top;\n",
       "    }\n",
       "\n",
       "    .dataframe thead th {\n",
       "        text-align: right;\n",
       "    }\n",
       "</style>\n",
       "<table border=\"1\" class=\"dataframe\">\n",
       "  <thead>\n",
       "    <tr style=\"text-align: right;\">\n",
       "      <th></th>\n",
       "      <th>S.No.</th>\n",
       "      <th>Name</th>\n",
       "      <th>Location</th>\n",
       "      <th>Year</th>\n",
       "      <th>Kilometers_Driven</th>\n",
       "      <th>Fuel_Type</th>\n",
       "      <th>Transmission</th>\n",
       "      <th>Owner_Type</th>\n",
       "      <th>Mileage</th>\n",
       "      <th>Engine</th>\n",
       "      <th>Power</th>\n",
       "      <th>Seats</th>\n",
       "      <th>New_Price</th>\n",
       "      <th>Price</th>\n",
       "      <th>fuel_economy</th>\n",
       "      <th>fuel_economy_unit</th>\n",
       "      <th>engine_num</th>\n",
       "    </tr>\n",
       "  </thead>\n",
       "  <tbody>\n",
       "    <tr>\n",
       "      <th>0</th>\n",
       "      <td>0</td>\n",
       "      <td>Maruti Wagon R LXI CNG</td>\n",
       "      <td>Mumbai</td>\n",
       "      <td>2010</td>\n",
       "      <td>72.00</td>\n",
       "      <td>CNG</td>\n",
       "      <td>Manual</td>\n",
       "      <td>First</td>\n",
       "      <td>26.6 km/kg</td>\n",
       "      <td>998 CC</td>\n",
       "      <td>58.16 bhp</td>\n",
       "      <td>5.0</td>\n",
       "      <td>NaN</td>\n",
       "      <td>2108.433735</td>\n",
       "      <td>26.60</td>\n",
       "      <td>km/kg</td>\n",
       "      <td>998.0</td>\n",
       "    </tr>\n",
       "    <tr>\n",
       "      <th>1</th>\n",
       "      <td>1</td>\n",
       "      <td>Hyundai Creta 1.6 CRDi SX Option</td>\n",
       "      <td>Pune</td>\n",
       "      <td>2015</td>\n",
       "      <td>41.00</td>\n",
       "      <td>Diesel</td>\n",
       "      <td>Manual</td>\n",
       "      <td>First</td>\n",
       "      <td>19.67 kmpl</td>\n",
       "      <td>1582 CC</td>\n",
       "      <td>126.2 bhp</td>\n",
       "      <td>5.0</td>\n",
       "      <td>NaN</td>\n",
       "      <td>15060.240964</td>\n",
       "      <td>19.67</td>\n",
       "      <td>kmpl</td>\n",
       "      <td>1582.0</td>\n",
       "    </tr>\n",
       "    <tr>\n",
       "      <th>2</th>\n",
       "      <td>2</td>\n",
       "      <td>Honda Jazz V</td>\n",
       "      <td>Chennai</td>\n",
       "      <td>2011</td>\n",
       "      <td>46.00</td>\n",
       "      <td>Petrol</td>\n",
       "      <td>Manual</td>\n",
       "      <td>First</td>\n",
       "      <td>18.2 kmpl</td>\n",
       "      <td>1199 CC</td>\n",
       "      <td>88.7 bhp</td>\n",
       "      <td>5.0</td>\n",
       "      <td>8.61 Lakh</td>\n",
       "      <td>5421.686747</td>\n",
       "      <td>18.20</td>\n",
       "      <td>kmpl</td>\n",
       "      <td>1199.0</td>\n",
       "    </tr>\n",
       "    <tr>\n",
       "      <th>3</th>\n",
       "      <td>3</td>\n",
       "      <td>Maruti Ertiga VDI</td>\n",
       "      <td>Chennai</td>\n",
       "      <td>2012</td>\n",
       "      <td>87.00</td>\n",
       "      <td>Diesel</td>\n",
       "      <td>Manual</td>\n",
       "      <td>First</td>\n",
       "      <td>20.77 kmpl</td>\n",
       "      <td>1248 CC</td>\n",
       "      <td>88.76 bhp</td>\n",
       "      <td>7.0</td>\n",
       "      <td>NaN</td>\n",
       "      <td>7228.915663</td>\n",
       "      <td>20.77</td>\n",
       "      <td>kmpl</td>\n",
       "      <td>1248.0</td>\n",
       "    </tr>\n",
       "    <tr>\n",
       "      <th>4</th>\n",
       "      <td>4</td>\n",
       "      <td>Audi A4 New 2.0 TDI Multitronic</td>\n",
       "      <td>Coimbatore</td>\n",
       "      <td>2013</td>\n",
       "      <td>40.67</td>\n",
       "      <td>Diesel</td>\n",
       "      <td>Automatic</td>\n",
       "      <td>Second</td>\n",
       "      <td>15.2 kmpl</td>\n",
       "      <td>1968 CC</td>\n",
       "      <td>140.8 bhp</td>\n",
       "      <td>5.0</td>\n",
       "      <td>NaN</td>\n",
       "      <td>21373.493976</td>\n",
       "      <td>15.20</td>\n",
       "      <td>kmpl</td>\n",
       "      <td>1968.0</td>\n",
       "    </tr>\n",
       "  </tbody>\n",
       "</table>\n",
       "</div>"
      ],
      "text/plain": [
       "   S.No.                              Name    Location  Year  \\\n",
       "0      0            Maruti Wagon R LXI CNG      Mumbai  2010   \n",
       "1      1  Hyundai Creta 1.6 CRDi SX Option        Pune  2015   \n",
       "2      2                      Honda Jazz V     Chennai  2011   \n",
       "3      3                 Maruti Ertiga VDI     Chennai  2012   \n",
       "4      4   Audi A4 New 2.0 TDI Multitronic  Coimbatore  2013   \n",
       "\n",
       "   Kilometers_Driven Fuel_Type Transmission Owner_Type     Mileage   Engine  \\\n",
       "0              72.00       CNG       Manual      First  26.6 km/kg   998 CC   \n",
       "1              41.00    Diesel       Manual      First  19.67 kmpl  1582 CC   \n",
       "2              46.00    Petrol       Manual      First   18.2 kmpl  1199 CC   \n",
       "3              87.00    Diesel       Manual      First  20.77 kmpl  1248 CC   \n",
       "4              40.67    Diesel    Automatic     Second   15.2 kmpl  1968 CC   \n",
       "\n",
       "       Power  Seats  New_Price         Price  fuel_economy fuel_economy_unit  \\\n",
       "0  58.16 bhp    5.0        NaN   2108.433735         26.60             km/kg   \n",
       "1  126.2 bhp    5.0        NaN  15060.240964         19.67              kmpl   \n",
       "2   88.7 bhp    5.0  8.61 Lakh   5421.686747         18.20              kmpl   \n",
       "3  88.76 bhp    7.0        NaN   7228.915663         20.77              kmpl   \n",
       "4  140.8 bhp    5.0        NaN  21373.493976         15.20              kmpl   \n",
       "\n",
       "   engine_num  \n",
       "0       998.0  \n",
       "1      1582.0  \n",
       "2      1199.0  \n",
       "3      1248.0  \n",
       "4      1968.0  "
      ]
     },
     "execution_count": 922,
     "metadata": {},
     "output_type": "execute_result"
    }
   ],
   "source": [
    "\n",
    "df[\"engine_num\"] = engine_num\n",
    "df.head(5)"
   ]
  },
  {
   "cell_type": "markdown",
   "id": "328903ef",
   "metadata": {},
   "source": [
    "### Extracting numerical value from Power"
   ]
  },
  {
   "cell_type": "code",
   "execution_count": 923,
   "id": "85e95720",
   "metadata": {},
   "outputs": [
    {
     "name": "stdout",
     "output_type": "stream",
     "text": [
      "missing value null bhp\n",
      "missing value null bhp\n",
      "missing value null bhp\n",
      "missing value null bhp\n",
      "missing value null bhp\n",
      "missing value null bhp\n",
      "missing value null bhp\n",
      "missing value null bhp\n",
      "missing value null bhp\n",
      "missing value null bhp\n",
      "missing value null bhp\n",
      "missing value null bhp\n",
      "missing value null bhp\n",
      "missing value null bhp\n",
      "missing value null bhp\n",
      "missing value null bhp\n",
      "missing value null bhp\n",
      "missing value null bhp\n",
      "missing value null bhp\n",
      "missing value null bhp\n",
      "missing value null bhp\n",
      "missing value null bhp\n",
      "missing value null bhp\n",
      "missing value null bhp\n",
      "missing value null bhp\n",
      "missing value null bhp\n",
      "missing value null bhp\n",
      "missing value null bhp\n",
      "missing value null bhp\n",
      "missing value null bhp\n",
      "missing value null bhp\n",
      "missing value null bhp\n",
      "missing value null bhp\n",
      "missing value null bhp\n",
      "missing value null bhp\n",
      "missing value null bhp\n",
      "missing value null bhp\n",
      "missing value null bhp\n",
      "missing value null bhp\n",
      "missing value null bhp\n",
      "missing value null bhp\n",
      "missing value null bhp\n",
      "missing value null bhp\n",
      "missing value null bhp\n",
      "missing value null bhp\n",
      "missing value null bhp\n",
      "missing value null bhp\n",
      "missing value null bhp\n",
      "missing value null bhp\n",
      "missing value null bhp\n",
      "missing value null bhp\n",
      "missing value null bhp\n",
      "missing value null bhp\n",
      "missing value null bhp\n",
      "missing value null bhp\n",
      "missing value null bhp\n",
      "missing value null bhp\n",
      "missing value null bhp\n",
      "missing value null bhp\n",
      "missing value null bhp\n",
      "missing value null bhp\n",
      "missing value null bhp\n",
      "missing value null bhp\n",
      "missing value null bhp\n",
      "missing value null bhp\n",
      "missing value null bhp\n",
      "missing value null bhp\n",
      "missing value null bhp\n",
      "missing value null bhp\n",
      "missing value null bhp\n",
      "missing value null bhp\n",
      "missing value null bhp\n",
      "missing value null bhp\n",
      "missing value null bhp\n",
      "missing value null bhp\n",
      "missing value null bhp\n",
      "missing value null bhp\n",
      "missing value null bhp\n",
      "missing value null bhp\n",
      "missing value null bhp\n",
      "missing value null bhp\n",
      "missing value null bhp\n",
      "missing value null bhp\n",
      "missing value null bhp\n",
      "missing value null bhp\n",
      "missing value null bhp\n",
      "missing value null bhp\n",
      "missing value null bhp\n",
      "missing value null bhp\n",
      "missing value null bhp\n",
      "missing value null bhp\n",
      "missing value null bhp\n",
      "missing value null bhp\n",
      "missing value null bhp\n",
      "missing value null bhp\n",
      "missing value null bhp\n",
      "missing value null bhp\n",
      "missing value null bhp\n",
      "missing value null bhp\n",
      "missing value null bhp\n",
      "missing value null bhp\n",
      "missing value null bhp\n",
      "missing value null bhp\n",
      "missing value null bhp\n",
      "missing value null bhp\n",
      "missing value null bhp\n",
      "missing value null bhp\n",
      "missing value null bhp\n",
      "missing value null bhp\n",
      "missing value null bhp\n",
      "missing value null bhp\n",
      "missing value null bhp\n",
      "missing value null bhp\n",
      "missing value null bhp\n",
      "missing value null bhp\n",
      "missing value null bhp\n",
      "missing value null bhp\n",
      "missing value null bhp\n",
      "missing value null bhp\n",
      "missing value null bhp\n",
      "missing value null bhp\n",
      "missing value null bhp\n",
      "missing value null bhp\n",
      "missing value null bhp\n",
      "missing value null bhp\n",
      "missing value null bhp\n",
      "missing value null bhp\n",
      "missing value null bhp\n",
      "missing value null bhp\n"
     ]
    }
   ],
   "source": [
    "\n",
    "power_num = [] #creating a new column\n",
    "\n",
    "# Regex for numeric + \" \" + \"bhp\"  format\n",
    "regex_power = \"^\\d+(\\.\\d+)? bhp$\"\n",
    "\n",
    "for n in df[\"Power\"]:\n",
    "    if isinstance(n, str):\n",
    "        if re.match(regex_power, n):\n",
    "            power_num.append(float(n.split(\" \")[0]))\n",
    "        else:\n",
    "            print(\n",
    "                \"missing value\",\n",
    "                n,\n",
    "            )\n",
    "    else:\n",
    "        # If there are any missing values in the power column, we add missing values to the new column\n",
    "        power_num.append(np.nan)"
   ]
  },
  {
   "cell_type": "code",
   "execution_count": 924,
   "id": "10739ad5",
   "metadata": {},
   "outputs": [
    {
     "data": {
      "text/html": [
       "<div>\n",
       "<style scoped>\n",
       "    .dataframe tbody tr th:only-of-type {\n",
       "        vertical-align: middle;\n",
       "    }\n",
       "\n",
       "    .dataframe tbody tr th {\n",
       "        vertical-align: top;\n",
       "    }\n",
       "\n",
       "    .dataframe thead th {\n",
       "        text-align: right;\n",
       "    }\n",
       "</style>\n",
       "<table border=\"1\" class=\"dataframe\">\n",
       "  <thead>\n",
       "    <tr style=\"text-align: right;\">\n",
       "      <th></th>\n",
       "      <th>S.No.</th>\n",
       "      <th>Name</th>\n",
       "      <th>Location</th>\n",
       "      <th>Year</th>\n",
       "      <th>Kilometers_Driven</th>\n",
       "      <th>Fuel_Type</th>\n",
       "      <th>Transmission</th>\n",
       "      <th>Owner_Type</th>\n",
       "      <th>Mileage</th>\n",
       "      <th>Engine</th>\n",
       "      <th>Power</th>\n",
       "      <th>Seats</th>\n",
       "      <th>New_Price</th>\n",
       "      <th>Price</th>\n",
       "      <th>fuel_economy</th>\n",
       "      <th>fuel_economy_unit</th>\n",
       "      <th>engine_num</th>\n",
       "      <th>power_num</th>\n",
       "    </tr>\n",
       "  </thead>\n",
       "  <tbody>\n",
       "    <tr>\n",
       "      <th>0</th>\n",
       "      <td>0</td>\n",
       "      <td>Maruti Wagon R LXI CNG</td>\n",
       "      <td>Mumbai</td>\n",
       "      <td>2010</td>\n",
       "      <td>72.000</td>\n",
       "      <td>CNG</td>\n",
       "      <td>Manual</td>\n",
       "      <td>First</td>\n",
       "      <td>26.6 km/kg</td>\n",
       "      <td>998 CC</td>\n",
       "      <td>58.16 bhp</td>\n",
       "      <td>5.0</td>\n",
       "      <td>NaN</td>\n",
       "      <td>2108.433735</td>\n",
       "      <td>26.60</td>\n",
       "      <td>km/kg</td>\n",
       "      <td>998.0</td>\n",
       "      <td>58.16</td>\n",
       "    </tr>\n",
       "    <tr>\n",
       "      <th>1</th>\n",
       "      <td>1</td>\n",
       "      <td>Hyundai Creta 1.6 CRDi SX Option</td>\n",
       "      <td>Pune</td>\n",
       "      <td>2015</td>\n",
       "      <td>41.000</td>\n",
       "      <td>Diesel</td>\n",
       "      <td>Manual</td>\n",
       "      <td>First</td>\n",
       "      <td>19.67 kmpl</td>\n",
       "      <td>1582 CC</td>\n",
       "      <td>126.2 bhp</td>\n",
       "      <td>5.0</td>\n",
       "      <td>NaN</td>\n",
       "      <td>15060.240964</td>\n",
       "      <td>19.67</td>\n",
       "      <td>kmpl</td>\n",
       "      <td>1582.0</td>\n",
       "      <td>126.20</td>\n",
       "    </tr>\n",
       "    <tr>\n",
       "      <th>2</th>\n",
       "      <td>2</td>\n",
       "      <td>Honda Jazz V</td>\n",
       "      <td>Chennai</td>\n",
       "      <td>2011</td>\n",
       "      <td>46.000</td>\n",
       "      <td>Petrol</td>\n",
       "      <td>Manual</td>\n",
       "      <td>First</td>\n",
       "      <td>18.2 kmpl</td>\n",
       "      <td>1199 CC</td>\n",
       "      <td>88.7 bhp</td>\n",
       "      <td>5.0</td>\n",
       "      <td>8.61 Lakh</td>\n",
       "      <td>5421.686747</td>\n",
       "      <td>18.20</td>\n",
       "      <td>kmpl</td>\n",
       "      <td>1199.0</td>\n",
       "      <td>88.70</td>\n",
       "    </tr>\n",
       "    <tr>\n",
       "      <th>3</th>\n",
       "      <td>3</td>\n",
       "      <td>Maruti Ertiga VDI</td>\n",
       "      <td>Chennai</td>\n",
       "      <td>2012</td>\n",
       "      <td>87.000</td>\n",
       "      <td>Diesel</td>\n",
       "      <td>Manual</td>\n",
       "      <td>First</td>\n",
       "      <td>20.77 kmpl</td>\n",
       "      <td>1248 CC</td>\n",
       "      <td>88.76 bhp</td>\n",
       "      <td>7.0</td>\n",
       "      <td>NaN</td>\n",
       "      <td>7228.915663</td>\n",
       "      <td>20.77</td>\n",
       "      <td>kmpl</td>\n",
       "      <td>1248.0</td>\n",
       "      <td>88.76</td>\n",
       "    </tr>\n",
       "    <tr>\n",
       "      <th>4</th>\n",
       "      <td>4</td>\n",
       "      <td>Audi A4 New 2.0 TDI Multitronic</td>\n",
       "      <td>Coimbatore</td>\n",
       "      <td>2013</td>\n",
       "      <td>40.670</td>\n",
       "      <td>Diesel</td>\n",
       "      <td>Automatic</td>\n",
       "      <td>Second</td>\n",
       "      <td>15.2 kmpl</td>\n",
       "      <td>1968 CC</td>\n",
       "      <td>140.8 bhp</td>\n",
       "      <td>5.0</td>\n",
       "      <td>NaN</td>\n",
       "      <td>21373.493976</td>\n",
       "      <td>15.20</td>\n",
       "      <td>kmpl</td>\n",
       "      <td>1968.0</td>\n",
       "      <td>140.80</td>\n",
       "    </tr>\n",
       "    <tr>\n",
       "      <th>5</th>\n",
       "      <td>5</td>\n",
       "      <td>Hyundai EON LPG Era Plus Option</td>\n",
       "      <td>Hyderabad</td>\n",
       "      <td>2012</td>\n",
       "      <td>75.000</td>\n",
       "      <td>LPG</td>\n",
       "      <td>Manual</td>\n",
       "      <td>First</td>\n",
       "      <td>21.1 km/kg</td>\n",
       "      <td>814 CC</td>\n",
       "      <td>55.2 bhp</td>\n",
       "      <td>5.0</td>\n",
       "      <td>NaN</td>\n",
       "      <td>2831.325301</td>\n",
       "      <td>21.10</td>\n",
       "      <td>km/kg</td>\n",
       "      <td>814.0</td>\n",
       "      <td>55.20</td>\n",
       "    </tr>\n",
       "    <tr>\n",
       "      <th>6</th>\n",
       "      <td>6</td>\n",
       "      <td>Nissan Micra Diesel XV</td>\n",
       "      <td>Jaipur</td>\n",
       "      <td>2013</td>\n",
       "      <td>86.999</td>\n",
       "      <td>Diesel</td>\n",
       "      <td>Manual</td>\n",
       "      <td>First</td>\n",
       "      <td>23.08 kmpl</td>\n",
       "      <td>1461 CC</td>\n",
       "      <td>63.1 bhp</td>\n",
       "      <td>5.0</td>\n",
       "      <td>NaN</td>\n",
       "      <td>4216.867470</td>\n",
       "      <td>23.08</td>\n",
       "      <td>kmpl</td>\n",
       "      <td>1461.0</td>\n",
       "      <td>63.10</td>\n",
       "    </tr>\n",
       "    <tr>\n",
       "      <th>7</th>\n",
       "      <td>7</td>\n",
       "      <td>Toyota Innova Crysta 2.8 GX AT 8S</td>\n",
       "      <td>Mumbai</td>\n",
       "      <td>2016</td>\n",
       "      <td>36.000</td>\n",
       "      <td>Diesel</td>\n",
       "      <td>Automatic</td>\n",
       "      <td>First</td>\n",
       "      <td>11.36 kmpl</td>\n",
       "      <td>2755 CC</td>\n",
       "      <td>171.5 bhp</td>\n",
       "      <td>8.0</td>\n",
       "      <td>21 Lakh</td>\n",
       "      <td>21084.337349</td>\n",
       "      <td>11.36</td>\n",
       "      <td>kmpl</td>\n",
       "      <td>2755.0</td>\n",
       "      <td>171.50</td>\n",
       "    </tr>\n",
       "    <tr>\n",
       "      <th>8</th>\n",
       "      <td>8</td>\n",
       "      <td>Volkswagen Vento Diesel Comfortline</td>\n",
       "      <td>Pune</td>\n",
       "      <td>2013</td>\n",
       "      <td>64.430</td>\n",
       "      <td>Diesel</td>\n",
       "      <td>Manual</td>\n",
       "      <td>First</td>\n",
       "      <td>20.54 kmpl</td>\n",
       "      <td>1598 CC</td>\n",
       "      <td>103.6 bhp</td>\n",
       "      <td>5.0</td>\n",
       "      <td>NaN</td>\n",
       "      <td>6265.060241</td>\n",
       "      <td>20.54</td>\n",
       "      <td>kmpl</td>\n",
       "      <td>1598.0</td>\n",
       "      <td>103.60</td>\n",
       "    </tr>\n",
       "    <tr>\n",
       "      <th>9</th>\n",
       "      <td>9</td>\n",
       "      <td>Tata Indica Vista Quadrajet LS</td>\n",
       "      <td>Chennai</td>\n",
       "      <td>2012</td>\n",
       "      <td>65.932</td>\n",
       "      <td>Diesel</td>\n",
       "      <td>Manual</td>\n",
       "      <td>Second</td>\n",
       "      <td>22.3 kmpl</td>\n",
       "      <td>1248 CC</td>\n",
       "      <td>74 bhp</td>\n",
       "      <td>5.0</td>\n",
       "      <td>NaN</td>\n",
       "      <td>2349.397590</td>\n",
       "      <td>22.30</td>\n",
       "      <td>kmpl</td>\n",
       "      <td>1248.0</td>\n",
       "      <td>74.00</td>\n",
       "    </tr>\n",
       "  </tbody>\n",
       "</table>\n",
       "</div>"
      ],
      "text/plain": [
       "   S.No.                                 Name    Location  Year  \\\n",
       "0      0               Maruti Wagon R LXI CNG      Mumbai  2010   \n",
       "1      1     Hyundai Creta 1.6 CRDi SX Option        Pune  2015   \n",
       "2      2                         Honda Jazz V     Chennai  2011   \n",
       "3      3                    Maruti Ertiga VDI     Chennai  2012   \n",
       "4      4      Audi A4 New 2.0 TDI Multitronic  Coimbatore  2013   \n",
       "5      5      Hyundai EON LPG Era Plus Option   Hyderabad  2012   \n",
       "6      6               Nissan Micra Diesel XV      Jaipur  2013   \n",
       "7      7    Toyota Innova Crysta 2.8 GX AT 8S      Mumbai  2016   \n",
       "8      8  Volkswagen Vento Diesel Comfortline        Pune  2013   \n",
       "9      9       Tata Indica Vista Quadrajet LS     Chennai  2012   \n",
       "\n",
       "   Kilometers_Driven Fuel_Type Transmission Owner_Type     Mileage   Engine  \\\n",
       "0             72.000       CNG       Manual      First  26.6 km/kg   998 CC   \n",
       "1             41.000    Diesel       Manual      First  19.67 kmpl  1582 CC   \n",
       "2             46.000    Petrol       Manual      First   18.2 kmpl  1199 CC   \n",
       "3             87.000    Diesel       Manual      First  20.77 kmpl  1248 CC   \n",
       "4             40.670    Diesel    Automatic     Second   15.2 kmpl  1968 CC   \n",
       "5             75.000       LPG       Manual      First  21.1 km/kg   814 CC   \n",
       "6             86.999    Diesel       Manual      First  23.08 kmpl  1461 CC   \n",
       "7             36.000    Diesel    Automatic      First  11.36 kmpl  2755 CC   \n",
       "8             64.430    Diesel       Manual      First  20.54 kmpl  1598 CC   \n",
       "9             65.932    Diesel       Manual     Second   22.3 kmpl  1248 CC   \n",
       "\n",
       "       Power  Seats  New_Price         Price  fuel_economy fuel_economy_unit  \\\n",
       "0  58.16 bhp    5.0        NaN   2108.433735         26.60             km/kg   \n",
       "1  126.2 bhp    5.0        NaN  15060.240964         19.67              kmpl   \n",
       "2   88.7 bhp    5.0  8.61 Lakh   5421.686747         18.20              kmpl   \n",
       "3  88.76 bhp    7.0        NaN   7228.915663         20.77              kmpl   \n",
       "4  140.8 bhp    5.0        NaN  21373.493976         15.20              kmpl   \n",
       "5   55.2 bhp    5.0        NaN   2831.325301         21.10             km/kg   \n",
       "6   63.1 bhp    5.0        NaN   4216.867470         23.08              kmpl   \n",
       "7  171.5 bhp    8.0    21 Lakh  21084.337349         11.36              kmpl   \n",
       "8  103.6 bhp    5.0        NaN   6265.060241         20.54              kmpl   \n",
       "9     74 bhp    5.0        NaN   2349.397590         22.30              kmpl   \n",
       "\n",
       "   engine_num  power_num  \n",
       "0       998.0      58.16  \n",
       "1      1582.0     126.20  \n",
       "2      1199.0      88.70  \n",
       "3      1248.0      88.76  \n",
       "4      1968.0     140.80  \n",
       "5       814.0      55.20  \n",
       "6      1461.0      63.10  \n",
       "7      2755.0     171.50  \n",
       "8      1598.0     103.60  \n",
       "9      1248.0      74.00  "
      ]
     },
     "execution_count": 924,
     "metadata": {},
     "output_type": "execute_result"
    }
   ],
   "source": [
    "power_num = []\n",
    "\n",
    "for n in df[\"Power\"]:\n",
    "    if isinstance(n, str):\n",
    "        if re.match(regex_power, n):\n",
    "            power_num.append(float(n.split(\" \")[0]))\n",
    "        else:\n",
    "            power_num.append(np.nan)\n",
    "    else:\n",
    "        # If there are any missing values in the power column, we add missing values to the new column\n",
    "        power_num.append(np.nan)\n",
    "\n",
    "\n",
    "df[\"power_num\"] = power_num\n",
    "\n",
    "df.head(10) "
   ]
  },
  {
   "cell_type": "markdown",
   "id": "7fd00ece",
   "metadata": {},
   "source": [
    "### Extracting numerical value from New price"
   ]
  },
  {
   "cell_type": "code",
   "execution_count": 925,
   "id": "1f7d5ba4",
   "metadata": {},
   "outputs": [
    {
     "name": "stdout",
     "output_type": "stream",
     "text": [
      "Not processed. All values are not similar  1.28 Cr\n",
      "Not processed. All values are not similar  1.04 Cr\n",
      "Not processed. All values are not similar  1 Cr\n",
      "Not processed. All values are not similar  1.04 Cr\n",
      "Not processed. All values are not similar  1.39 Cr\n",
      "Not processed. All values are not similar  1.02 Cr\n",
      "Not processed. All values are not similar  1.4 Cr\n",
      "Not processed. All values are not similar  1.06 Cr\n",
      "Not processed. All values are not similar  1.27 Cr\n",
      "Not processed. All values are not similar  1.13 Cr\n",
      "Not processed. All values are not similar  1.36 Cr\n",
      "Not processed. All values are not similar  1.66 Cr\n",
      "Not processed. All values are not similar  1.6 Cr\n",
      "Not processed. All values are not similar  1.28 Cr\n",
      "Not processed. All values are not similar  2.3 Cr\n",
      "Not processed. All values are not similar  1.71 Cr\n",
      "Not processed. All values are not similar  1.39 Cr\n",
      "Not processed. All values are not similar  1.58 Cr\n",
      "Not processed. All values are not similar  3.75 Cr\n",
      "Not processed. All values are not similar  1.06 Cr\n"
     ]
    }
   ],
   "source": [
    "\n",
    "new_price_num = [] # Creating a new column for New_Price values.\n",
    "\n",
    "# Regex for numeric + \" \" + \"Lakh\"  format\n",
    "regex_power = \"^\\d+(\\.\\d+)? Lakh$\"\n",
    "\n",
    "for n in df[\"New_Price\"]:\n",
    "    if isinstance(n, str):\n",
    "        if re.match(regex_power, n):\n",
    "            new_price_num.append(float(n.split(\" \")[0]))\n",
    "        else:\n",
    "            print(\n",
    "                \"Not processed. All values are not similar \",\n",
    "                n,\n",
    "            )\n",
    "    else:\n",
    "        # If there are any missing values in the New_Price column, we add missing values to the new column\n",
    "        new_price_num.append(np.nan)"
   ]
  },
  {
   "cell_type": "code",
   "execution_count": 926,
   "id": "32858596",
   "metadata": {},
   "outputs": [
    {
     "data": {
      "text/html": [
       "<div>\n",
       "<style scoped>\n",
       "    .dataframe tbody tr th:only-of-type {\n",
       "        vertical-align: middle;\n",
       "    }\n",
       "\n",
       "    .dataframe tbody tr th {\n",
       "        vertical-align: top;\n",
       "    }\n",
       "\n",
       "    .dataframe thead th {\n",
       "        text-align: right;\n",
       "    }\n",
       "</style>\n",
       "<table border=\"1\" class=\"dataframe\">\n",
       "  <thead>\n",
       "    <tr style=\"text-align: right;\">\n",
       "      <th></th>\n",
       "      <th>S.No.</th>\n",
       "      <th>Name</th>\n",
       "      <th>Location</th>\n",
       "      <th>Year</th>\n",
       "      <th>Kilometers_Driven</th>\n",
       "      <th>Fuel_Type</th>\n",
       "      <th>Transmission</th>\n",
       "      <th>Owner_Type</th>\n",
       "      <th>Mileage</th>\n",
       "      <th>Engine</th>\n",
       "      <th>Power</th>\n",
       "      <th>Seats</th>\n",
       "      <th>New_Price</th>\n",
       "      <th>Price</th>\n",
       "      <th>fuel_economy</th>\n",
       "      <th>fuel_economy_unit</th>\n",
       "      <th>engine_num</th>\n",
       "      <th>power_num</th>\n",
       "      <th>new_price_num</th>\n",
       "    </tr>\n",
       "  </thead>\n",
       "  <tbody>\n",
       "    <tr>\n",
       "      <th>0</th>\n",
       "      <td>0</td>\n",
       "      <td>Maruti Wagon R LXI CNG</td>\n",
       "      <td>Mumbai</td>\n",
       "      <td>2010</td>\n",
       "      <td>72.00</td>\n",
       "      <td>CNG</td>\n",
       "      <td>Manual</td>\n",
       "      <td>First</td>\n",
       "      <td>26.6 km/kg</td>\n",
       "      <td>998 CC</td>\n",
       "      <td>58.16 bhp</td>\n",
       "      <td>5.0</td>\n",
       "      <td>NaN</td>\n",
       "      <td>2108.433735</td>\n",
       "      <td>26.60</td>\n",
       "      <td>km/kg</td>\n",
       "      <td>998.0</td>\n",
       "      <td>58.16</td>\n",
       "      <td>NaN</td>\n",
       "    </tr>\n",
       "    <tr>\n",
       "      <th>1</th>\n",
       "      <td>1</td>\n",
       "      <td>Hyundai Creta 1.6 CRDi SX Option</td>\n",
       "      <td>Pune</td>\n",
       "      <td>2015</td>\n",
       "      <td>41.00</td>\n",
       "      <td>Diesel</td>\n",
       "      <td>Manual</td>\n",
       "      <td>First</td>\n",
       "      <td>19.67 kmpl</td>\n",
       "      <td>1582 CC</td>\n",
       "      <td>126.2 bhp</td>\n",
       "      <td>5.0</td>\n",
       "      <td>NaN</td>\n",
       "      <td>15060.240964</td>\n",
       "      <td>19.67</td>\n",
       "      <td>kmpl</td>\n",
       "      <td>1582.0</td>\n",
       "      <td>126.20</td>\n",
       "      <td>NaN</td>\n",
       "    </tr>\n",
       "    <tr>\n",
       "      <th>2</th>\n",
       "      <td>2</td>\n",
       "      <td>Honda Jazz V</td>\n",
       "      <td>Chennai</td>\n",
       "      <td>2011</td>\n",
       "      <td>46.00</td>\n",
       "      <td>Petrol</td>\n",
       "      <td>Manual</td>\n",
       "      <td>First</td>\n",
       "      <td>18.2 kmpl</td>\n",
       "      <td>1199 CC</td>\n",
       "      <td>88.7 bhp</td>\n",
       "      <td>5.0</td>\n",
       "      <td>8.61 Lakh</td>\n",
       "      <td>5421.686747</td>\n",
       "      <td>18.20</td>\n",
       "      <td>kmpl</td>\n",
       "      <td>1199.0</td>\n",
       "      <td>88.70</td>\n",
       "      <td>8.61</td>\n",
       "    </tr>\n",
       "    <tr>\n",
       "      <th>3</th>\n",
       "      <td>3</td>\n",
       "      <td>Maruti Ertiga VDI</td>\n",
       "      <td>Chennai</td>\n",
       "      <td>2012</td>\n",
       "      <td>87.00</td>\n",
       "      <td>Diesel</td>\n",
       "      <td>Manual</td>\n",
       "      <td>First</td>\n",
       "      <td>20.77 kmpl</td>\n",
       "      <td>1248 CC</td>\n",
       "      <td>88.76 bhp</td>\n",
       "      <td>7.0</td>\n",
       "      <td>NaN</td>\n",
       "      <td>7228.915663</td>\n",
       "      <td>20.77</td>\n",
       "      <td>kmpl</td>\n",
       "      <td>1248.0</td>\n",
       "      <td>88.76</td>\n",
       "      <td>NaN</td>\n",
       "    </tr>\n",
       "    <tr>\n",
       "      <th>4</th>\n",
       "      <td>4</td>\n",
       "      <td>Audi A4 New 2.0 TDI Multitronic</td>\n",
       "      <td>Coimbatore</td>\n",
       "      <td>2013</td>\n",
       "      <td>40.67</td>\n",
       "      <td>Diesel</td>\n",
       "      <td>Automatic</td>\n",
       "      <td>Second</td>\n",
       "      <td>15.2 kmpl</td>\n",
       "      <td>1968 CC</td>\n",
       "      <td>140.8 bhp</td>\n",
       "      <td>5.0</td>\n",
       "      <td>NaN</td>\n",
       "      <td>21373.493976</td>\n",
       "      <td>15.20</td>\n",
       "      <td>kmpl</td>\n",
       "      <td>1968.0</td>\n",
       "      <td>140.80</td>\n",
       "      <td>NaN</td>\n",
       "    </tr>\n",
       "  </tbody>\n",
       "</table>\n",
       "</div>"
      ],
      "text/plain": [
       "   S.No.                              Name    Location  Year  \\\n",
       "0      0            Maruti Wagon R LXI CNG      Mumbai  2010   \n",
       "1      1  Hyundai Creta 1.6 CRDi SX Option        Pune  2015   \n",
       "2      2                      Honda Jazz V     Chennai  2011   \n",
       "3      3                 Maruti Ertiga VDI     Chennai  2012   \n",
       "4      4   Audi A4 New 2.0 TDI Multitronic  Coimbatore  2013   \n",
       "\n",
       "   Kilometers_Driven Fuel_Type Transmission Owner_Type     Mileage   Engine  \\\n",
       "0              72.00       CNG       Manual      First  26.6 km/kg   998 CC   \n",
       "1              41.00    Diesel       Manual      First  19.67 kmpl  1582 CC   \n",
       "2              46.00    Petrol       Manual      First   18.2 kmpl  1199 CC   \n",
       "3              87.00    Diesel       Manual      First  20.77 kmpl  1248 CC   \n",
       "4              40.67    Diesel    Automatic     Second   15.2 kmpl  1968 CC   \n",
       "\n",
       "       Power  Seats  New_Price         Price  fuel_economy fuel_economy_unit  \\\n",
       "0  58.16 bhp    5.0        NaN   2108.433735         26.60             km/kg   \n",
       "1  126.2 bhp    5.0        NaN  15060.240964         19.67              kmpl   \n",
       "2   88.7 bhp    5.0  8.61 Lakh   5421.686747         18.20              kmpl   \n",
       "3  88.76 bhp    7.0        NaN   7228.915663         20.77              kmpl   \n",
       "4  140.8 bhp    5.0        NaN  21373.493976         15.20              kmpl   \n",
       "\n",
       "   engine_num  power_num  new_price_num  \n",
       "0       998.0      58.16            NaN  \n",
       "1      1582.0     126.20            NaN  \n",
       "2      1199.0      88.70           8.61  \n",
       "3      1248.0      88.76            NaN  \n",
       "4      1968.0     140.80            NaN  "
      ]
     },
     "execution_count": 926,
     "metadata": {},
     "output_type": "execute_result"
    }
   ],
   "source": [
    "new_price_num = [] #creating new column for new_price\n",
    "\n",
    "for n in df[\"New_Price\"]:\n",
    "    if isinstance(n, str):\n",
    "        if re.match(regex_power, n):\n",
    "            new_price_num.append(float(n.split(\" \")[0]))\n",
    "        else:\n",
    "            new_price_num.append(float(n.split(\" \")[0]) * 100)\n",
    "    else:\n",
    "        # If there are any missing values in the New_Price column, we add missing values to the new column\n",
    "        new_price_num.append(np.nan)\n",
    "\n",
    "# adding the new column to the data\n",
    "df[\"new_price_num\"] = new_price_num\n",
    "df.head(5) "
   ]
  },
  {
   "cell_type": "code",
   "execution_count": 927,
   "id": "d5d2ff59",
   "metadata": {},
   "outputs": [],
   "source": [
    "#droping \"Mileage\", \"mileage_unit\", \"Engine\", \"Power\", \"New_Price\" since they are not needed anymore.\n",
    "df.drop(columns=[\"Mileage\", \"fuel_economy_unit\", \"Engine\", \"Power\", \"New_Price\"], inplace = True)"
   ]
  },
  {
   "cell_type": "code",
   "execution_count": 928,
   "id": "c1ca0cda",
   "metadata": {},
   "outputs": [
    {
     "data": {
      "text/html": [
       "<div>\n",
       "<style scoped>\n",
       "    .dataframe tbody tr th:only-of-type {\n",
       "        vertical-align: middle;\n",
       "    }\n",
       "\n",
       "    .dataframe tbody tr th {\n",
       "        vertical-align: top;\n",
       "    }\n",
       "\n",
       "    .dataframe thead th {\n",
       "        text-align: right;\n",
       "    }\n",
       "</style>\n",
       "<table border=\"1\" class=\"dataframe\">\n",
       "  <thead>\n",
       "    <tr style=\"text-align: right;\">\n",
       "      <th></th>\n",
       "      <th>S.No.</th>\n",
       "      <th>Year</th>\n",
       "      <th>Kilometers_Driven</th>\n",
       "      <th>Seats</th>\n",
       "      <th>Price</th>\n",
       "      <th>fuel_economy</th>\n",
       "      <th>engine_num</th>\n",
       "      <th>power_num</th>\n",
       "      <th>new_price_num</th>\n",
       "    </tr>\n",
       "  </thead>\n",
       "  <tbody>\n",
       "    <tr>\n",
       "      <th>count</th>\n",
       "      <td>7253.000000</td>\n",
       "      <td>7253.000000</td>\n",
       "      <td>7253.000000</td>\n",
       "      <td>7200.000000</td>\n",
       "      <td>6019.000000</td>\n",
       "      <td>7251.000000</td>\n",
       "      <td>7207.000000</td>\n",
       "      <td>7078.000000</td>\n",
       "      <td>1006.000000</td>\n",
       "    </tr>\n",
       "    <tr>\n",
       "      <th>mean</th>\n",
       "      <td>3626.000000</td>\n",
       "      <td>2013.365366</td>\n",
       "      <td>58.699063</td>\n",
       "      <td>5.279722</td>\n",
       "      <td>11421.046205</td>\n",
       "      <td>18.141580</td>\n",
       "      <td>1616.573470</td>\n",
       "      <td>112.765214</td>\n",
       "      <td>22.779692</td>\n",
       "    </tr>\n",
       "    <tr>\n",
       "      <th>std</th>\n",
       "      <td>2093.905084</td>\n",
       "      <td>3.254421</td>\n",
       "      <td>84.427721</td>\n",
       "      <td>0.811660</td>\n",
       "      <td>13479.418208</td>\n",
       "      <td>4.562197</td>\n",
       "      <td>595.285137</td>\n",
       "      <td>53.493553</td>\n",
       "      <td>27.759344</td>\n",
       "    </tr>\n",
       "    <tr>\n",
       "      <th>min</th>\n",
       "      <td>0.000000</td>\n",
       "      <td>1996.000000</td>\n",
       "      <td>0.171000</td>\n",
       "      <td>0.000000</td>\n",
       "      <td>530.120482</td>\n",
       "      <td>0.000000</td>\n",
       "      <td>72.000000</td>\n",
       "      <td>34.200000</td>\n",
       "      <td>3.910000</td>\n",
       "    </tr>\n",
       "    <tr>\n",
       "      <th>25%</th>\n",
       "      <td>1813.000000</td>\n",
       "      <td>2011.000000</td>\n",
       "      <td>34.000000</td>\n",
       "      <td>5.000000</td>\n",
       "      <td>4216.867470</td>\n",
       "      <td>15.170000</td>\n",
       "      <td>1198.000000</td>\n",
       "      <td>75.000000</td>\n",
       "      <td>7.885000</td>\n",
       "    </tr>\n",
       "    <tr>\n",
       "      <th>50%</th>\n",
       "      <td>3626.000000</td>\n",
       "      <td>2014.000000</td>\n",
       "      <td>53.416000</td>\n",
       "      <td>5.000000</td>\n",
       "      <td>6795.180723</td>\n",
       "      <td>18.160000</td>\n",
       "      <td>1493.000000</td>\n",
       "      <td>94.000000</td>\n",
       "      <td>11.570000</td>\n",
       "    </tr>\n",
       "    <tr>\n",
       "      <th>75%</th>\n",
       "      <td>5439.000000</td>\n",
       "      <td>2016.000000</td>\n",
       "      <td>73.000000</td>\n",
       "      <td>5.000000</td>\n",
       "      <td>11987.951807</td>\n",
       "      <td>21.100000</td>\n",
       "      <td>1968.000000</td>\n",
       "      <td>138.100000</td>\n",
       "      <td>26.042500</td>\n",
       "    </tr>\n",
       "    <tr>\n",
       "      <th>max</th>\n",
       "      <td>7252.000000</td>\n",
       "      <td>2019.000000</td>\n",
       "      <td>6500.000000</td>\n",
       "      <td>10.000000</td>\n",
       "      <td>192771.084337</td>\n",
       "      <td>33.540000</td>\n",
       "      <td>5998.000000</td>\n",
       "      <td>616.000000</td>\n",
       "      <td>375.000000</td>\n",
       "    </tr>\n",
       "  </tbody>\n",
       "</table>\n",
       "</div>"
      ],
      "text/plain": [
       "             S.No.         Year  Kilometers_Driven        Seats  \\\n",
       "count  7253.000000  7253.000000        7253.000000  7200.000000   \n",
       "mean   3626.000000  2013.365366          58.699063     5.279722   \n",
       "std    2093.905084     3.254421          84.427721     0.811660   \n",
       "min       0.000000  1996.000000           0.171000     0.000000   \n",
       "25%    1813.000000  2011.000000          34.000000     5.000000   \n",
       "50%    3626.000000  2014.000000          53.416000     5.000000   \n",
       "75%    5439.000000  2016.000000          73.000000     5.000000   \n",
       "max    7252.000000  2019.000000        6500.000000    10.000000   \n",
       "\n",
       "               Price  fuel_economy   engine_num    power_num  new_price_num  \n",
       "count    6019.000000   7251.000000  7207.000000  7078.000000    1006.000000  \n",
       "mean    11421.046205     18.141580  1616.573470   112.765214      22.779692  \n",
       "std     13479.418208      4.562197   595.285137    53.493553      27.759344  \n",
       "min       530.120482      0.000000    72.000000    34.200000       3.910000  \n",
       "25%      4216.867470     15.170000  1198.000000    75.000000       7.885000  \n",
       "50%      6795.180723     18.160000  1493.000000    94.000000      11.570000  \n",
       "75%     11987.951807     21.100000  1968.000000   138.100000      26.042500  \n",
       "max    192771.084337     33.540000  5998.000000   616.000000     375.000000  "
      ]
     },
     "execution_count": 928,
     "metadata": {},
     "output_type": "execute_result"
    }
   ],
   "source": [
    "df.describe()"
   ]
  },
  {
   "cell_type": "code",
   "execution_count": 929,
   "id": "f8c5c50d",
   "metadata": {},
   "outputs": [
    {
     "data": {
      "text/html": [
       "<div>\n",
       "<style scoped>\n",
       "    .dataframe tbody tr th:only-of-type {\n",
       "        vertical-align: middle;\n",
       "    }\n",
       "\n",
       "    .dataframe tbody tr th {\n",
       "        vertical-align: top;\n",
       "    }\n",
       "\n",
       "    .dataframe thead th {\n",
       "        text-align: right;\n",
       "    }\n",
       "</style>\n",
       "<table border=\"1\" class=\"dataframe\">\n",
       "  <thead>\n",
       "    <tr style=\"text-align: right;\">\n",
       "      <th></th>\n",
       "      <th>S.No.</th>\n",
       "      <th>Name</th>\n",
       "      <th>Location</th>\n",
       "      <th>Year</th>\n",
       "      <th>Kilometers_Driven</th>\n",
       "      <th>Fuel_Type</th>\n",
       "      <th>Transmission</th>\n",
       "      <th>Owner_Type</th>\n",
       "      <th>Seats</th>\n",
       "      <th>Price</th>\n",
       "      <th>fuel_economy</th>\n",
       "      <th>engine_num</th>\n",
       "      <th>power_num</th>\n",
       "      <th>new_price_num</th>\n",
       "    </tr>\n",
       "  </thead>\n",
       "  <tbody>\n",
       "    <tr>\n",
       "      <th>2328</th>\n",
       "      <td>2328</td>\n",
       "      <td>BMW X5 xDrive 30d M Sport</td>\n",
       "      <td>Chennai</td>\n",
       "      <td>2017</td>\n",
       "      <td>6500.0</td>\n",
       "      <td>Diesel</td>\n",
       "      <td>Automatic</td>\n",
       "      <td>First</td>\n",
       "      <td>5.0</td>\n",
       "      <td>78313.253012</td>\n",
       "      <td>15.97</td>\n",
       "      <td>2993.0</td>\n",
       "      <td>258.0</td>\n",
       "      <td>NaN</td>\n",
       "    </tr>\n",
       "  </tbody>\n",
       "</table>\n",
       "</div>"
      ],
      "text/plain": [
       "      S.No.                       Name Location  Year  Kilometers_Driven  \\\n",
       "2328   2328  BMW X5 xDrive 30d M Sport  Chennai  2017             6500.0   \n",
       "\n",
       "     Fuel_Type Transmission Owner_Type  Seats         Price  fuel_economy  \\\n",
       "2328    Diesel    Automatic      First    5.0  78313.253012         15.97   \n",
       "\n",
       "      engine_num  power_num  new_price_num  \n",
       "2328      2993.0      258.0            NaN  "
      ]
     },
     "execution_count": 929,
     "metadata": {},
     "output_type": "execute_result"
    }
   ],
   "source": [
    "df[df['Kilometers_Driven'] == 6500 ] # finding outlier for kilometer_Driven"
   ]
  },
  {
   "cell_type": "code",
   "execution_count": 930,
   "id": "1f6a8c30",
   "metadata": {},
   "outputs": [],
   "source": [
    "df = df.drop(df[df['Kilometers_Driven'] == 6500].index) #dropping outlier"
   ]
  },
  {
   "cell_type": "code",
   "execution_count": 931,
   "id": "c8feba6a",
   "metadata": {},
   "outputs": [
    {
     "name": "stderr",
     "output_type": "stream",
     "text": [
      "/Users/muhammadraees/opt/anaconda3/lib/python3.9/site-packages/seaborn/distributions.py:2619: FutureWarning: `distplot` is a deprecated function and will be removed in a future version. Please adapt your code to use either `displot` (a figure-level function with similar flexibility) or `histplot` (an axes-level function for histograms).\n",
      "  warnings.warn(msg, FutureWarning)\n"
     ]
    },
    {
     "data": {
      "text/plain": [
       "[Text(0.5, 1.0, 'Distribution of Price ')]"
      ]
     },
     "execution_count": 931,
     "metadata": {},
     "output_type": "execute_result"
    },
    {
     "data": {
      "image/png": "[encoded data removed]",
      "text/plain": [
       "<Figure size 432x288 with 1 Axes>"
      ]
     },
     "metadata": {
      "needs_background": "light"
     },
     "output_type": "display_data"
    }
   ],
   "source": [
    "#checking price distribution\n",
    "sns.distplot(df[\"Price\"]).set(\n",
    "    title=\"Distribution of Price \") "
   ]
  },
  {
   "cell_type": "markdown",
   "id": "ead4eaee",
   "metadata": {},
   "source": [
    "Price has right skewed distribution"
   ]
  },
  {
   "cell_type": "code",
   "execution_count": 932,
   "id": "23aa4d33",
   "metadata": {
    "scrolled": true
   },
   "outputs": [
    {
     "data": {
      "text/plain": [
       "S.No.                   0\n",
       "Name                    0\n",
       "Location                0\n",
       "Year                    0\n",
       "Kilometers_Driven       0\n",
       "Fuel_Type               0\n",
       "Transmission            0\n",
       "Owner_Type              0\n",
       "Seats                  53\n",
       "Price                1234\n",
       "fuel_economy            2\n",
       "engine_num             46\n",
       "power_num             175\n",
       "new_price_num        6246\n",
       "dtype: int64"
      ]
     },
     "execution_count": 932,
     "metadata": {},
     "output_type": "execute_result"
    }
   ],
   "source": [
    "df.isnull().sum()"
   ]
  },
  {
   "cell_type": "code",
   "execution_count": 933,
   "id": "4d254b67",
   "metadata": {},
   "outputs": [
    {
     "data": {
      "text/html": [
       "<div>\n",
       "<style scoped>\n",
       "    .dataframe tbody tr th:only-of-type {\n",
       "        vertical-align: middle;\n",
       "    }\n",
       "\n",
       "    .dataframe tbody tr th {\n",
       "        vertical-align: top;\n",
       "    }\n",
       "\n",
       "    .dataframe thead th {\n",
       "        text-align: right;\n",
       "    }\n",
       "</style>\n",
       "<table border=\"1\" class=\"dataframe\">\n",
       "  <thead>\n",
       "    <tr style=\"text-align: right;\">\n",
       "      <th></th>\n",
       "      <th>S.No.</th>\n",
       "      <th>Name</th>\n",
       "      <th>Location</th>\n",
       "      <th>Year</th>\n",
       "      <th>Kilometers_Driven</th>\n",
       "      <th>Fuel_Type</th>\n",
       "      <th>Transmission</th>\n",
       "      <th>Owner_Type</th>\n",
       "      <th>Seats</th>\n",
       "      <th>Price</th>\n",
       "      <th>fuel_economy</th>\n",
       "      <th>engine_num</th>\n",
       "      <th>power_num</th>\n",
       "      <th>new_price_num</th>\n",
       "    </tr>\n",
       "  </thead>\n",
       "  <tbody>\n",
       "    <tr>\n",
       "      <th>4446</th>\n",
       "      <td>4446</td>\n",
       "      <td>Mahindra E Verito D4</td>\n",
       "      <td>Chennai</td>\n",
       "      <td>2016</td>\n",
       "      <td>50.0</td>\n",
       "      <td>Electric</td>\n",
       "      <td>Automatic</td>\n",
       "      <td>First</td>\n",
       "      <td>5.0</td>\n",
       "      <td>15662.650602</td>\n",
       "      <td>NaN</td>\n",
       "      <td>72.0</td>\n",
       "      <td>41.0</td>\n",
       "      <td>13.58</td>\n",
       "    </tr>\n",
       "    <tr>\n",
       "      <th>4904</th>\n",
       "      <td>4904</td>\n",
       "      <td>Toyota Prius 2009-2016 Z4</td>\n",
       "      <td>Mumbai</td>\n",
       "      <td>2011</td>\n",
       "      <td>44.0</td>\n",
       "      <td>Electric</td>\n",
       "      <td>Automatic</td>\n",
       "      <td>First</td>\n",
       "      <td>5.0</td>\n",
       "      <td>15361.445783</td>\n",
       "      <td>NaN</td>\n",
       "      <td>1798.0</td>\n",
       "      <td>73.0</td>\n",
       "      <td>NaN</td>\n",
       "    </tr>\n",
       "  </tbody>\n",
       "</table>\n",
       "</div>"
      ],
      "text/plain": [
       "      S.No.                       Name Location  Year  Kilometers_Driven  \\\n",
       "4446   4446       Mahindra E Verito D4  Chennai  2016               50.0   \n",
       "4904   4904  Toyota Prius 2009-2016 Z4   Mumbai  2011               44.0   \n",
       "\n",
       "     Fuel_Type Transmission Owner_Type  Seats         Price  fuel_economy  \\\n",
       "4446  Electric    Automatic      First    5.0  15662.650602           NaN   \n",
       "4904  Electric    Automatic      First    5.0  15361.445783           NaN   \n",
       "\n",
       "      engine_num  power_num  new_price_num  \n",
       "4446        72.0       41.0          13.58  \n",
       "4904      1798.0       73.0            NaN  "
      ]
     },
     "execution_count": 933,
     "metadata": {},
     "output_type": "execute_result"
    }
   ],
   "source": [
    "df[df['fuel_economy'].isnull()] # finding null values in fuel_type"
   ]
  },
  {
   "cell_type": "markdown",
   "id": "454cf8ae",
   "metadata": {},
   "source": [
    "There are only two cars in the dataset that are electric so its better to drop them."
   ]
  },
  {
   "cell_type": "code",
   "execution_count": 934,
   "id": "18c9c7f8",
   "metadata": {},
   "outputs": [],
   "source": [
    "df = df.drop(df[df['Fuel_Type'] == 'Electric'].index)"
   ]
  },
  {
   "cell_type": "code",
   "execution_count": 935,
   "id": "4bd99504",
   "metadata": {},
   "outputs": [],
   "source": [
    "df['fuel_economy'].replace(0, np.nan, inplace=True) #replacing 0 values with null so they can be imputed later"
   ]
  },
  {
   "cell_type": "code",
   "execution_count": 936,
   "id": "20d2c2b2",
   "metadata": {},
   "outputs": [
    {
     "data": {
      "text/plain": [
       "81"
      ]
     },
     "execution_count": 936,
     "metadata": {},
     "output_type": "execute_result"
    }
   ],
   "source": [
    "df['fuel_economy'].isnull().sum()"
   ]
  },
  {
   "cell_type": "code",
   "execution_count": 937,
   "id": "127ccf34",
   "metadata": {},
   "outputs": [
    {
     "data": {
      "text/plain": [
       "[Text(0.5, 1.0, 'Boxplot of Price and Fuel Type'),\n",
       " Text(0, 0.5, 'Price (dollars)')]"
      ]
     },
     "execution_count": 937,
     "metadata": {},
     "output_type": "execute_result"
    },
    {
     "data": {
      "image/png": "[encoded data removed]",
      "text/plain": [
       "<Figure size 432x288 with 1 Axes>"
      ]
     },
     "metadata": {
      "needs_background": "light"
     },
     "output_type": "display_data"
    }
   ],
   "source": [
    "sns.boxplot(x = df['Fuel_Type'], y = df['Price'], showfliers = False,\n",
    "           ).set(title=\"Boxplot of Price and Fuel Type\", ylabel = 'Price (dollars)')"
   ]
  },
  {
   "cell_type": "code",
   "execution_count": 938,
   "id": "57ce2d5a",
   "metadata": {},
   "outputs": [
    {
     "data": {
      "text/html": [
       "<div>\n",
       "<style scoped>\n",
       "    .dataframe tbody tr th:only-of-type {\n",
       "        vertical-align: middle;\n",
       "    }\n",
       "\n",
       "    .dataframe tbody tr th {\n",
       "        vertical-align: top;\n",
       "    }\n",
       "\n",
       "    .dataframe thead th {\n",
       "        text-align: right;\n",
       "    }\n",
       "</style>\n",
       "<table border=\"1\" class=\"dataframe\">\n",
       "  <thead>\n",
       "    <tr style=\"text-align: right;\">\n",
       "      <th></th>\n",
       "      <th>S.No.</th>\n",
       "      <th>Name</th>\n",
       "      <th>Location</th>\n",
       "      <th>Year</th>\n",
       "      <th>Kilometers_Driven</th>\n",
       "      <th>Fuel_Type</th>\n",
       "      <th>Transmission</th>\n",
       "      <th>Owner_Type</th>\n",
       "      <th>Seats</th>\n",
       "      <th>Price</th>\n",
       "      <th>fuel_economy</th>\n",
       "      <th>engine_num</th>\n",
       "      <th>power_num</th>\n",
       "      <th>new_price_num</th>\n",
       "    </tr>\n",
       "  </thead>\n",
       "  <tbody>\n",
       "    <tr>\n",
       "      <th>5521</th>\n",
       "      <td>5521</td>\n",
       "      <td>Bentley Continental Flying Spur</td>\n",
       "      <td>Hyderabad</td>\n",
       "      <td>2006</td>\n",
       "      <td>48.0</td>\n",
       "      <td>Petrol</td>\n",
       "      <td>Automatic</td>\n",
       "      <td>First</td>\n",
       "      <td>4.0</td>\n",
       "      <td>71084.337349</td>\n",
       "      <td>8.6</td>\n",
       "      <td>5998.0</td>\n",
       "      <td>552.0</td>\n",
       "      <td>NaN</td>\n",
       "    </tr>\n",
       "    <tr>\n",
       "      <th>6354</th>\n",
       "      <td>6354</td>\n",
       "      <td>Bentley Flying Spur W12</td>\n",
       "      <td>Bangalore</td>\n",
       "      <td>2008</td>\n",
       "      <td>31.2</td>\n",
       "      <td>Petrol</td>\n",
       "      <td>Automatic</td>\n",
       "      <td>Second</td>\n",
       "      <td>5.0</td>\n",
       "      <td>NaN</td>\n",
       "      <td>10.2</td>\n",
       "      <td>5998.0</td>\n",
       "      <td>616.0</td>\n",
       "      <td>375.0</td>\n",
       "    </tr>\n",
       "  </tbody>\n",
       "</table>\n",
       "</div>"
      ],
      "text/plain": [
       "      S.No.                             Name   Location  Year  \\\n",
       "5521   5521  Bentley Continental Flying Spur  Hyderabad  2006   \n",
       "6354   6354          Bentley Flying Spur W12  Bangalore  2008   \n",
       "\n",
       "      Kilometers_Driven Fuel_Type Transmission Owner_Type  Seats  \\\n",
       "5521               48.0    Petrol    Automatic      First    4.0   \n",
       "6354               31.2    Petrol    Automatic     Second    5.0   \n",
       "\n",
       "             Price  fuel_economy  engine_num  power_num  new_price_num  \n",
       "5521  71084.337349           8.6      5998.0      552.0            NaN  \n",
       "6354           NaN          10.2      5998.0      616.0          375.0  "
      ]
     },
     "execution_count": 938,
     "metadata": {},
     "output_type": "execute_result"
    }
   ],
   "source": [
    "df.loc[df[\"engine_num\"] == 5998] #accroding to the stats table 5998 was too high for engine."
   ]
  },
  {
   "cell_type": "markdown",
   "id": "1df03ac3",
   "metadata": {},
   "source": [
    "5998 is not an outlier since bentley is luxury car an it has a high powered engine"
   ]
  },
  {
   "cell_type": "code",
   "execution_count": 939,
   "id": "d5544603",
   "metadata": {},
   "outputs": [
    {
     "data": {
      "text/html": [
       "<div>\n",
       "<style scoped>\n",
       "    .dataframe tbody tr th:only-of-type {\n",
       "        vertical-align: middle;\n",
       "    }\n",
       "\n",
       "    .dataframe tbody tr th {\n",
       "        vertical-align: top;\n",
       "    }\n",
       "\n",
       "    .dataframe thead th {\n",
       "        text-align: right;\n",
       "    }\n",
       "</style>\n",
       "<table border=\"1\" class=\"dataframe\">\n",
       "  <thead>\n",
       "    <tr style=\"text-align: right;\">\n",
       "      <th></th>\n",
       "      <th>S.No.</th>\n",
       "      <th>Name</th>\n",
       "      <th>Location</th>\n",
       "      <th>Year</th>\n",
       "      <th>Kilometers_Driven</th>\n",
       "      <th>Fuel_Type</th>\n",
       "      <th>Transmission</th>\n",
       "      <th>Owner_Type</th>\n",
       "      <th>Seats</th>\n",
       "      <th>Price</th>\n",
       "      <th>fuel_economy</th>\n",
       "      <th>engine_num</th>\n",
       "      <th>power_num</th>\n",
       "      <th>new_price_num</th>\n",
       "    </tr>\n",
       "  </thead>\n",
       "  <tbody>\n",
       "    <tr>\n",
       "      <th>3999</th>\n",
       "      <td>3999</td>\n",
       "      <td>Audi A4 3.2 FSI Tiptronic Quattro</td>\n",
       "      <td>Hyderabad</td>\n",
       "      <td>2012</td>\n",
       "      <td>125.000</td>\n",
       "      <td>Petrol</td>\n",
       "      <td>Automatic</td>\n",
       "      <td>First</td>\n",
       "      <td>0.0</td>\n",
       "      <td>21686.746988</td>\n",
       "      <td>10.50</td>\n",
       "      <td>3197.0</td>\n",
       "      <td>NaN</td>\n",
       "      <td>NaN</td>\n",
       "    </tr>\n",
       "    <tr>\n",
       "      <th>2095</th>\n",
       "      <td>2095</td>\n",
       "      <td>Mercedes-Benz SLC 43 AMG</td>\n",
       "      <td>Coimbatore</td>\n",
       "      <td>2019</td>\n",
       "      <td>2.526</td>\n",
       "      <td>Petrol</td>\n",
       "      <td>Automatic</td>\n",
       "      <td>First</td>\n",
       "      <td>2.0</td>\n",
       "      <td>101156.626506</td>\n",
       "      <td>19.00</td>\n",
       "      <td>2996.0</td>\n",
       "      <td>362.07</td>\n",
       "      <td>106.0</td>\n",
       "    </tr>\n",
       "    <tr>\n",
       "      <th>557</th>\n",
       "      <td>557</td>\n",
       "      <td>Audi TT 2.0 TFSI</td>\n",
       "      <td>Delhi</td>\n",
       "      <td>2013</td>\n",
       "      <td>12.100</td>\n",
       "      <td>Petrol</td>\n",
       "      <td>Automatic</td>\n",
       "      <td>First</td>\n",
       "      <td>2.0</td>\n",
       "      <td>35542.168675</td>\n",
       "      <td>9.90</td>\n",
       "      <td>1984.0</td>\n",
       "      <td>207.80</td>\n",
       "      <td>NaN</td>\n",
       "    </tr>\n",
       "    <tr>\n",
       "      <th>4691</th>\n",
       "      <td>4691</td>\n",
       "      <td>Mercedes-Benz SLK-Class 55 AMG</td>\n",
       "      <td>Bangalore</td>\n",
       "      <td>2014</td>\n",
       "      <td>3.000</td>\n",
       "      <td>Petrol</td>\n",
       "      <td>Automatic</td>\n",
       "      <td>Second</td>\n",
       "      <td>2.0</td>\n",
       "      <td>108433.734940</td>\n",
       "      <td>12.00</td>\n",
       "      <td>5461.0</td>\n",
       "      <td>421.00</td>\n",
       "      <td>NaN</td>\n",
       "    </tr>\n",
       "    <tr>\n",
       "      <th>4722</th>\n",
       "      <td>4722</td>\n",
       "      <td>Mercedes-Benz SL-Class SL 500</td>\n",
       "      <td>Kolkata</td>\n",
       "      <td>2010</td>\n",
       "      <td>35.000</td>\n",
       "      <td>Petrol</td>\n",
       "      <td>Automatic</td>\n",
       "      <td>First</td>\n",
       "      <td>2.0</td>\n",
       "      <td>35542.168675</td>\n",
       "      <td>8.10</td>\n",
       "      <td>5461.0</td>\n",
       "      <td>387.30</td>\n",
       "      <td>NaN</td>\n",
       "    </tr>\n",
       "    <tr>\n",
       "      <th>926</th>\n",
       "      <td>926</td>\n",
       "      <td>Porsche Cayman 2009-2012 S</td>\n",
       "      <td>Hyderabad</td>\n",
       "      <td>2010</td>\n",
       "      <td>10.000</td>\n",
       "      <td>Petrol</td>\n",
       "      <td>Manual</td>\n",
       "      <td>First</td>\n",
       "      <td>2.0</td>\n",
       "      <td>48192.771084</td>\n",
       "      <td>9.00</td>\n",
       "      <td>3436.0</td>\n",
       "      <td>NaN</td>\n",
       "      <td>NaN</td>\n",
       "    </tr>\n",
       "    <tr>\n",
       "      <th>5919</th>\n",
       "      <td>5919</td>\n",
       "      <td>Jaguar F Type 5.0 V8 S</td>\n",
       "      <td>Hyderabad</td>\n",
       "      <td>2015</td>\n",
       "      <td>8.000</td>\n",
       "      <td>Petrol</td>\n",
       "      <td>Automatic</td>\n",
       "      <td>First</td>\n",
       "      <td>2.0</td>\n",
       "      <td>120481.927711</td>\n",
       "      <td>12.50</td>\n",
       "      <td>5000.0</td>\n",
       "      <td>488.10</td>\n",
       "      <td>NaN</td>\n",
       "    </tr>\n",
       "    <tr>\n",
       "      <th>915</th>\n",
       "      <td>915</td>\n",
       "      <td>Smart Fortwo CDI AT</td>\n",
       "      <td>Pune</td>\n",
       "      <td>2008</td>\n",
       "      <td>103.000</td>\n",
       "      <td>Diesel</td>\n",
       "      <td>Automatic</td>\n",
       "      <td>Second</td>\n",
       "      <td>2.0</td>\n",
       "      <td>3614.457831</td>\n",
       "      <td>NaN</td>\n",
       "      <td>799.0</td>\n",
       "      <td>NaN</td>\n",
       "      <td>NaN</td>\n",
       "    </tr>\n",
       "    <tr>\n",
       "      <th>6960</th>\n",
       "      <td>6960</td>\n",
       "      <td>Mercedes-Benz SLC 43 AMG</td>\n",
       "      <td>Coimbatore</td>\n",
       "      <td>2018</td>\n",
       "      <td>18.338</td>\n",
       "      <td>Petrol</td>\n",
       "      <td>Automatic</td>\n",
       "      <td>First</td>\n",
       "      <td>2.0</td>\n",
       "      <td>NaN</td>\n",
       "      <td>19.00</td>\n",
       "      <td>2996.0</td>\n",
       "      <td>362.07</td>\n",
       "      <td>106.0</td>\n",
       "    </tr>\n",
       "    <tr>\n",
       "      <th>4893</th>\n",
       "      <td>4893</td>\n",
       "      <td>BMW Z4 2009-2013 Roadster 2.5i</td>\n",
       "      <td>Kochi</td>\n",
       "      <td>2018</td>\n",
       "      <td>9.952</td>\n",
       "      <td>Petrol</td>\n",
       "      <td>Automatic</td>\n",
       "      <td>First</td>\n",
       "      <td>2.0</td>\n",
       "      <td>70530.120482</td>\n",
       "      <td>10.37</td>\n",
       "      <td>2979.0</td>\n",
       "      <td>306.00</td>\n",
       "      <td>NaN</td>\n",
       "    </tr>\n",
       "  </tbody>\n",
       "</table>\n",
       "</div>"
      ],
      "text/plain": [
       "      S.No.                               Name    Location  Year  \\\n",
       "3999   3999  Audi A4 3.2 FSI Tiptronic Quattro   Hyderabad  2012   \n",
       "2095   2095           Mercedes-Benz SLC 43 AMG  Coimbatore  2019   \n",
       "557     557                   Audi TT 2.0 TFSI       Delhi  2013   \n",
       "4691   4691     Mercedes-Benz SLK-Class 55 AMG   Bangalore  2014   \n",
       "4722   4722      Mercedes-Benz SL-Class SL 500     Kolkata  2010   \n",
       "926     926         Porsche Cayman 2009-2012 S   Hyderabad  2010   \n",
       "5919   5919             Jaguar F Type 5.0 V8 S   Hyderabad  2015   \n",
       "915     915                Smart Fortwo CDI AT        Pune  2008   \n",
       "6960   6960           Mercedes-Benz SLC 43 AMG  Coimbatore  2018   \n",
       "4893   4893     BMW Z4 2009-2013 Roadster 2.5i       Kochi  2018   \n",
       "\n",
       "      Kilometers_Driven Fuel_Type Transmission Owner_Type  Seats  \\\n",
       "3999            125.000    Petrol    Automatic      First    0.0   \n",
       "2095              2.526    Petrol    Automatic      First    2.0   \n",
       "557              12.100    Petrol    Automatic      First    2.0   \n",
       "4691              3.000    Petrol    Automatic     Second    2.0   \n",
       "4722             35.000    Petrol    Automatic      First    2.0   \n",
       "926              10.000    Petrol       Manual      First    2.0   \n",
       "5919              8.000    Petrol    Automatic      First    2.0   \n",
       "915             103.000    Diesel    Automatic     Second    2.0   \n",
       "6960             18.338    Petrol    Automatic      First    2.0   \n",
       "4893              9.952    Petrol    Automatic      First    2.0   \n",
       "\n",
       "              Price  fuel_economy  engine_num  power_num  new_price_num  \n",
       "3999   21686.746988         10.50      3197.0        NaN            NaN  \n",
       "2095  101156.626506         19.00      2996.0     362.07          106.0  \n",
       "557    35542.168675          9.90      1984.0     207.80            NaN  \n",
       "4691  108433.734940         12.00      5461.0     421.00            NaN  \n",
       "4722   35542.168675          8.10      5461.0     387.30            NaN  \n",
       "926    48192.771084          9.00      3436.0        NaN            NaN  \n",
       "5919  120481.927711         12.50      5000.0     488.10            NaN  \n",
       "915     3614.457831           NaN       799.0        NaN            NaN  \n",
       "6960            NaN         19.00      2996.0     362.07          106.0  \n",
       "4893   70530.120482         10.37      2979.0     306.00            NaN  "
      ]
     },
     "execution_count": 939,
     "metadata": {},
     "output_type": "execute_result"
    }
   ],
   "source": [
    "df.sort_values(by = [\"Seats\"], ascending = True).head(10)"
   ]
  },
  {
   "cell_type": "code",
   "execution_count": 940,
   "id": "7223ee6a",
   "metadata": {},
   "outputs": [],
   "source": [
    "df['Seats'].replace(0, np.nan, inplace=True) #replacing 0 values with null so they can be imputed later"
   ]
  },
  {
   "cell_type": "code",
   "execution_count": 941,
   "id": "19321fcb",
   "metadata": {},
   "outputs": [
    {
     "data": {
      "text/plain": [
       "[Text(0.5, 1.0, 'Boxplot of Price and Transmission'),\n",
       " Text(0, 0.5, 'Price (dollars)')]"
      ]
     },
     "execution_count": 941,
     "metadata": {},
     "output_type": "execute_result"
    },
    {
     "data": {
      "image/png": "[encoded data removed]",
      "text/plain": [
       "<Figure size 432x288 with 1 Axes>"
      ]
     },
     "metadata": {
      "needs_background": "light"
     },
     "output_type": "display_data"
    }
   ],
   "source": [
    "sns.boxplot(x = df['Owner_Type'], y = df['Price'], showfliers = False,\n",
    "           ).set(title=\"Boxplot of Price and Transmission\", ylabel = 'Price (dollars)')"
   ]
  },
  {
   "cell_type": "code",
   "execution_count": 942,
   "id": "2361d867",
   "metadata": {},
   "outputs": [
    {
     "data": {
      "text/html": [
       "<div>\n",
       "<style scoped>\n",
       "    .dataframe tbody tr th:only-of-type {\n",
       "        vertical-align: middle;\n",
       "    }\n",
       "\n",
       "    .dataframe tbody tr th {\n",
       "        vertical-align: top;\n",
       "    }\n",
       "\n",
       "    .dataframe thead th {\n",
       "        text-align: right;\n",
       "    }\n",
       "</style>\n",
       "<table border=\"1\" class=\"dataframe\">\n",
       "  <thead>\n",
       "    <tr style=\"text-align: right;\">\n",
       "      <th></th>\n",
       "      <th>S.No.</th>\n",
       "      <th>Name</th>\n",
       "      <th>Location</th>\n",
       "      <th>Year</th>\n",
       "      <th>Kilometers_Driven</th>\n",
       "      <th>Fuel_Type</th>\n",
       "      <th>Transmission</th>\n",
       "      <th>Owner_Type</th>\n",
       "      <th>Seats</th>\n",
       "      <th>Price</th>\n",
       "      <th>fuel_economy</th>\n",
       "      <th>engine_num</th>\n",
       "      <th>power_num</th>\n",
       "      <th>new_price_num</th>\n",
       "    </tr>\n",
       "  </thead>\n",
       "  <tbody>\n",
       "    <tr>\n",
       "      <th>29</th>\n",
       "      <td>29</td>\n",
       "      <td>Toyota Innova 2.5 V Diesel 7-seater</td>\n",
       "      <td>Mumbai</td>\n",
       "      <td>2007</td>\n",
       "      <td>262.000</td>\n",
       "      <td>Diesel</td>\n",
       "      <td>Manual</td>\n",
       "      <td>Fourth &amp; Above</td>\n",
       "      <td>7.0</td>\n",
       "      <td>4819.277108</td>\n",
       "      <td>12.8</td>\n",
       "      <td>2494.0</td>\n",
       "      <td>102.00</td>\n",
       "      <td>NaN</td>\n",
       "    </tr>\n",
       "    <tr>\n",
       "      <th>885</th>\n",
       "      <td>885</td>\n",
       "      <td>Maruti Grand Vitara AT</td>\n",
       "      <td>Chennai</td>\n",
       "      <td>2008</td>\n",
       "      <td>77.000</td>\n",
       "      <td>Petrol</td>\n",
       "      <td>Automatic</td>\n",
       "      <td>Fourth &amp; Above</td>\n",
       "      <td>5.0</td>\n",
       "      <td>6626.506024</td>\n",
       "      <td>9.7</td>\n",
       "      <td>1995.0</td>\n",
       "      <td>163.50</td>\n",
       "      <td>NaN</td>\n",
       "    </tr>\n",
       "    <tr>\n",
       "      <th>1081</th>\n",
       "      <td>1081</td>\n",
       "      <td>Hyundai i20 1.2 Sportz Option</td>\n",
       "      <td>Bangalore</td>\n",
       "      <td>2010</td>\n",
       "      <td>61.000</td>\n",
       "      <td>Petrol</td>\n",
       "      <td>Manual</td>\n",
       "      <td>Fourth &amp; Above</td>\n",
       "      <td>5.0</td>\n",
       "      <td>3915.662651</td>\n",
       "      <td>17.0</td>\n",
       "      <td>1197.0</td>\n",
       "      <td>80.00</td>\n",
       "      <td>NaN</td>\n",
       "    </tr>\n",
       "    <tr>\n",
       "      <th>1699</th>\n",
       "      <td>1699</td>\n",
       "      <td>Ford Endeavour 4x2 XLT Limited Edition</td>\n",
       "      <td>Pune</td>\n",
       "      <td>2007</td>\n",
       "      <td>90.000</td>\n",
       "      <td>Diesel</td>\n",
       "      <td>Manual</td>\n",
       "      <td>Fourth &amp; Above</td>\n",
       "      <td>7.0</td>\n",
       "      <td>3614.457831</td>\n",
       "      <td>10.9</td>\n",
       "      <td>2499.0</td>\n",
       "      <td>143.00</td>\n",
       "      <td>NaN</td>\n",
       "    </tr>\n",
       "    <tr>\n",
       "      <th>2988</th>\n",
       "      <td>2988</td>\n",
       "      <td>Toyota Innova 2.5 G4 Diesel 8-seater</td>\n",
       "      <td>Chennai</td>\n",
       "      <td>2005</td>\n",
       "      <td>240.000</td>\n",
       "      <td>Diesel</td>\n",
       "      <td>Manual</td>\n",
       "      <td>Fourth &amp; Above</td>\n",
       "      <td>8.0</td>\n",
       "      <td>6144.578313</td>\n",
       "      <td>12.8</td>\n",
       "      <td>2494.0</td>\n",
       "      <td>102.00</td>\n",
       "      <td>NaN</td>\n",
       "    </tr>\n",
       "    <tr>\n",
       "      <th>3368</th>\n",
       "      <td>3368</td>\n",
       "      <td>Maruti Swift Ldi BSIII</td>\n",
       "      <td>Pune</td>\n",
       "      <td>2009</td>\n",
       "      <td>80.000</td>\n",
       "      <td>Diesel</td>\n",
       "      <td>Manual</td>\n",
       "      <td>Fourth &amp; Above</td>\n",
       "      <td>5.0</td>\n",
       "      <td>2590.361446</td>\n",
       "      <td>17.8</td>\n",
       "      <td>1248.0</td>\n",
       "      <td>75.00</td>\n",
       "      <td>NaN</td>\n",
       "    </tr>\n",
       "    <tr>\n",
       "      <th>3404</th>\n",
       "      <td>3404</td>\n",
       "      <td>Maruti Swift 1.3 VXi</td>\n",
       "      <td>Jaipur</td>\n",
       "      <td>2006</td>\n",
       "      <td>125.000</td>\n",
       "      <td>Petrol</td>\n",
       "      <td>Manual</td>\n",
       "      <td>Fourth &amp; Above</td>\n",
       "      <td>NaN</td>\n",
       "      <td>2831.325301</td>\n",
       "      <td>16.1</td>\n",
       "      <td>NaN</td>\n",
       "      <td>NaN</td>\n",
       "      <td>NaN</td>\n",
       "    </tr>\n",
       "    <tr>\n",
       "      <th>4148</th>\n",
       "      <td>4148</td>\n",
       "      <td>Ford Ikon 1.3 Flair</td>\n",
       "      <td>Coimbatore</td>\n",
       "      <td>2008</td>\n",
       "      <td>59.833</td>\n",
       "      <td>Petrol</td>\n",
       "      <td>Manual</td>\n",
       "      <td>Fourth &amp; Above</td>\n",
       "      <td>5.0</td>\n",
       "      <td>2373.493976</td>\n",
       "      <td>13.8</td>\n",
       "      <td>1299.0</td>\n",
       "      <td>70.00</td>\n",
       "      <td>NaN</td>\n",
       "    </tr>\n",
       "    <tr>\n",
       "      <th>5647</th>\n",
       "      <td>5647</td>\n",
       "      <td>Toyota Qualis Fleet A3</td>\n",
       "      <td>Mumbai</td>\n",
       "      <td>2001</td>\n",
       "      <td>227.000</td>\n",
       "      <td>Diesel</td>\n",
       "      <td>Manual</td>\n",
       "      <td>Fourth &amp; Above</td>\n",
       "      <td>8.0</td>\n",
       "      <td>2650.602410</td>\n",
       "      <td>NaN</td>\n",
       "      <td>2446.0</td>\n",
       "      <td>NaN</td>\n",
       "      <td>NaN</td>\n",
       "    </tr>\n",
       "    <tr>\n",
       "      <th>6226</th>\n",
       "      <td>6226</td>\n",
       "      <td>Maruti Omni E 8 Str STD</td>\n",
       "      <td>Bangalore</td>\n",
       "      <td>2005</td>\n",
       "      <td>81.245</td>\n",
       "      <td>Petrol</td>\n",
       "      <td>Manual</td>\n",
       "      <td>Fourth &amp; Above</td>\n",
       "      <td>8.0</td>\n",
       "      <td>NaN</td>\n",
       "      <td>16.8</td>\n",
       "      <td>796.0</td>\n",
       "      <td>34.20</td>\n",
       "      <td>NaN</td>\n",
       "    </tr>\n",
       "    <tr>\n",
       "      <th>6454</th>\n",
       "      <td>6454</td>\n",
       "      <td>Hyundai Santro LS zipDrive Euro I</td>\n",
       "      <td>Chennai</td>\n",
       "      <td>2002</td>\n",
       "      <td>120.000</td>\n",
       "      <td>Petrol</td>\n",
       "      <td>Manual</td>\n",
       "      <td>Fourth &amp; Above</td>\n",
       "      <td>5.0</td>\n",
       "      <td>NaN</td>\n",
       "      <td>NaN</td>\n",
       "      <td>999.0</td>\n",
       "      <td>NaN</td>\n",
       "      <td>NaN</td>\n",
       "    </tr>\n",
       "    <tr>\n",
       "      <th>6467</th>\n",
       "      <td>6467</td>\n",
       "      <td>Tata Nano XT</td>\n",
       "      <td>Bangalore</td>\n",
       "      <td>2016</td>\n",
       "      <td>14.000</td>\n",
       "      <td>Petrol</td>\n",
       "      <td>Manual</td>\n",
       "      <td>Fourth &amp; Above</td>\n",
       "      <td>4.0</td>\n",
       "      <td>NaN</td>\n",
       "      <td>23.9</td>\n",
       "      <td>624.0</td>\n",
       "      <td>37.48</td>\n",
       "      <td>NaN</td>\n",
       "    </tr>\n",
       "  </tbody>\n",
       "</table>\n",
       "</div>"
      ],
      "text/plain": [
       "      S.No.                                    Name    Location  Year  \\\n",
       "29       29     Toyota Innova 2.5 V Diesel 7-seater      Mumbai  2007   \n",
       "885     885                  Maruti Grand Vitara AT     Chennai  2008   \n",
       "1081   1081           Hyundai i20 1.2 Sportz Option   Bangalore  2010   \n",
       "1699   1699  Ford Endeavour 4x2 XLT Limited Edition        Pune  2007   \n",
       "2988   2988    Toyota Innova 2.5 G4 Diesel 8-seater     Chennai  2005   \n",
       "3368   3368                  Maruti Swift Ldi BSIII        Pune  2009   \n",
       "3404   3404                    Maruti Swift 1.3 VXi      Jaipur  2006   \n",
       "4148   4148                     Ford Ikon 1.3 Flair  Coimbatore  2008   \n",
       "5647   5647                  Toyota Qualis Fleet A3      Mumbai  2001   \n",
       "6226   6226                 Maruti Omni E 8 Str STD   Bangalore  2005   \n",
       "6454   6454       Hyundai Santro LS zipDrive Euro I     Chennai  2002   \n",
       "6467   6467                            Tata Nano XT   Bangalore  2016   \n",
       "\n",
       "      Kilometers_Driven Fuel_Type Transmission      Owner_Type  Seats  \\\n",
       "29              262.000    Diesel       Manual  Fourth & Above    7.0   \n",
       "885              77.000    Petrol    Automatic  Fourth & Above    5.0   \n",
       "1081             61.000    Petrol       Manual  Fourth & Above    5.0   \n",
       "1699             90.000    Diesel       Manual  Fourth & Above    7.0   \n",
       "2988            240.000    Diesel       Manual  Fourth & Above    8.0   \n",
       "3368             80.000    Diesel       Manual  Fourth & Above    5.0   \n",
       "3404            125.000    Petrol       Manual  Fourth & Above    NaN   \n",
       "4148             59.833    Petrol       Manual  Fourth & Above    5.0   \n",
       "5647            227.000    Diesel       Manual  Fourth & Above    8.0   \n",
       "6226             81.245    Petrol       Manual  Fourth & Above    8.0   \n",
       "6454            120.000    Petrol       Manual  Fourth & Above    5.0   \n",
       "6467             14.000    Petrol       Manual  Fourth & Above    4.0   \n",
       "\n",
       "            Price  fuel_economy  engine_num  power_num  new_price_num  \n",
       "29    4819.277108          12.8      2494.0     102.00            NaN  \n",
       "885   6626.506024           9.7      1995.0     163.50            NaN  \n",
       "1081  3915.662651          17.0      1197.0      80.00            NaN  \n",
       "1699  3614.457831          10.9      2499.0     143.00            NaN  \n",
       "2988  6144.578313          12.8      2494.0     102.00            NaN  \n",
       "3368  2590.361446          17.8      1248.0      75.00            NaN  \n",
       "3404  2831.325301          16.1         NaN        NaN            NaN  \n",
       "4148  2373.493976          13.8      1299.0      70.00            NaN  \n",
       "5647  2650.602410           NaN      2446.0        NaN            NaN  \n",
       "6226          NaN          16.8       796.0      34.20            NaN  \n",
       "6454          NaN           NaN       999.0        NaN            NaN  \n",
       "6467          NaN          23.9       624.0      37.48            NaN  "
      ]
     },
     "execution_count": 942,
     "metadata": {},
     "output_type": "execute_result"
    }
   ],
   "source": [
    "df[df['Owner_Type'] == 'Fourth & Above' ]"
   ]
  },
  {
   "cell_type": "code",
   "execution_count": 943,
   "id": "17e60b99",
   "metadata": {},
   "outputs": [],
   "source": [
    "df = df.drop(df[df['Owner_Type'] == 'Fourth & Above'].index) #there arenot enough data for fourth and above owner type, so removing\n",
    "                                                             # them is better."
   ]
  },
  {
   "cell_type": "markdown",
   "id": "c6b7445c",
   "metadata": {},
   "source": [
    "## Feature engineering "
   ]
  },
  {
   "cell_type": "code",
   "execution_count": 944,
   "id": "625ccb2b",
   "metadata": {},
   "outputs": [
    {
     "data": {
      "text/plain": [
       "maruti           1440\n",
       "hyundai          1338\n",
       "honda             743\n",
       "toyota            503\n",
       "mercedes-benz     380\n",
       "volkswagen        374\n",
       "ford              349\n",
       "mahindra          330\n",
       "bmw               311\n",
       "audi              285\n",
       "tata              227\n",
       "skoda             202\n",
       "renault           170\n",
       "chevrolet         151\n",
       "nissan            117\n",
       "land               67\n",
       "jaguar             48\n",
       "fiat               38\n",
       "mitsubishi         36\n",
       "mini               31\n",
       "volvo              28\n",
       "porsche            19\n",
       "jeep               19\n",
       "datsun             17\n",
       "isuzu               5\n",
       "force               3\n",
       "bentley             2\n",
       "smart               1\n",
       "ambassador          1\n",
       "lamborghini         1\n",
       "hindustan           1\n",
       "opelcorsa           1\n",
       "Name: Brand, dtype: int64"
      ]
     },
     "execution_count": 944,
     "metadata": {},
     "output_type": "execute_result"
    }
   ],
   "source": [
    "df[\"Brand\"] = df[\"Name\"].apply(lambda x: x.split(\" \")[0].lower())\n",
    "df[\"Brand\"].value_counts()\n"
   ]
  },
  {
   "cell_type": "code",
   "execution_count": 945,
   "id": "c520c21a",
   "metadata": {},
   "outputs": [],
   "source": [
    "df[\"Model\"] = df[\"Name\"].apply(lambda x: x.split(\" \")[1].lower())"
   ]
  },
  {
   "cell_type": "code",
   "execution_count": 946,
   "id": "d39db08e",
   "metadata": {},
   "outputs": [
    {
     "data": {
      "text/plain": [
       "[Text(0.5, 1.0, 'Brand count')]"
      ]
     },
     "execution_count": 946,
     "metadata": {},
     "output_type": "execute_result"
    },
    {
     "data": {
      "image/png": "[encoded data removed]",
      "text/plain": [
       "<Figure size 1080x504 with 1 Axes>"
      ]
     },
     "metadata": {
      "needs_background": "light"
     },
     "output_type": "display_data"
    }
   ],
   "source": [
    "plt.figure(figsize = (15, 7))\n",
    "sns.countplot(y = \"Brand\", data = df, order = df[\"Brand\"].value_counts().index).set(\n",
    "    title=\"Brand count\")"
   ]
  },
  {
   "cell_type": "markdown",
   "id": "a60f4830",
   "metadata": {},
   "source": [
    "## Imputing missing values"
   ]
  },
  {
   "cell_type": "code",
   "execution_count": 947,
   "id": "7cf86228",
   "metadata": {},
   "outputs": [
    {
     "data": {
      "text/plain": [
       "S.No.                   0\n",
       "Name                    0\n",
       "Location                0\n",
       "Year                    0\n",
       "Kilometers_Driven       0\n",
       "Fuel_Type               0\n",
       "Transmission            0\n",
       "Owner_Type              0\n",
       "Seats                  53\n",
       "Price                1231\n",
       "fuel_economy           79\n",
       "engine_num             45\n",
       "power_num             172\n",
       "new_price_num        6233\n",
       "Brand                   0\n",
       "Model                   0\n",
       "dtype: int64"
      ]
     },
     "execution_count": 947,
     "metadata": {},
     "output_type": "execute_result"
    }
   ],
   "source": [
    "df.isnull().sum()\n"
   ]
  },
  {
   "cell_type": "code",
   "execution_count": 948,
   "id": "b297312f",
   "metadata": {},
   "outputs": [],
   "source": [
    "# filling the null values for seat by taking medians of the particular model of the car.\n",
    "\n",
    "df[\"Seats\"] = df.groupby([\"Brand\", \"Model\"])[\"Seats\"].transform(\n",
    "    lambda x: x.fillna(x.median())\n",
    ")"
   ]
  },
  {
   "cell_type": "code",
   "execution_count": 949,
   "id": "1a6cb916",
   "metadata": {},
   "outputs": [
    {
     "data": {
      "text/html": [
       "<div>\n",
       "<style scoped>\n",
       "    .dataframe tbody tr th:only-of-type {\n",
       "        vertical-align: middle;\n",
       "    }\n",
       "\n",
       "    .dataframe tbody tr th {\n",
       "        vertical-align: top;\n",
       "    }\n",
       "\n",
       "    .dataframe thead th {\n",
       "        text-align: right;\n",
       "    }\n",
       "</style>\n",
       "<table border=\"1\" class=\"dataframe\">\n",
       "  <thead>\n",
       "    <tr style=\"text-align: right;\">\n",
       "      <th></th>\n",
       "      <th>S.No.</th>\n",
       "      <th>Name</th>\n",
       "      <th>Location</th>\n",
       "      <th>Year</th>\n",
       "      <th>Kilometers_Driven</th>\n",
       "      <th>Fuel_Type</th>\n",
       "      <th>Transmission</th>\n",
       "      <th>Owner_Type</th>\n",
       "      <th>Seats</th>\n",
       "      <th>Price</th>\n",
       "      <th>fuel_economy</th>\n",
       "      <th>engine_num</th>\n",
       "      <th>power_num</th>\n",
       "      <th>new_price_num</th>\n",
       "      <th>Brand</th>\n",
       "      <th>Model</th>\n",
       "    </tr>\n",
       "  </thead>\n",
       "  <tbody>\n",
       "    <tr>\n",
       "      <th>2369</th>\n",
       "      <td>2369</td>\n",
       "      <td>Maruti Estilo LXI</td>\n",
       "      <td>Chennai</td>\n",
       "      <td>2008</td>\n",
       "      <td>56.0</td>\n",
       "      <td>Petrol</td>\n",
       "      <td>Manual</td>\n",
       "      <td>Second</td>\n",
       "      <td>NaN</td>\n",
       "      <td>1807.228916</td>\n",
       "      <td>19.5</td>\n",
       "      <td>1061.0</td>\n",
       "      <td>NaN</td>\n",
       "      <td>NaN</td>\n",
       "      <td>maruti</td>\n",
       "      <td>estilo</td>\n",
       "    </tr>\n",
       "    <tr>\n",
       "      <th>3882</th>\n",
       "      <td>3882</td>\n",
       "      <td>Maruti Estilo LXI</td>\n",
       "      <td>Kolkata</td>\n",
       "      <td>2010</td>\n",
       "      <td>40.0</td>\n",
       "      <td>Petrol</td>\n",
       "      <td>Manual</td>\n",
       "      <td>Second</td>\n",
       "      <td>NaN</td>\n",
       "      <td>3012.048193</td>\n",
       "      <td>19.5</td>\n",
       "      <td>1061.0</td>\n",
       "      <td>NaN</td>\n",
       "      <td>NaN</td>\n",
       "      <td>maruti</td>\n",
       "      <td>estilo</td>\n",
       "    </tr>\n",
       "    <tr>\n",
       "      <th>5893</th>\n",
       "      <td>5893</td>\n",
       "      <td>Maruti Estilo LXI</td>\n",
       "      <td>Chennai</td>\n",
       "      <td>2008</td>\n",
       "      <td>51.0</td>\n",
       "      <td>Petrol</td>\n",
       "      <td>Manual</td>\n",
       "      <td>Second</td>\n",
       "      <td>NaN</td>\n",
       "      <td>2108.433735</td>\n",
       "      <td>19.5</td>\n",
       "      <td>1061.0</td>\n",
       "      <td>NaN</td>\n",
       "      <td>NaN</td>\n",
       "      <td>maruti</td>\n",
       "      <td>estilo</td>\n",
       "    </tr>\n",
       "  </tbody>\n",
       "</table>\n",
       "</div>"
      ],
      "text/plain": [
       "      S.No.               Name Location  Year  Kilometers_Driven Fuel_Type  \\\n",
       "2369   2369  Maruti Estilo LXI  Chennai  2008               56.0    Petrol   \n",
       "3882   3882  Maruti Estilo LXI  Kolkata  2010               40.0    Petrol   \n",
       "5893   5893  Maruti Estilo LXI  Chennai  2008               51.0    Petrol   \n",
       "\n",
       "     Transmission Owner_Type  Seats        Price  fuel_economy  engine_num  \\\n",
       "2369       Manual     Second    NaN  1807.228916          19.5      1061.0   \n",
       "3882       Manual     Second    NaN  3012.048193          19.5      1061.0   \n",
       "5893       Manual     Second    NaN  2108.433735          19.5      1061.0   \n",
       "\n",
       "      power_num  new_price_num   Brand   Model  \n",
       "2369        NaN            NaN  maruti  estilo  \n",
       "3882        NaN            NaN  maruti  estilo  \n",
       "5893        NaN            NaN  maruti  estilo  "
      ]
     },
     "execution_count": 949,
     "metadata": {},
     "output_type": "execute_result"
    }
   ],
   "source": [
    "df[df['Seats'].isnull()]"
   ]
  },
  {
   "cell_type": "markdown",
   "id": "48f93775",
   "metadata": {},
   "source": [
    "The model above doesnt have values for seats in the dataset. So i looked up online for the number of seats for this car. It has 5 seats."
   ]
  },
  {
   "cell_type": "code",
   "execution_count": 950,
   "id": "6fe6c98d",
   "metadata": {},
   "outputs": [],
   "source": [
    "df[\"Seats\"] = df[\"Seats\"].fillna(5.0) "
   ]
  },
  {
   "cell_type": "code",
   "execution_count": 951,
   "id": "e22100b9",
   "metadata": {},
   "outputs": [
    {
     "data": {
      "text/plain": [
       "S.No.                   0\n",
       "Name                    0\n",
       "Location                0\n",
       "Year                    0\n",
       "Kilometers_Driven       0\n",
       "Fuel_Type               0\n",
       "Transmission            0\n",
       "Owner_Type              0\n",
       "Seats                   0\n",
       "Price                1231\n",
       "fuel_economy           79\n",
       "engine_num             45\n",
       "power_num             172\n",
       "new_price_num        6233\n",
       "Brand                   0\n",
       "Model                   0\n",
       "dtype: int64"
      ]
     },
     "execution_count": 951,
     "metadata": {},
     "output_type": "execute_result"
    }
   ],
   "source": [
    "df.isnull().sum()"
   ]
  },
  {
   "cell_type": "code",
   "execution_count": 952,
   "id": "8cd9e49e",
   "metadata": {},
   "outputs": [],
   "source": [
    "# Imputed missing values for fuel_economy, engine, power, and new_price by taking medians of the particular model of the car.\n",
    "\n",
    "\n",
    "df[\"engine_num\"] = df.groupby([\"Brand\", \"Model\"])[\"engine_num\"].transform(\n",
    "    lambda x: x.fillna(x.median())\n",
    ")\n",
    "df[\"power_num\"] = df.groupby([\"Brand\", \"Model\"])[\"power_num\"].transform(\n",
    "    lambda x: x.fillna(x.median())\n",
    ")\n",
    "df[\"new_price_num\"] = df.groupby([\"Brand\", \"Model\"])[\"new_price_num\"].transform(\n",
    "    lambda x: x.fillna(x.median())\n",
    ")\n",
    "df[\"fuel_economy\"] = df.groupby([\"Brand\", \"Model\"])[\"fuel_economy\"].transform(\n",
    "    lambda x: x.fillna(x.median())\n",
    ")"
   ]
  },
  {
   "cell_type": "code",
   "execution_count": 953,
   "id": "1f65ab1d",
   "metadata": {},
   "outputs": [
    {
     "data": {
      "text/plain": [
       "S.No.                   0\n",
       "Name                    0\n",
       "Location                0\n",
       "Year                    0\n",
       "Kilometers_Driven       0\n",
       "Fuel_Type               0\n",
       "Transmission            0\n",
       "Owner_Type              0\n",
       "Seats                   0\n",
       "Price                1231\n",
       "fuel_economy            7\n",
       "engine_num              0\n",
       "power_num              12\n",
       "new_price_num        1505\n",
       "Brand                   0\n",
       "Model                   0\n",
       "dtype: int64"
      ]
     },
     "execution_count": 953,
     "metadata": {},
     "output_type": "execute_result"
    }
   ],
   "source": [
    "df.isnull().sum()"
   ]
  },
  {
   "cell_type": "markdown",
   "id": "ea4baa1c",
   "metadata": {},
   "source": [
    "There are still missing values in fuel_economy, power, new_price_num so dropping them is better"
   ]
  },
  {
   "cell_type": "code",
   "execution_count": 835,
   "id": "d5d946e8",
   "metadata": {},
   "outputs": [],
   "source": [
    "df.dropna(inplace=True,axis=0)"
   ]
  },
  {
   "cell_type": "code",
   "execution_count": 836,
   "id": "5f45fbbd",
   "metadata": {},
   "outputs": [
    {
     "data": {
      "text/plain": [
       "S.No.                0\n",
       "Name                 0\n",
       "Location             0\n",
       "Year                 0\n",
       "Kilometers_Driven    0\n",
       "Fuel_Type            0\n",
       "Transmission         0\n",
       "Owner_Type           0\n",
       "Seats                0\n",
       "Price                0\n",
       "fuel_economy         0\n",
       "engine_num           0\n",
       "power_num            0\n",
       "new_price_num        0\n",
       "Brand                0\n",
       "Model                0\n",
       "dtype: int64"
      ]
     },
     "execution_count": 836,
     "metadata": {},
     "output_type": "execute_result"
    }
   ],
   "source": [
    "df.isnull().sum()"
   ]
  },
  {
   "cell_type": "markdown",
   "id": "b26dcf0b",
   "metadata": {},
   "source": [
    "There are no more missing values for independent variables."
   ]
  },
  {
   "cell_type": "code",
   "execution_count": 837,
   "id": "20b40a71",
   "metadata": {},
   "outputs": [
    {
     "data": {
      "text/html": [
       "<div>\n",
       "<style scoped>\n",
       "    .dataframe tbody tr th:only-of-type {\n",
       "        vertical-align: middle;\n",
       "    }\n",
       "\n",
       "    .dataframe tbody tr th {\n",
       "        vertical-align: top;\n",
       "    }\n",
       "\n",
       "    .dataframe thead th {\n",
       "        text-align: right;\n",
       "    }\n",
       "</style>\n",
       "<table border=\"1\" class=\"dataframe\">\n",
       "  <thead>\n",
       "    <tr style=\"text-align: right;\">\n",
       "      <th></th>\n",
       "      <th>S.No.</th>\n",
       "      <th>Year</th>\n",
       "      <th>Kilometers_Driven</th>\n",
       "      <th>Seats</th>\n",
       "      <th>Price</th>\n",
       "      <th>fuel_economy</th>\n",
       "      <th>engine_num</th>\n",
       "      <th>power_num</th>\n",
       "      <th>new_price_num</th>\n",
       "    </tr>\n",
       "  </thead>\n",
       "  <tbody>\n",
       "    <tr>\n",
       "      <th>count</th>\n",
       "      <td>4764.000000</td>\n",
       "      <td>4764.000000</td>\n",
       "      <td>4764.000000</td>\n",
       "      <td>4764.000000</td>\n",
       "      <td>4764.000000</td>\n",
       "      <td>4764.000000</td>\n",
       "      <td>4764.000000</td>\n",
       "      <td>4764.000000</td>\n",
       "      <td>4764.000000</td>\n",
       "    </tr>\n",
       "    <tr>\n",
       "      <th>mean</th>\n",
       "      <td>3022.795130</td>\n",
       "      <td>2013.820949</td>\n",
       "      <td>55.646067</td>\n",
       "      <td>5.276658</td>\n",
       "      <td>11793.026008</td>\n",
       "      <td>18.603184</td>\n",
       "      <td>1615.279597</td>\n",
       "      <td>112.806956</td>\n",
       "      <td>22.393559</td>\n",
       "    </tr>\n",
       "    <tr>\n",
       "      <th>std</th>\n",
       "      <td>1739.315039</td>\n",
       "      <td>3.061353</td>\n",
       "      <td>37.169174</td>\n",
       "      <td>0.739027</td>\n",
       "      <td>12620.727068</td>\n",
       "      <td>4.159849</td>\n",
       "      <td>565.102607</td>\n",
       "      <td>49.326163</td>\n",
       "      <td>25.130188</td>\n",
       "    </tr>\n",
       "    <tr>\n",
       "      <th>min</th>\n",
       "      <td>0.000000</td>\n",
       "      <td>1998.000000</td>\n",
       "      <td>0.171000</td>\n",
       "      <td>2.000000</td>\n",
       "      <td>783.132530</td>\n",
       "      <td>8.200000</td>\n",
       "      <td>793.000000</td>\n",
       "      <td>38.400000</td>\n",
       "      <td>3.910000</td>\n",
       "    </tr>\n",
       "    <tr>\n",
       "      <th>25%</th>\n",
       "      <td>1514.500000</td>\n",
       "      <td>2012.000000</td>\n",
       "      <td>32.276500</td>\n",
       "      <td>5.000000</td>\n",
       "      <td>4819.277108</td>\n",
       "      <td>16.000000</td>\n",
       "      <td>1198.000000</td>\n",
       "      <td>80.000000</td>\n",
       "      <td>7.880000</td>\n",
       "    </tr>\n",
       "    <tr>\n",
       "      <th>50%</th>\n",
       "      <td>3028.500000</td>\n",
       "      <td>2014.000000</td>\n",
       "      <td>51.000000</td>\n",
       "      <td>5.000000</td>\n",
       "      <td>7295.180723</td>\n",
       "      <td>18.500000</td>\n",
       "      <td>1497.000000</td>\n",
       "      <td>98.600000</td>\n",
       "      <td>11.685000</td>\n",
       "    </tr>\n",
       "    <tr>\n",
       "      <th>75%</th>\n",
       "      <td>4539.250000</td>\n",
       "      <td>2016.000000</td>\n",
       "      <td>70.301750</td>\n",
       "      <td>5.000000</td>\n",
       "      <td>13132.530120</td>\n",
       "      <td>21.500000</td>\n",
       "      <td>1968.000000</td>\n",
       "      <td>140.000000</td>\n",
       "      <td>24.010000</td>\n",
       "    </tr>\n",
       "    <tr>\n",
       "      <th>max</th>\n",
       "      <td>6017.000000</td>\n",
       "      <td>2019.000000</td>\n",
       "      <td>775.000000</td>\n",
       "      <td>9.000000</td>\n",
       "      <td>192771.084337</td>\n",
       "      <td>33.540000</td>\n",
       "      <td>4951.000000</td>\n",
       "      <td>550.000000</td>\n",
       "      <td>230.000000</td>\n",
       "    </tr>\n",
       "  </tbody>\n",
       "</table>\n",
       "</div>"
      ],
      "text/plain": [
       "             S.No.         Year  Kilometers_Driven        Seats  \\\n",
       "count  4764.000000  4764.000000        4764.000000  4764.000000   \n",
       "mean   3022.795130  2013.820949          55.646067     5.276658   \n",
       "std    1739.315039     3.061353          37.169174     0.739027   \n",
       "min       0.000000  1998.000000           0.171000     2.000000   \n",
       "25%    1514.500000  2012.000000          32.276500     5.000000   \n",
       "50%    3028.500000  2014.000000          51.000000     5.000000   \n",
       "75%    4539.250000  2016.000000          70.301750     5.000000   \n",
       "max    6017.000000  2019.000000         775.000000     9.000000   \n",
       "\n",
       "               Price  fuel_economy   engine_num    power_num  new_price_num  \n",
       "count    4764.000000   4764.000000  4764.000000  4764.000000    4764.000000  \n",
       "mean    11793.026008     18.603184  1615.279597   112.806956      22.393559  \n",
       "std     12620.727068      4.159849   565.102607    49.326163      25.130188  \n",
       "min       783.132530      8.200000   793.000000    38.400000       3.910000  \n",
       "25%      4819.277108     16.000000  1198.000000    80.000000       7.880000  \n",
       "50%      7295.180723     18.500000  1497.000000    98.600000      11.685000  \n",
       "75%     13132.530120     21.500000  1968.000000   140.000000      24.010000  \n",
       "max    192771.084337     33.540000  4951.000000   550.000000     230.000000  "
      ]
     },
     "execution_count": 837,
     "metadata": {},
     "output_type": "execute_result"
    }
   ],
   "source": [
    "df.describe()"
   ]
  },
  {
   "cell_type": "code",
   "execution_count": 838,
   "id": "27cd61c7",
   "metadata": {},
   "outputs": [],
   "source": [
    "df = df.drop(columns=['S.No.','Name'])  #dropping redundant variables"
   ]
  },
  {
   "cell_type": "code",
   "execution_count": 839,
   "id": "cb12a8d6",
   "metadata": {},
   "outputs": [
    {
     "data": {
      "text/plain": [
       "<AxesSubplot:>"
      ]
     },
     "execution_count": 839,
     "metadata": {},
     "output_type": "execute_result"
    },
    {
     "data": {
      "image/png": "[encoded data removed]",
      "text/plain": [
       "<Figure size 1008x648 with 2 Axes>"
      ]
     },
     "metadata": {
      "needs_background": "light"
     },
     "output_type": "display_data"
    }
   ],
   "source": [
    "\n",
    "plt.figure(figsize = (14, 9))\n",
    "sns.heatmap(df.corr(), annot = True, cmap=\"Blues\")"
   ]
  },
  {
   "cell_type": "code",
   "execution_count": 840,
   "id": "43d8432d",
   "metadata": {},
   "outputs": [
    {
     "data": {
      "text/plain": [
       "Location             0\n",
       "Year                 0\n",
       "Kilometers_Driven    0\n",
       "Fuel_Type            0\n",
       "Transmission         0\n",
       "Owner_Type           0\n",
       "Seats                0\n",
       "Price                0\n",
       "fuel_economy         0\n",
       "engine_num           0\n",
       "power_num            0\n",
       "new_price_num        0\n",
       "Brand                0\n",
       "Model                0\n",
       "dtype: int64"
      ]
     },
     "execution_count": 840,
     "metadata": {},
     "output_type": "execute_result"
    }
   ],
   "source": [
    "df.isnull().sum()"
   ]
  },
  {
   "cell_type": "code",
   "execution_count": 841,
   "id": "73559219",
   "metadata": {},
   "outputs": [
    {
     "data": {
      "text/plain": [
       "[Text(0.5, 1.0, 'Histogram of Engine'), Text(0.5, 0, 'Engine (cc)')]"
      ]
     },
     "execution_count": 841,
     "metadata": {},
     "output_type": "execute_result"
    },
    {
     "data": {
      "image/png": "[encoded data removed]",
      "text/plain": [
       "<Figure size 432x288 with 1 Axes>"
      ]
     },
     "metadata": {
      "needs_background": "light"
     },
     "output_type": "display_data"
    }
   ],
   "source": [
    "sns.histplot(df[\"engine_num\"]).set(title=\"Histogram of Engine\", xlabel = 'Engine (cc)') #histogram of engine"
   ]
  },
  {
   "cell_type": "code",
   "execution_count": 842,
   "id": "d0c045d7",
   "metadata": {},
   "outputs": [
    {
     "name": "stderr",
     "output_type": "stream",
     "text": [
      "/Users/muhammadraees/opt/anaconda3/lib/python3.9/site-packages/seaborn/distributions.py:2619: FutureWarning: `distplot` is a deprecated function and will be removed in a future version. Please adapt your code to use either `displot` (a figure-level function with similar flexibility) or `histplot` (an axes-level function for histograms).\n",
      "  warnings.warn(msg, FutureWarning)\n"
     ]
    },
    {
     "data": {
      "text/plain": [
       "[Text(0.5, 1.0, 'Distribution of kilometers driven '),\n",
       " Text(0.5, 0, 'kilometers driven in 1000')]"
      ]
     },
     "execution_count": 842,
     "metadata": {},
     "output_type": "execute_result"
    },
    {
     "data": {
      "image/png": "[encoded data removed]",
      "text/plain": [
       "<Figure size 432x288 with 1 Axes>"
      ]
     },
     "metadata": {
      "needs_background": "light"
     },
     "output_type": "display_data"
    }
   ],
   "source": [
    "sns.distplot(df[\"Kilometers_Driven\"]).set(\n",
    "    title=\"Distribution of kilometers driven \", xlabel = 'kilometers driven in 1000')"
   ]
  },
  {
   "cell_type": "code",
   "execution_count": 843,
   "id": "7ec13413",
   "metadata": {},
   "outputs": [
    {
     "data": {
      "text/plain": [
       "[Text(0.5, 1.0, 'Engine vs Price'),\n",
       " Text(0, 0.5, 'Price(dollars)'),\n",
       " Text(0.5, 0, 'Engine (cc)')]"
      ]
     },
     "execution_count": 843,
     "metadata": {},
     "output_type": "execute_result"
    },
    {
     "data": {
      "image/png": "[encoded data removed]",
      "text/plain": [
       "<Figure size 432x288 with 1 Axes>"
      ]
     },
     "metadata": {
      "needs_background": "light"
     },
     "output_type": "display_data"
    }
   ],
   "source": [
    "sns.scatterplot(data=df,y='Price',x='engine_num', hue = 'Fuel_Type').set(\n",
    "    title=\"Engine vs Price\", \n",
    "    ylabel = 'Price(dollars)', \n",
    "    xlabel = 'Engine (cc)',)"
   ]
  },
  {
   "cell_type": "code",
   "execution_count": 844,
   "id": "69fba519",
   "metadata": {},
   "outputs": [
    {
     "data": {
      "text/plain": [
       "[Text(0.5, 1.0, 'Fuel Economy vs Power'),\n",
       " Text(0, 0.5, 'Fuel Economy'),\n",
       " Text(0.5, 0, 'Power (bhp)')]"
      ]
     },
     "execution_count": 844,
     "metadata": {},
     "output_type": "execute_result"
    },
    {
     "data": {
      "image/png": "[encoded data removed]",
      "text/plain": [
       "<Figure size 432x288 with 1 Axes>"
      ]
     },
     "metadata": {
      "needs_background": "light"
     },
     "output_type": "display_data"
    }
   ],
   "source": [
    "sns.scatterplot(data=df,y='fuel_economy',x='power_num').set(\n",
    "    title=\"Fuel Economy vs Power\", \n",
    "    ylabel = 'Fuel Economy', \n",
    "    xlabel = 'Power (bhp)')"
   ]
  },
  {
   "cell_type": "code",
   "execution_count": 845,
   "id": "6030167b",
   "metadata": {},
   "outputs": [
    {
     "data": {
      "text/plain": [
       "[Text(0.5, 1.0, 'Fuel Economy vs Power'),\n",
       " Text(0, 0.5, 'Fuel Economy'),\n",
       " Text(0.5, 0, 'Enginge (cc)')]"
      ]
     },
     "execution_count": 845,
     "metadata": {},
     "output_type": "execute_result"
    },
    {
     "data": {
      "image/png": "[encoded data removed]",
      "text/plain": [
       "<Figure size 432x288 with 1 Axes>"
      ]
     },
     "metadata": {
      "needs_background": "light"
     },
     "output_type": "display_data"
    }
   ],
   "source": [
    "sns.scatterplot(data=df,y='fuel_economy',x='engine_num').set(\n",
    "    title=\"Fuel Economy vs Power\", \n",
    "    ylabel = 'Fuel Economy', \n",
    "    xlabel = 'Enginge (cc)')"
   ]
  },
  {
   "cell_type": "code",
   "execution_count": 846,
   "id": "745e95a2",
   "metadata": {},
   "outputs": [
    {
     "data": {
      "image/png": "[encoded data removed]",
      "text/plain": [
       "<Figure size 432x288 with 1 Axes>"
      ]
     },
     "metadata": {
      "needs_background": "light"
     },
     "output_type": "display_data"
    }
   ],
   "source": [
    "\n",
    "sns.scatterplot(data=df,y='Price',x='power_num').set(\n",
    "    title=\"Price vs Power\", \n",
    "    ylabel = 'Price (dollars)', \n",
    "    xlabel = 'Power (bhp)')\n",
    "plt.show()"
   ]
  },
  {
   "cell_type": "code",
   "execution_count": 847,
   "id": "14182b96",
   "metadata": {},
   "outputs": [
    {
     "data": {
      "text/plain": [
       "[Text(0.5, 1.0, 'Price vs Kilometers driven'),\n",
       " Text(0, 0.5, 'Price (dollars)'),\n",
       " Text(0.5, 0, 'Kilometers driven (km)')]"
      ]
     },
     "execution_count": 847,
     "metadata": {},
     "output_type": "execute_result"
    },
    {
     "data": {
      "image/png": "[encoded data removed]",
      "text/plain": [
       "<Figure size 432x288 with 1 Axes>"
      ]
     },
     "metadata": {
      "needs_background": "light"
     },
     "output_type": "display_data"
    }
   ],
   "source": [
    "\n",
    "sns.scatterplot(data=df,y='Price',x='Kilometers_Driven').set(\n",
    "    title=\"Price vs Kilometers driven\", \n",
    "    ylabel = 'Price (dollars)', \n",
    "    xlabel = 'Kilometers driven (km)')"
   ]
  },
  {
   "cell_type": "code",
   "execution_count": 848,
   "id": "987d1e4b",
   "metadata": {},
   "outputs": [
    {
     "data": {
      "text/plain": [
       "[Text(0.5, 1.0, 'Boxplot of Price and Location'),\n",
       " Text(0, 0.5, 'Price (dollars)')]"
      ]
     },
     "execution_count": 848,
     "metadata": {},
     "output_type": "execute_result"
    },
    {
     "data": {
      "image/png": "[encoded data removed]",
      "text/plain": [
       "<Figure size 936x360 with 1 Axes>"
      ]
     },
     "metadata": {
      "needs_background": "light"
     },
     "output_type": "display_data"
    }
   ],
   "source": [
    " plt.figure(figsize = (13, 5))\n",
    "sns.boxplot(x = df['Location'], y = df['Price'], showfliers = False,).set(title=\"Boxplot of Price and Location\", ylabel = 'Price (dollars)')"
   ]
  },
  {
   "cell_type": "code",
   "execution_count": 849,
   "id": "6e60df47",
   "metadata": {},
   "outputs": [
    {
     "data": {
      "text/plain": [
       "[Text(0.5, 1.0, 'Boxplot of Price and Transmission'),\n",
       " Text(0, 0.5, 'Price (dollars)')]"
      ]
     },
     "execution_count": 849,
     "metadata": {},
     "output_type": "execute_result"
    },
    {
     "data": {
      "image/png": "[encoded data removed]",
      "text/plain": [
       "<Figure size 432x288 with 1 Axes>"
      ]
     },
     "metadata": {
      "needs_background": "light"
     },
     "output_type": "display_data"
    }
   ],
   "source": [
    "\n",
    "sns.boxplot(x = df['Transmission'], y = df['Price'], showfliers = False,).set(\n",
    "    title=\"Boxplot of Price and Transmission\", \n",
    "    ylabel = 'Price (dollars)')"
   ]
  },
  {
   "cell_type": "code",
   "execution_count": 850,
   "id": "9b28bb7d",
   "metadata": {},
   "outputs": [
    {
     "name": "stderr",
     "output_type": "stream",
     "text": [
      "/Users/muhammadraees/opt/anaconda3/lib/python3.9/site-packages/seaborn/_decorators.py:36: FutureWarning: Pass the following variable as a keyword arg: x. From version 0.12, the only valid positional argument will be `data`, and passing other arguments without an explicit keyword will result in an error or misinterpretation.\n",
      "  warnings.warn(\n"
     ]
    },
    {
     "data": {
      "image/png": "[encoded data removed]",
      "text/plain": [
       "<Figure size 432x288 with 1 Axes>"
      ]
     },
     "metadata": {
      "needs_background": "light"
     },
     "output_type": "display_data"
    }
   ],
   "source": [
    "#creating barchart of Transmission\n",
    "ax = sns.countplot(df['Transmission']).set(title=\"Number of Cars with Each Transmision\") "
   ]
  },
  {
   "cell_type": "code",
   "execution_count": 851,
   "id": "f1b47012",
   "metadata": {},
   "outputs": [
    {
     "data": {
      "text/plain": [
       "[Text(0.5, 1.0, 'Histogram of Price'), Text(0.5, 0, 'Price')]"
      ]
     },
     "execution_count": 851,
     "metadata": {},
     "output_type": "execute_result"
    },
    {
     "data": {
      "image/png": "[encoded data removed]",
      "text/plain": [
       "<Figure size 432x288 with 1 Axes>"
      ]
     },
     "metadata": {
      "needs_background": "light"
     },
     "output_type": "display_data"
    }
   ],
   "source": [
    "sns.histplot(df[\"Price\"]).set(title=\"Histogram of Price\", xlabel = 'Price') # checking distribution of Price"
   ]
  },
  {
   "cell_type": "code",
   "execution_count": 852,
   "id": "2dacfaff",
   "metadata": {},
   "outputs": [],
   "source": [
    "df[\"Price_log\"] = np.log(df[\"Price\"]) # transforming price to logarithmic scale"
   ]
  },
  {
   "cell_type": "code",
   "execution_count": 853,
   "id": "10a75e50",
   "metadata": {},
   "outputs": [
    {
     "data": {
      "text/plain": [
       "[Text(0.5, 1.0, 'Histogram of Price'), Text(0.5, 0, 'Price log')]"
      ]
     },
     "execution_count": 853,
     "metadata": {},
     "output_type": "execute_result"
    },
    {
     "data": {
      "image/png": "[encoded data removed]",
      "text/plain": [
       "<Figure size 432x288 with 1 Axes>"
      ]
     },
     "metadata": {
      "needs_background": "light"
     },
     "output_type": "display_data"
    }
   ],
   "source": [
    "sns.histplot(df[\"Price_log\"]\n",
    "            ).set(title=\"Histogram of Price\", xlabel = 'Price log') # logarithmic scale has normal distribution"
   ]
  },
  {
   "cell_type": "code",
   "execution_count": 854,
   "id": "021cff0e",
   "metadata": {},
   "outputs": [
    {
     "data": {
      "text/plain": [
       "[Text(0.5, 1.0, 'Price vs Year')]"
      ]
     },
     "execution_count": 854,
     "metadata": {},
     "output_type": "execute_result"
    },
    {
     "data": {
      "image/png": "[encoded data removed]",
      "text/plain": [
       "<Figure size 432x288 with 1 Axes>"
      ]
     },
     "metadata": {
      "needs_background": "light"
     },
     "output_type": "display_data"
    }
   ],
   "source": [
    "sns.lineplot(x=df['Year'], y=df['Price']).set(title = 'Price vs Year')"
   ]
  },
  {
   "cell_type": "code",
   "execution_count": 855,
   "id": "63a2bcf0",
   "metadata": {},
   "outputs": [
    {
     "data": {
      "text/html": [
       "<div>\n",
       "<style scoped>\n",
       "    .dataframe tbody tr th:only-of-type {\n",
       "        vertical-align: middle;\n",
       "    }\n",
       "\n",
       "    .dataframe tbody tr th {\n",
       "        vertical-align: top;\n",
       "    }\n",
       "\n",
       "    .dataframe thead th {\n",
       "        text-align: right;\n",
       "    }\n",
       "</style>\n",
       "<table border=\"1\" class=\"dataframe\">\n",
       "  <thead>\n",
       "    <tr style=\"text-align: right;\">\n",
       "      <th></th>\n",
       "      <th>Location</th>\n",
       "      <th>Year</th>\n",
       "      <th>Kilometers_Driven</th>\n",
       "      <th>Fuel_Type</th>\n",
       "      <th>Transmission</th>\n",
       "      <th>Owner_Type</th>\n",
       "      <th>Seats</th>\n",
       "      <th>Price</th>\n",
       "      <th>fuel_economy</th>\n",
       "      <th>engine_num</th>\n",
       "      <th>power_num</th>\n",
       "      <th>new_price_num</th>\n",
       "      <th>Brand</th>\n",
       "      <th>Model</th>\n",
       "      <th>Price_log</th>\n",
       "    </tr>\n",
       "  </thead>\n",
       "  <tbody>\n",
       "    <tr>\n",
       "      <th>0</th>\n",
       "      <td>Mumbai</td>\n",
       "      <td>2010</td>\n",
       "      <td>72.00</td>\n",
       "      <td>CNG</td>\n",
       "      <td>Manual</td>\n",
       "      <td>First</td>\n",
       "      <td>5.0</td>\n",
       "      <td>2108.433735</td>\n",
       "      <td>26.60</td>\n",
       "      <td>998.0</td>\n",
       "      <td>58.16</td>\n",
       "      <td>5.51</td>\n",
       "      <td>maruti</td>\n",
       "      <td>wagon</td>\n",
       "      <td>7.653701</td>\n",
       "    </tr>\n",
       "    <tr>\n",
       "      <th>1</th>\n",
       "      <td>Pune</td>\n",
       "      <td>2015</td>\n",
       "      <td>41.00</td>\n",
       "      <td>Diesel</td>\n",
       "      <td>Manual</td>\n",
       "      <td>First</td>\n",
       "      <td>5.0</td>\n",
       "      <td>15060.240964</td>\n",
       "      <td>19.67</td>\n",
       "      <td>1582.0</td>\n",
       "      <td>126.20</td>\n",
       "      <td>16.06</td>\n",
       "      <td>hyundai</td>\n",
       "      <td>creta</td>\n",
       "      <td>9.619814</td>\n",
       "    </tr>\n",
       "    <tr>\n",
       "      <th>2</th>\n",
       "      <td>Chennai</td>\n",
       "      <td>2011</td>\n",
       "      <td>46.00</td>\n",
       "      <td>Petrol</td>\n",
       "      <td>Manual</td>\n",
       "      <td>First</td>\n",
       "      <td>5.0</td>\n",
       "      <td>5421.686747</td>\n",
       "      <td>18.20</td>\n",
       "      <td>1199.0</td>\n",
       "      <td>88.70</td>\n",
       "      <td>8.61</td>\n",
       "      <td>honda</td>\n",
       "      <td>jazz</td>\n",
       "      <td>8.598162</td>\n",
       "    </tr>\n",
       "    <tr>\n",
       "      <th>3</th>\n",
       "      <td>Chennai</td>\n",
       "      <td>2012</td>\n",
       "      <td>87.00</td>\n",
       "      <td>Diesel</td>\n",
       "      <td>Manual</td>\n",
       "      <td>First</td>\n",
       "      <td>7.0</td>\n",
       "      <td>7228.915663</td>\n",
       "      <td>20.77</td>\n",
       "      <td>1248.0</td>\n",
       "      <td>88.76</td>\n",
       "      <td>11.27</td>\n",
       "      <td>maruti</td>\n",
       "      <td>ertiga</td>\n",
       "      <td>8.885844</td>\n",
       "    </tr>\n",
       "    <tr>\n",
       "      <th>4</th>\n",
       "      <td>Coimbatore</td>\n",
       "      <td>2013</td>\n",
       "      <td>40.67</td>\n",
       "      <td>Diesel</td>\n",
       "      <td>Automatic</td>\n",
       "      <td>Second</td>\n",
       "      <td>5.0</td>\n",
       "      <td>21373.493976</td>\n",
       "      <td>15.20</td>\n",
       "      <td>1968.0</td>\n",
       "      <td>140.80</td>\n",
       "      <td>53.14</td>\n",
       "      <td>audi</td>\n",
       "      <td>a4</td>\n",
       "      <td>9.969907</td>\n",
       "    </tr>\n",
       "  </tbody>\n",
       "</table>\n",
       "</div>"
      ],
      "text/plain": [
       "     Location  Year  Kilometers_Driven Fuel_Type Transmission Owner_Type  \\\n",
       "0      Mumbai  2010              72.00       CNG       Manual      First   \n",
       "1        Pune  2015              41.00    Diesel       Manual      First   \n",
       "2     Chennai  2011              46.00    Petrol       Manual      First   \n",
       "3     Chennai  2012              87.00    Diesel       Manual      First   \n",
       "4  Coimbatore  2013              40.67    Diesel    Automatic     Second   \n",
       "\n",
       "   Seats         Price  fuel_economy  engine_num  power_num  new_price_num  \\\n",
       "0    5.0   2108.433735         26.60       998.0      58.16           5.51   \n",
       "1    5.0  15060.240964         19.67      1582.0     126.20          16.06   \n",
       "2    5.0   5421.686747         18.20      1199.0      88.70           8.61   \n",
       "3    7.0   7228.915663         20.77      1248.0      88.76          11.27   \n",
       "4    5.0  21373.493976         15.20      1968.0     140.80          53.14   \n",
       "\n",
       "     Brand   Model  Price_log  \n",
       "0   maruti   wagon   7.653701  \n",
       "1  hyundai   creta   9.619814  \n",
       "2    honda    jazz   8.598162  \n",
       "3   maruti  ertiga   8.885844  \n",
       "4     audi      a4   9.969907  "
      ]
     },
     "execution_count": 855,
     "metadata": {},
     "output_type": "execute_result"
    }
   ],
   "source": [
    "df.head()"
   ]
  },
  {
   "cell_type": "markdown",
   "id": "daf715f8",
   "metadata": {},
   "source": [
    "# Modeling\n"
   ]
  },
  {
   "cell_type": "code",
   "execution_count": 856,
   "id": "63ab8265",
   "metadata": {},
   "outputs": [],
   "source": [
    "independent_var = df.drop([\"Price\",\"Price_log\"], axis = 1)  # assigning explanaotry variables\n",
    "dependent_var = df[[\"Price\",\"Price_log\"]] # assigning target variable"
   ]
  },
  {
   "cell_type": "code",
   "execution_count": 857,
   "id": "49c79046",
   "metadata": {},
   "outputs": [],
   "source": [
    "# creating dummy variables for catagorical variables\n",
    "def encode(x):\n",
    "    x = pd.get_dummies(x,columns = x.select_dtypes(include = [\"object\", \"category\"]).columns.tolist(),drop_first = True,)\n",
    "    return x\n",
    "\n",
    "\n",
    "independent_variable = encode(independent_var)"
   ]
  },
  {
   "cell_type": "code",
   "execution_count": 858,
   "id": "731e5448",
   "metadata": {},
   "outputs": [],
   "source": [
    "# assigning training and test set\n",
    "\n",
    "x_train, x_test, y_train, y_test = train_test_split(independent_variable, dependent_var, test_size = 0.3, random_state = 1)"
   ]
  },
  {
   "cell_type": "code",
   "execution_count": 859,
   "id": "3014d565",
   "metadata": {
    "scrolled": false
   },
   "outputs": [
    {
     "name": "stdout",
     "output_type": "stream",
     "text": [
      "                            OLS Regression Results                            \n",
      "==============================================================================\n",
      "Dep. Variable:              Price_log   R-squared:                       0.957\n",
      "Model:                            OLS   Adj. R-squared:                  0.955\n",
      "Method:                 Least Squares   F-statistic:                     560.0\n",
      "Date:                Fri, 01 Dec 2023   Prob (F-statistic):               0.00\n",
      "Time:                        01:58:18   Log-Likelihood:                 1216.1\n",
      "No. Observations:                3334   AIC:                            -2176.\n",
      "Df Residuals:                    3206   BIC:                            -1394.\n",
      "Df Model:                         127                                         \n",
      "Covariance Type:            nonrobust                                         \n",
      "=======================================================================================\n",
      "                          coef    std err          t      P>|t|      [0.025      0.975]\n",
      "---------------------------------------------------------------------------------------\n",
      "const                -208.9995      2.990    -69.899      0.000    -214.862    -203.137\n",
      "Year                    0.1127      0.002     72.748      0.000       0.110       0.116\n",
      "Kilometers_Driven      -0.0013      0.000    -11.874      0.000      -0.001      -0.001\n",
      "Seats                   0.0168      0.018      0.941      0.347      -0.018       0.052\n",
      "fuel_economy           -0.0019      0.002     -0.969      0.333      -0.006       0.002\n",
      "engine_num          -7.381e-05   2.38e-05     -3.108      0.002      -0.000   -2.72e-05\n",
      "power_num               0.0031      0.000     11.497      0.000       0.003       0.004\n",
      "new_price_num           0.0063      0.001      5.965      0.000       0.004       0.008\n",
      "Location_Bangalore      0.1528      0.020      7.597      0.000       0.113       0.192\n",
      "Location_Chennai        0.0479      0.019      2.500      0.012       0.010       0.086\n",
      "Location_Coimbatore     0.1163      0.018      6.327      0.000       0.080       0.152\n",
      "Location_Delhi         -0.0942      0.018     -5.165      0.000      -0.130      -0.058\n",
      "Location_Hyderabad      0.1393      0.018      7.775      0.000       0.104       0.174\n",
      "Location_Jaipur        -0.0061      0.020     -0.314      0.753      -0.045       0.032\n",
      "Location_Kochi         -0.0358      0.018     -1.980      0.048      -0.071      -0.000\n",
      "Location_Kolkata       -0.2027      0.018    -10.977      0.000      -0.239      -0.166\n",
      "Location_Mumbai        -0.0409      0.018     -2.308      0.021      -0.076      -0.006\n",
      "Location_Pune          -0.0123      0.018     -0.673      0.501      -0.048       0.024\n",
      "Fuel_Type_Diesel        0.0497      0.035      1.427      0.154      -0.019       0.118\n",
      "Fuel_Type_LPG          -0.0828      0.071     -1.173      0.241      -0.221       0.056\n",
      "Fuel_Type_Petrol       -0.0617      0.037     -1.687      0.092      -0.133       0.010\n",
      "Transmission_Manual    -0.0838      0.011     -7.738      0.000      -0.105      -0.063\n",
      "Owner_Type_Second      -0.0551      0.009     -5.932      0.000      -0.073      -0.037\n",
      "Owner_Type_Third       -0.1680      0.028     -6.100      0.000      -0.222      -0.114\n",
      "Brand_bmw              -8.8152      0.129    -68.586      0.000      -9.067      -8.563\n",
      "Brand_datsun           -6.7745      0.100    -67.667      0.000      -6.971      -6.578\n",
      "Brand_fiat             -7.2737      0.107    -67.791      0.000      -7.484      -7.063\n",
      "Brand_ford             -7.9085      0.119    -66.706      0.000      -8.141      -7.676\n",
      "Brand_honda            -8.3585      0.121    -68.933      0.000      -8.596      -8.121\n",
      "Brand_hyundai          -8.4769      0.121    -70.107      0.000      -8.714      -8.240\n",
      "Brand_isuzu            -4.4646      0.111    -40.289      0.000      -4.682      -4.247\n",
      "Brand_jaguar           -5.7276      0.095    -60.375      0.000      -5.914      -5.542\n",
      "Brand_jeep             -4.4485      0.074    -59.960      0.000      -4.594      -4.303\n",
      "Brand_land             -4.3216      0.079    -54.480      0.000      -4.477      -4.166\n",
      "Brand_mahindra         -8.3958      0.129    -64.942      0.000      -8.649      -8.142\n",
      "Brand_maruti           -8.8358      0.125    -70.423      0.000      -9.082      -8.590\n",
      "Brand_mercedes-benz    -7.9258      0.125    -63.318      0.000      -8.171      -7.680\n",
      "Brand_mini             -5.5805      0.104    -53.495      0.000      -5.785      -5.376\n",
      "Brand_mitsubishi       -4.3900      0.074    -59.329      0.000      -4.535      -4.245\n",
      "Brand_nissan           -7.1568      0.102    -70.142      0.000      -7.357      -6.957\n",
      "Brand_porsche          -4.7934      0.092    -52.169      0.000      -4.974      -4.613\n",
      "Brand_renault          -6.4764      0.091    -70.935      0.000      -6.655      -6.297\n",
      "Brand_skoda            -6.9224      0.099    -69.935      0.000      -7.116      -6.728\n",
      "Brand_tata             -8.2561      0.122    -67.544      0.000      -8.496      -8.016\n",
      "Brand_toyota           -7.7302      0.119    -64.870      0.000      -7.964      -7.497\n",
      "Brand_volkswagen       -7.4595      0.113    -65.898      0.000      -7.681      -7.238\n",
      "Brand_volvo            -5.8422      0.097    -60.273      0.000      -6.032      -5.652\n",
      "Model_5                 0.1441      0.035      4.096      0.000       0.075       0.213\n",
      "Model_7                -0.1410      0.123     -1.150      0.250      -0.381       0.099\n",
      "Model_a                -0.7529      0.080     -9.455      0.000      -0.909      -0.597\n",
      "Model_a3               -8.8273      0.175    -50.360      0.000      -9.171      -8.484\n",
      "Model_a4               -8.7603      0.131    -67.075      0.000      -9.016      -8.504\n",
      "Model_a6               -8.7100      0.134    -64.952      0.000      -8.973      -8.447\n",
      "Model_alto             -1.1232      0.026    -43.740      0.000      -1.174      -1.073\n",
      "Model_amaze            -1.2642      0.034    -37.203      0.000      -1.331      -1.198\n",
      "Model_ameo             -2.1534      0.058    -37.389      0.000      -2.266      -2.040\n",
      "Model_aspire           -1.7075      0.095    -17.991      0.000      -1.894      -1.521\n",
      "Model_avventura        -2.3175      0.081    -28.700      0.000      -2.476      -2.159\n",
      "Model_b                -0.8868      0.078    -11.327      0.000      -1.040      -0.733\n",
      "Model_baleno           -0.6423      0.030    -21.398      0.000      -0.701      -0.583\n",
      "Model_bolero           -0.7861      0.065    -12.051      0.000      -0.914      -0.658\n",
      "Model_bolt             -1.6487      0.110    -14.927      0.000      -1.865      -1.432\n",
      "Model_br-v             -1.0068      0.096    -10.501      0.000      -1.195      -0.819\n",
      "Model_brio             -1.3468      0.038    -35.013      0.000      -1.422      -1.271\n",
      "Model_brv              -1.0209      0.114     -8.961      0.000      -1.244      -0.798\n",
      "Model_camry            -0.8837      0.062    -14.269      0.000      -1.005      -0.762\n",
      "Model_cayenne          -4.7934      0.092    -52.169      0.000      -4.974      -4.613\n",
      "Model_celerio          -0.9615      0.033    -29.359      0.000      -1.026      -0.897\n",
      "Model_ciaz             -0.4807      0.028    -16.965      0.000      -0.536      -0.425\n",
      "Model_city             -0.9776      0.029    -33.885      0.000      -1.034      -0.921\n",
      "Model_cla              -0.6329      0.071     -8.944      0.000      -0.772      -0.494\n",
      "Model_clubman          -2.7835      0.124    -22.465      0.000      -3.026      -2.541\n",
      "Model_compass          -4.4485      0.074    -59.960      0.000      -4.594      -4.303\n",
      "Model_cooper           -2.7970      0.077    -36.459      0.000      -2.947      -2.647\n",
      "Model_corolla          -1.4264      0.039    -36.383      0.000      -1.503      -1.349\n",
      "Model_cr-v             -0.6408      0.049    -13.143      0.000      -0.736      -0.545\n",
      "Model_creta            -0.6153      0.029    -21.255      0.000      -0.672      -0.559\n",
      "Model_duster           -2.8604      0.049    -58.198      0.000      -2.957      -2.764\n",
      "Model_dzire            -0.6344      0.043    -14.840      0.000      -0.718      -0.551\n",
      "Model_e-class          -0.8912      0.034    -25.906      0.000      -0.959      -0.824\n",
      "Model_ecosport         -1.4260      0.046    -31.083      0.000      -1.516      -1.336\n",
      "Model_eeco             -1.0826      0.053    -20.399      0.000      -1.187      -0.979\n",
      "Model_elantra          -0.6860      0.049    -14.029      0.000      -0.782      -0.590\n",
      "Model_elite            -0.9269      0.059    -15.705      0.000      -1.043      -0.811\n",
      "Model_endeavour        -0.9373      0.062    -15.074      0.000      -1.059      -0.815\n",
      "Model_ertiga           -0.4559      0.043    -10.551      0.000      -0.541      -0.371\n",
      "Model_etios            -1.8221      0.046    -39.702      0.000      -1.912      -1.732\n",
      "Model_figo             -1.8283      0.048    -37.776      0.000      -1.923      -1.733\n",
      "Model_fortuner         -0.8479      0.051    -16.537      0.000      -0.948      -0.747\n",
      "Model_freestyle        -1.2470      0.095    -13.179      0.000      -1.433      -1.062\n",
      "Model_gla              -0.6831      0.059    -11.677      0.000      -0.798      -0.568\n",
      "Model_glc              -0.4798      0.069     -6.932      0.000      -0.615      -0.344\n",
      "Model_gle              -0.5487      0.065     -8.444      0.000      -0.676      -0.421\n",
      "Model_gls              -0.4550      0.126     -3.601      0.000      -0.703      -0.207\n",
      "Model_go               -3.3208      0.080    -41.678      0.000      -3.477      -3.165\n",
      "Model_grand            -1.2001      0.028    -43.452      0.000      -1.254      -1.146\n",
      "Model_hexa             -0.8567      0.113     -7.549      0.000      -1.079      -0.634\n",
      "Model_i20              -1.0169      0.024    -43.000      0.000      -1.063      -0.970\n",
      "Model_ignis            -0.8375      0.093     -8.984      0.000      -1.020      -0.655\n",
      "Model_innova           -1.0700      0.052    -20.631      0.000      -1.172      -0.968\n",
      "Model_jazz             -1.1559      0.037    -31.044      0.000      -1.229      -1.083\n",
      "Model_kuv              -1.3868      0.062    -22.448      0.000      -1.508      -1.266\n",
      "Model_kwid             -3.6160      0.053    -67.615      0.000      -3.721      -3.511\n",
      "Model_linea            -2.4790      0.065    -38.323      0.000      -2.606      -2.352\n",
      "Model_micra            -2.5857      0.045    -56.829      0.000      -2.675      -2.496\n",
      "Model_mustang          -0.7623      0.167     -4.557      0.000      -1.090      -0.434\n",
      "Model_mux              -4.4646      0.111    -40.289      0.000      -4.682      -4.247\n",
      "Model_new              -0.7689      0.037    -20.535      0.000      -0.842      -0.695\n",
      "Model_nexon         -3.735e-17   8.64e-17     -0.432      0.665   -2.07e-16    1.32e-16\n",
      "Model_nuvosport        -1.3378      0.115    -11.630      0.000      -1.563      -1.112\n",
      "Model_octavia          -2.1833      0.042    -51.836      0.000      -2.266      -2.101\n",
      "Model_pajero           -4.3900      0.074    -59.329      0.000      -4.535      -4.245\n",
      "Model_platinum         -1.6802      0.151    -11.128      0.000      -1.976      -1.384\n",
      "Model_polo             -2.1202      0.048    -44.576      0.000      -2.213      -2.027\n",
      "Model_punto            -2.4771      0.099    -24.936      0.000      -2.672      -2.282\n",
      "Model_q3               -8.7022      0.136    -64.130      0.000      -8.968      -8.436\n",
      "Model_q7               -8.6438      0.157    -55.059      0.000      -8.952      -8.336\n",
      "Model_rapid            -2.5679      0.045    -56.569      0.000      -2.657      -2.479\n",
      "Model_redi-go          -3.4537      0.079    -43.814      0.000      -3.608      -3.299\n",
      "Model_rover            -4.3216      0.079    -54.480      0.000      -4.477      -4.166\n",
      "Model_rs5              -9.0213      0.228    -39.488      0.000      -9.469      -8.573\n",
      "Model_s-class          -1.1381      0.133     -8.569      0.000      -1.399      -0.878\n",
      "Model_s-cross          -0.5569      0.113     -4.919      0.000      -0.779      -0.335\n",
      "Model_s60              -3.0223      0.079    -38.158      0.000      -3.178      -2.867\n",
      "Model_safari           -1.1685      0.077    -15.230      0.000      -1.319      -1.018\n",
      "Model_santro           -1.2455      0.030    -41.280      0.000      -1.305      -1.186\n",
      "Model_slc              -0.6883      0.130     -5.277      0.000      -0.944      -0.433\n",
      "Model_sunny            -2.3559      0.047    -50.326      0.000      -2.448      -2.264\n",
      "Model_superb           -2.1712      0.041    -52.697      0.000      -2.252      -2.090\n",
      "Model_swift            -0.6720      0.021    -31.742      0.000      -0.714      -0.631\n",
      "Model_terrano          -2.2152      0.047    -47.543      0.000      -2.307      -2.124\n",
      "Model_thar             -0.9694      0.080    -12.186      0.000      -1.125      -0.813\n",
      "Model_tiago            -1.6640      0.062    -26.901      0.000      -1.785      -1.543\n",
      "Model_tigor            -1.3993      0.093    -15.079      0.000      -1.581      -1.217\n",
      "Model_tiguan           -1.1816      0.142     -8.350      0.000      -1.459      -0.904\n",
      "Model_tucson           -0.6253      0.096     -6.528      0.000      -0.813      -0.438\n",
      "Model_v40              -2.8199      0.095    -29.818      0.000      -3.005      -2.634\n",
      "Model_vento            -2.0043      0.047    -42.695      0.000      -2.096      -1.912\n",
      "Model_verito           -1.3702      0.157     -8.713      0.000      -1.679      -1.062\n",
      "Model_verna            -0.9396      0.024    -39.331      0.000      -0.986      -0.893\n",
      "Model_vitara           -0.4831      0.037    -13.202      0.000      -0.555      -0.411\n",
      "Model_wagon            -0.9057      0.024    -38.289      0.000      -0.952      -0.859\n",
      "Model_wr-v                   0          0        nan        nan           0           0\n",
      "Model_wrv              -0.9454      0.093    -10.215      0.000      -1.127      -0.764\n",
      "Model_x1                0.0110      0.045      0.246      0.806      -0.077       0.099\n",
      "Model_x3                0.1811      0.063      2.876      0.004       0.058       0.304\n",
      "Model_xcent            -1.2213      0.034    -35.856      0.000      -1.288      -1.154\n",
      "Model_xe               -2.8638      0.081    -35.366      0.000      -3.023      -2.705\n",
      "Model_xf               -2.8637      0.061    -47.230      0.000      -2.983      -2.745\n",
      "Model_xuv300           -0.6269      0.157     -3.995      0.000      -0.935      -0.319\n",
      "Model_xuv500           -0.7089      0.044    -16.129      0.000      -0.795      -0.623\n",
      "Model_xylo             -1.2097      0.057    -21.047      0.000      -1.322      -1.097\n",
      "Model_zest             -1.5191      0.055    -27.452      0.000      -1.628      -1.411\n",
      "==============================================================================\n",
      "Omnibus:                     1718.048   Durbin-Watson:                   1.968\n",
      "Prob(Omnibus):                  0.000   Jarque-Bera (JB):           121231.191\n",
      "Skew:                          -1.607   Prob(JB):                         0.00\n",
      "Kurtosis:                      32.366   Cond. No.                     1.45e+18\n",
      "==============================================================================\n",
      "\n",
      "Notes:\n",
      "[1] Standard Errors assume that the covariance matrix of the errors is correctly specified.\n",
      "[2] The smallest eigenvalue is 1.09e-26. This might indicate that there are\n",
      "strong multicollinearity problems or that the design matrix is singular.\n"
     ]
    },
    {
     "name": "stderr",
     "output_type": "stream",
     "text": [
      "/Users/muhammadraees/opt/anaconda3/lib/python3.9/site-packages/statsmodels/tsa/tsatools.py:142: FutureWarning: In a future version of pandas all arguments of concat except for the argument 'objs' will be keyword-only\n",
      "  x = pd.concat(x[::order], 1)\n"
     ]
    }
   ],
   "source": [
    "import statsmodels.api as sm\n",
    "\n",
    "x_train = sm.add_constant(x_train)\n",
    "x_test = sm.add_constant(x_test)\n",
    "\n",
    "# creating model build function\n",
    "def build_ols_model(train):\n",
    "    olsmodel = sm.OLS(y_train[\"Price_log\"], train)\n",
    "    return olsmodel.fit()\n",
    "\n",
    "# building model\n",
    "olsmodel1 = build_ols_model(x_train)\n",
    "print(olsmodel1.summary())\n"
   ]
  },
  {
   "cell_type": "markdown",
   "id": "cdb2ea5b",
   "metadata": {},
   "source": [
    "The model has high R-squared and adj. R-squared which means this is a good model. It explains 95% of variance in prices of used cars.\n",
    "\n",
    "This model is very messing because the amount of model names.\n"
   ]
  },
  {
   "cell_type": "code",
   "execution_count": 860,
   "id": "add311b0",
   "metadata": {},
   "outputs": [
    {
     "name": "stdout",
     "output_type": "stream",
     "text": [
      "    Data         RMSE          MAE\n",
      "0  Train  3372.435757  1493.984906\n",
      "1   Test  3542.263570  1503.791805\n"
     ]
    }
   ],
   "source": [
    "import math\n",
    "\n",
    "# function for RMSE\n",
    "def rmse(predictions, targets):\n",
    "    return np.sqrt(((targets - predictions) ** 2).mean())\n",
    "\n",
    "\n",
    "\n",
    "# function for MAE\n",
    "def mae(predictions, targets):\n",
    "    return np.mean(np.abs((targets - predictions)))\n",
    "\n",
    "\n",
    "def model_performance(model, x_train, x_test):\n",
    "\n",
    "    # Insample Prediction\n",
    "    y_pred_train_pricelog = model.predict(x_train)\n",
    "    y_pred_train_Price = y_pred_train_pricelog.apply(math.exp)\n",
    "    y_train_Price = y_train[\"Price\"]\n",
    "\n",
    "    # Prediction on test data\n",
    "    y_pred_test_pricelog = model.predict(x_test)\n",
    "    y_pred_test_Price = y_pred_test_pricelog.apply(math.exp)\n",
    "    y_test_Price = y_test[\"Price\"]\n",
    "\n",
    "    print(\n",
    "        pd.DataFrame(\n",
    "            {\n",
    "                \"Data\": [\"Train\", \"Test\"],\n",
    "                \"RMSE\": [\n",
    "                    rmse(y_pred_train_Price, y_train_Price),\n",
    "                    rmse(y_pred_test_Price, y_test_Price),\n",
    "                ],\n",
    "                \"MAE\": [\n",
    "                    mae(y_pred_train_Price, y_train_Price),\n",
    "                    mae(y_pred_test_Price, y_test_Price),\n",
    "                ],\n",
    "                \n",
    "            }\n",
    "        )\n",
    "    )\n",
    "\n",
    "\n",
    "model_performance(olsmodel1, x_train, x_test)"
   ]
  },
  {
   "cell_type": "markdown",
   "id": "ec44c06e",
   "metadata": {},
   "source": [
    "By looking at RMSE, we can say that the model is a little overfitting because RMSE of train data is lower than test data.\n",
    "Mean Absolute Error indicates that our current model can predict used car prices within a mean error of  1667 dollars on test data."
   ]
  },
  {
   "cell_type": "code",
   "execution_count": 861,
   "id": "22a64ae3",
   "metadata": {},
   "outputs": [],
   "source": [
    "y_pred_test_pricelog = olsmodel1.predict(x_test) # predicting price\n",
    "y_pred_test_Price = y_pred_test_pricelog.apply(math.exp) # exponentiating predicted log value \n",
    "y_test_Price = y_test[\"Price_log\"]"
   ]
  },
  {
   "cell_type": "code",
   "execution_count": 862,
   "id": "caa055aa",
   "metadata": {},
   "outputs": [
    {
     "name": "stdout",
     "output_type": "stream",
     "text": [
      "R-squared for the test dataset: 0.9452463930947972\n"
     ]
    }
   ],
   "source": [
    "from sklearn.metrics import r2_score\n",
    "\n",
    "# y_test contains the actual target values in the test dataset\n",
    "# y_pred contains the predicted values from your model\n",
    "\n",
    "# Calculating R-squared for the test dataset\n",
    "r_squared = r2_score(y_test_Price, y_pred_test_pricelog)\n",
    "\n",
    "print(\"R-squared for the test dataset:\", r_squared)"
   ]
  },
  {
   "cell_type": "code",
   "execution_count": 863,
   "id": "679e1382",
   "metadata": {},
   "outputs": [],
   "source": [
    "y_pred_train_pricelog = olsmodel1.predict(x_train)\n",
    "y_pred_train_Price = y_pred_train_pricelog.apply(math.exp)\n",
    "y_train_Price = y_train[\"Price_log\"]\n"
   ]
  },
  {
   "cell_type": "code",
   "execution_count": 864,
   "id": "88005c44",
   "metadata": {},
   "outputs": [
    {
     "name": "stdout",
     "output_type": "stream",
     "text": [
      "R-squared for the train dataset: 0.9568620438869021\n"
     ]
    }
   ],
   "source": [
    "from sklearn.metrics import r2_score\n",
    "\n",
    "# y_test contains the actual target values in the test dataset\n",
    "# y_pred contains the predicted values from your model\n",
    "\n",
    "# Calculating R-squared for the test dataset\n",
    "r_squared = r2_score(y_train_Price, y_pred_train_pricelog)\n",
    "\n",
    "print(\"R-squared for the train dataset:\", r_squared)"
   ]
  },
  {
   "cell_type": "markdown",
   "id": "e6beebb9",
   "metadata": {},
   "source": [
    "## No Multicollinearity"
   ]
  },
  {
   "cell_type": "code",
   "execution_count": 865,
   "id": "a4f99aab",
   "metadata": {},
   "outputs": [
    {
     "name": "stderr",
     "output_type": "stream",
     "text": [
      "/Users/muhammadraees/opt/anaconda3/lib/python3.9/site-packages/statsmodels/regression/linear_model.py:1715: RuntimeWarning: divide by zero encountered in double_scalars\n",
      "  return 1 - self.ssr/self.centered_tss\n",
      "/Users/muhammadraees/opt/anaconda3/lib/python3.9/site-packages/statsmodels/stats/outliers_influence.py:193: RuntimeWarning: divide by zero encountered in double_scalars\n",
      "  vif = 1. / (1. - r_squared_i)\n",
      "/Users/muhammadraees/opt/anaconda3/lib/python3.9/site-packages/statsmodels/regression/linear_model.py:1715: RuntimeWarning: invalid value encountered in double_scalars\n",
      "  return 1 - self.ssr/self.centered_tss\n"
     ]
    },
    {
     "name": "stdout",
     "output_type": "stream",
     "text": [
      "               feature        VIF\n",
      "0                const   0.000000\n",
      "1                 Year   2.538920\n",
      "2    Kilometers_Driven   1.757288\n",
      "3                Seats  20.114750\n",
      "4         fuel_economy   7.505286\n",
      "..                 ...        ...\n",
      "148           Model_xf        inf\n",
      "149       Model_xuv300        inf\n",
      "150       Model_xuv500        inf\n",
      "151         Model_xylo        inf\n",
      "152         Model_zest        inf\n",
      "\n",
      "[153 rows x 2 columns]\n"
     ]
    }
   ],
   "source": [
    "# VIF function\n",
    "def checking_vif(train):\n",
    "    vif = pd.DataFrame()\n",
    "    vif[\"feature\"] = train.columns\n",
    "\n",
    "    vif[\"VIF\"] = [\n",
    "        variance_inflation_factor(train.values, i) for i in range(len(train.columns))\n",
    "    ]\n",
    "    return vif\n",
    "\n",
    "\n",
    "print(checking_vif(x_train))"
   ]
  },
  {
   "cell_type": "code",
   "execution_count": 866,
   "id": "4957a4ae",
   "metadata": {},
   "outputs": [
    {
     "data": {
      "text/plain": [
       "Brand          Model  \n",
       "mercedes-benz  s-class    171.000000\n",
       "bmw            7          157.230769\n",
       "porsche        cayenne    136.000000\n",
       "audi           rs5        128.000000\n",
       "land           rover      119.887000\n",
       "                             ...    \n",
       "maruti         eeco         4.900000\n",
       "renault        kwid         4.794750\n",
       "hyundai        santro       4.550000\n",
       "maruti         alto         4.366364\n",
       "datsun         redi-go      4.153333\n",
       "Name: new_price_num, Length: 107, dtype: float64"
      ]
     },
     "execution_count": 866,
     "metadata": {},
     "output_type": "execute_result"
    }
   ],
   "source": [
    "df.groupby([\"Brand\", \"Model\"])[\"new_price_num\"].mean().sort_values(ascending = False)"
   ]
  },
  {
   "cell_type": "code",
   "execution_count": 867,
   "id": "3ac47027",
   "metadata": {},
   "outputs": [],
   "source": [
    "# replacing model names and gouping the cars based on their price.\n",
    "df_1 = df.copy()\n",
    "df_1[\"car_category\"] = pd.cut(\n",
    "    x = df[\"new_price_num\"],\n",
    "    bins = [0, 15, 30, 50, 200],\n",
    "    labels = [\"Affordable\", \"Mid-Range\", \"Luxury_Cars\", \"Ultra_luxury\"],\n",
    ")\n",
    "\n",
    "# Dropping the Brand and Model columns.\n",
    "df_1.drop(columns = [\"Brand\", \"Model\"], axis = 1, inplace = True)"
   ]
  },
  {
   "cell_type": "code",
   "execution_count": 868,
   "id": "1a55a593",
   "metadata": {},
   "outputs": [
    {
     "data": {
      "text/html": [
       "<div>\n",
       "<style scoped>\n",
       "    .dataframe tbody tr th:only-of-type {\n",
       "        vertical-align: middle;\n",
       "    }\n",
       "\n",
       "    .dataframe tbody tr th {\n",
       "        vertical-align: top;\n",
       "    }\n",
       "\n",
       "    .dataframe thead th {\n",
       "        text-align: right;\n",
       "    }\n",
       "</style>\n",
       "<table border=\"1\" class=\"dataframe\">\n",
       "  <thead>\n",
       "    <tr style=\"text-align: right;\">\n",
       "      <th></th>\n",
       "      <th>Location</th>\n",
       "      <th>Year</th>\n",
       "      <th>Kilometers_Driven</th>\n",
       "      <th>Fuel_Type</th>\n",
       "      <th>Transmission</th>\n",
       "      <th>Owner_Type</th>\n",
       "      <th>Seats</th>\n",
       "      <th>Price</th>\n",
       "      <th>fuel_economy</th>\n",
       "      <th>engine_num</th>\n",
       "      <th>power_num</th>\n",
       "      <th>new_price_num</th>\n",
       "      <th>Price_log</th>\n",
       "      <th>car_category</th>\n",
       "    </tr>\n",
       "  </thead>\n",
       "  <tbody>\n",
       "    <tr>\n",
       "      <th>0</th>\n",
       "      <td>Mumbai</td>\n",
       "      <td>2010</td>\n",
       "      <td>72.00</td>\n",
       "      <td>CNG</td>\n",
       "      <td>Manual</td>\n",
       "      <td>First</td>\n",
       "      <td>5.0</td>\n",
       "      <td>2108.433735</td>\n",
       "      <td>26.60</td>\n",
       "      <td>998.0</td>\n",
       "      <td>58.16</td>\n",
       "      <td>5.51</td>\n",
       "      <td>7.653701</td>\n",
       "      <td>Affordable</td>\n",
       "    </tr>\n",
       "    <tr>\n",
       "      <th>1</th>\n",
       "      <td>Pune</td>\n",
       "      <td>2015</td>\n",
       "      <td>41.00</td>\n",
       "      <td>Diesel</td>\n",
       "      <td>Manual</td>\n",
       "      <td>First</td>\n",
       "      <td>5.0</td>\n",
       "      <td>15060.240964</td>\n",
       "      <td>19.67</td>\n",
       "      <td>1582.0</td>\n",
       "      <td>126.20</td>\n",
       "      <td>16.06</td>\n",
       "      <td>9.619814</td>\n",
       "      <td>Mid-Range</td>\n",
       "    </tr>\n",
       "    <tr>\n",
       "      <th>2</th>\n",
       "      <td>Chennai</td>\n",
       "      <td>2011</td>\n",
       "      <td>46.00</td>\n",
       "      <td>Petrol</td>\n",
       "      <td>Manual</td>\n",
       "      <td>First</td>\n",
       "      <td>5.0</td>\n",
       "      <td>5421.686747</td>\n",
       "      <td>18.20</td>\n",
       "      <td>1199.0</td>\n",
       "      <td>88.70</td>\n",
       "      <td>8.61</td>\n",
       "      <td>8.598162</td>\n",
       "      <td>Affordable</td>\n",
       "    </tr>\n",
       "    <tr>\n",
       "      <th>3</th>\n",
       "      <td>Chennai</td>\n",
       "      <td>2012</td>\n",
       "      <td>87.00</td>\n",
       "      <td>Diesel</td>\n",
       "      <td>Manual</td>\n",
       "      <td>First</td>\n",
       "      <td>7.0</td>\n",
       "      <td>7228.915663</td>\n",
       "      <td>20.77</td>\n",
       "      <td>1248.0</td>\n",
       "      <td>88.76</td>\n",
       "      <td>11.27</td>\n",
       "      <td>8.885844</td>\n",
       "      <td>Affordable</td>\n",
       "    </tr>\n",
       "    <tr>\n",
       "      <th>4</th>\n",
       "      <td>Coimbatore</td>\n",
       "      <td>2013</td>\n",
       "      <td>40.67</td>\n",
       "      <td>Diesel</td>\n",
       "      <td>Automatic</td>\n",
       "      <td>Second</td>\n",
       "      <td>5.0</td>\n",
       "      <td>21373.493976</td>\n",
       "      <td>15.20</td>\n",
       "      <td>1968.0</td>\n",
       "      <td>140.80</td>\n",
       "      <td>53.14</td>\n",
       "      <td>9.969907</td>\n",
       "      <td>Ultra_luxury</td>\n",
       "    </tr>\n",
       "  </tbody>\n",
       "</table>\n",
       "</div>"
      ],
      "text/plain": [
       "     Location  Year  Kilometers_Driven Fuel_Type Transmission Owner_Type  \\\n",
       "0      Mumbai  2010              72.00       CNG       Manual      First   \n",
       "1        Pune  2015              41.00    Diesel       Manual      First   \n",
       "2     Chennai  2011              46.00    Petrol       Manual      First   \n",
       "3     Chennai  2012              87.00    Diesel       Manual      First   \n",
       "4  Coimbatore  2013              40.67    Diesel    Automatic     Second   \n",
       "\n",
       "   Seats         Price  fuel_economy  engine_num  power_num  new_price_num  \\\n",
       "0    5.0   2108.433735         26.60       998.0      58.16           5.51   \n",
       "1    5.0  15060.240964         19.67      1582.0     126.20          16.06   \n",
       "2    5.0   5421.686747         18.20      1199.0      88.70           8.61   \n",
       "3    7.0   7228.915663         20.77      1248.0      88.76          11.27   \n",
       "4    5.0  21373.493976         15.20      1968.0     140.80          53.14   \n",
       "\n",
       "   Price_log  car_category  \n",
       "0   7.653701    Affordable  \n",
       "1   9.619814     Mid-Range  \n",
       "2   8.598162    Affordable  \n",
       "3   8.885844    Affordable  \n",
       "4   9.969907  Ultra_luxury  "
      ]
     },
     "execution_count": 868,
     "metadata": {},
     "output_type": "execute_result"
    }
   ],
   "source": [
    "df_1.head(5)"
   ]
  },
  {
   "cell_type": "code",
   "execution_count": 869,
   "id": "71a3089f",
   "metadata": {},
   "outputs": [
    {
     "name": "stdout",
     "output_type": "stream",
     "text": [
      "                            OLS Regression Results                            \n",
      "==============================================================================\n",
      "Dep. Variable:              Price_log   R-squared:                       0.921\n",
      "Model:                            OLS   Adj. R-squared:                  0.920\n",
      "Method:                 Least Squares   F-statistic:                     1474.\n",
      "Date:                Fri, 01 Dec 2023   Prob (F-statistic):               0.00\n",
      "Time:                        01:58:27   Log-Likelihood:                 197.99\n",
      "No. Observations:                3334   AIC:                            -342.0\n",
      "Df Residuals:                    3307   BIC:                            -177.0\n",
      "Df Model:                          26                                         \n",
      "Covariance Type:            nonrobust                                         \n",
      "=============================================================================================\n",
      "                                coef    std err          t      P>|t|      [0.025      0.975]\n",
      "---------------------------------------------------------------------------------------------\n",
      "const                      -229.0132      3.593    -63.742      0.000    -236.058    -221.969\n",
      "Year                          0.1179      0.002     65.807      0.000       0.114       0.121\n",
      "Kilometers_Driven            -0.0012      0.000     -8.411      0.000      -0.001      -0.001\n",
      "Seats                         0.0244      0.008      2.949      0.003       0.008       0.041\n",
      "fuel_economy                 -0.0110      0.002     -5.983      0.000      -0.015      -0.007\n",
      "engine_num                 2.856e-05   2.16e-05      1.321      0.187   -1.38e-05    7.09e-05\n",
      "power_num                     0.0043      0.000     18.344      0.000       0.004       0.005\n",
      "new_price_num                 0.0061      0.000     14.842      0.000       0.005       0.007\n",
      "Location_Bangalore            0.1198      0.026      4.543      0.000       0.068       0.172\n",
      "Location_Chennai              0.0159      0.025      0.631      0.528      -0.033       0.065\n",
      "Location_Coimbatore           0.0759      0.024      3.145      0.002       0.029       0.123\n",
      "Location_Delhi               -0.0814      0.024     -3.391      0.001      -0.129      -0.034\n",
      "Location_Hyderabad            0.1116      0.024      4.746      0.000       0.066       0.158\n",
      "Location_Jaipur              -0.0563      0.026     -2.191      0.029      -0.107      -0.006\n",
      "Location_Kochi               -0.0502      0.024     -2.103      0.036      -0.097      -0.003\n",
      "Location_Kolkata             -0.2223      0.024     -9.153      0.000      -0.270      -0.175\n",
      "Location_Mumbai              -0.0536      0.023     -2.308      0.021      -0.099      -0.008\n",
      "Location_Pune                -0.0310      0.024     -1.286      0.198      -0.078       0.016\n",
      "Fuel_Type_Diesel              0.1997      0.043      4.631      0.000       0.115       0.284\n",
      "Fuel_Type_LPG                -0.0990      0.092     -1.072      0.284      -0.280       0.082\n",
      "Fuel_Type_Petrol             -0.0183      0.044     -0.411      0.681      -0.105       0.069\n",
      "Transmission_Manual          -0.0916      0.013     -6.887      0.000      -0.118      -0.066\n",
      "Owner_Type_Second            -0.0481      0.012     -3.928      0.000      -0.072      -0.024\n",
      "Owner_Type_Third             -0.1732      0.036     -4.788      0.000      -0.244      -0.102\n",
      "car_category_Mid-Range        0.2751      0.015     17.902      0.000       0.245       0.305\n",
      "car_category_Luxury_Cars      0.5326      0.022     24.315      0.000       0.490       0.576\n",
      "car_category_Ultra_luxury     0.4834      0.032     15.110      0.000       0.421       0.546\n",
      "==============================================================================\n",
      "Omnibus:                     1792.545   Durbin-Watson:                   1.988\n",
      "Prob(Omnibus):                  0.000   Jarque-Bera (JB):           100835.420\n",
      "Skew:                          -1.788   Prob(JB):                         0.00\n",
      "Kurtosis:                      29.704   Cond. No.                     2.37e+06\n",
      "==============================================================================\n",
      "\n",
      "Notes:\n",
      "[1] Standard Errors assume that the covariance matrix of the errors is correctly specified.\n",
      "[2] The condition number is large, 2.37e+06. This might indicate that there are\n",
      "strong multicollinearity or other numerical problems.\n",
      "    Data         RMSE          MAE\n",
      "0  Train  4588.083433  2039.545807\n",
      "1   Test  4533.163610  1966.852787\n"
     ]
    },
    {
     "name": "stderr",
     "output_type": "stream",
     "text": [
      "/Users/muhammadraees/opt/anaconda3/lib/python3.9/site-packages/statsmodels/tsa/tsatools.py:142: FutureWarning: In a future version of pandas all arguments of concat except for the argument 'objs' will be keyword-only\n",
      "  x = pd.concat(x[::order], 1)\n"
     ]
    }
   ],
   "source": [
    "ind_vars = df_1.drop([\"Price\", \"Price_log\"], axis = 1)\n",
    "dep_var = df_1[[\"Price_log\", \"Price\"]]\n",
    "\n",
    "# encoding catagorical variables\n",
    "ind_vars_num = encode(ind_vars)\n",
    "\n",
    "# Splitting data into train and test\n",
    "X_train, X_test, y_train, y_test = train_test_split(ind_vars_num, dep_var, test_size = 0.3, random_state = 1)\n",
    "\n",
    "x_train = sm.add_constant(X_train)\n",
    "x_test = sm.add_constant(X_test)\n",
    "\n",
    "# Fitting linear model on new dataset\n",
    "olsmodel6 = build_ols_model(x_train)\n",
    "print(olsmodel6.summary())\n",
    "\n",
    "model_performance(olsmodel6, x_train, x_test)"
   ]
  },
  {
   "cell_type": "code",
   "execution_count": 870,
   "id": "4e5c3964",
   "metadata": {},
   "outputs": [],
   "source": [
    "y_pred_test_pricelog = olsmodel6.predict(x_test) # predicting price\n",
    "y_pred_test_Price = y_pred_test_pricelog.apply(math.exp) # exponentiating predicted log value\n",
    "y_test_Price = y_test[\"Price_log\"]"
   ]
  },
  {
   "cell_type": "code",
   "execution_count": 871,
   "id": "7d4457c4",
   "metadata": {},
   "outputs": [
    {
     "name": "stdout",
     "output_type": "stream",
     "text": [
      "R-squared for the test dataset: 0.9149448876814822\n"
     ]
    }
   ],
   "source": [
    "from sklearn.metrics import r2_score\n",
    "\n",
    "# y_test contains the actual target values in the test dataset\n",
    "# y_pred contains the predicted values from your model\n",
    "\n",
    "# Calculating R-squared for the test dataset\n",
    "r_squared = r2_score(y_test_Price, y_pred_test_pricelog)\n",
    "\n",
    "print(\"R-squared for the test dataset:\", r_squared)"
   ]
  },
  {
   "cell_type": "code",
   "execution_count": 872,
   "id": "4824619f",
   "metadata": {},
   "outputs": [],
   "source": [
    "y_pred_train_pricelog = olsmodel6.predict(x_train)\n",
    "y_pred_train_Price = y_pred_train_pricelog.apply(math.exp)\n",
    "y_train_Price = y_train[\"Price_log\"]"
   ]
  },
  {
   "cell_type": "code",
   "execution_count": 873,
   "id": "9363c2c2",
   "metadata": {},
   "outputs": [
    {
     "name": "stdout",
     "output_type": "stream",
     "text": [
      "R-squared for the train dataset: 0.9205503868422285\n"
     ]
    }
   ],
   "source": [
    "from sklearn.metrics import r2_score\n",
    "\n",
    "# y_test contains the actual target values in the test dataset\n",
    "# y_pred contains the predicted values from your model\n",
    "\n",
    "# Calculating R-squared for the test dataset\n",
    "r_squared = r2_score(y_train_Price, y_pred_train_pricelog)\n",
    "\n",
    "print(\"R-squared for the train dataset:\", r_squared)"
   ]
  },
  {
   "cell_type": "code",
   "execution_count": 874,
   "id": "a12ffd32",
   "metadata": {},
   "outputs": [
    {
     "name": "stdout",
     "output_type": "stream",
     "text": [
      "                      feature            VIF\n",
      "0                       const  821024.104343\n",
      "1                        Year       1.898910\n",
      "2           Kilometers_Driven       1.631905\n",
      "3                       Seats       2.410657\n",
      "4                fuel_economy       3.730841\n",
      "5                  engine_num       9.370105\n",
      "6                   power_num       8.451450\n",
      "7               new_price_num       7.250166\n",
      "8          Location_Bangalore       2.400829\n",
      "9            Location_Chennai       2.830766\n",
      "10        Location_Coimbatore       3.472150\n",
      "11             Location_Delhi       3.245216\n",
      "12         Location_Hyderabad       3.665229\n",
      "13            Location_Jaipur       2.580968\n",
      "14             Location_Kochi       3.678438\n",
      "15           Location_Kolkata       3.172028\n",
      "16            Location_Mumbai       3.994605\n",
      "17              Location_Pune       3.294147\n",
      "18           Fuel_Type_Diesel      29.277744\n",
      "19              Fuel_Type_LPG       1.298438\n",
      "20           Fuel_Type_Petrol      30.914403\n",
      "21        Transmission_Manual       2.353236\n",
      "22          Owner_Type_Second       1.180444\n",
      "23           Owner_Type_Third       1.083340\n",
      "24     car_category_Mid-Range       1.750966\n",
      "25   car_category_Luxury_Cars       2.910996\n",
      "26  car_category_Ultra_luxury       7.181689\n"
     ]
    }
   ],
   "source": [
    "print(checking_vif(x_train))"
   ]
  },
  {
   "cell_type": "markdown",
   "id": "1cfff84d",
   "metadata": {},
   "source": [
    "features that have high VIF are power_num, engine_num, new_price_num, Fuel_Type_Diesel,Fuel_Type_Petrol and car_category_Ultra_luxury"
   ]
  },
  {
   "cell_type": "code",
   "execution_count": 875,
   "id": "a7bf49d7",
   "metadata": {},
   "outputs": [
    {
     "name": "stdout",
     "output_type": "stream",
     "text": [
      "    Data         RMSE          MAE\n",
      "0  Train  4588.083433  2039.545807\n",
      "1   Test  4533.163610  1966.852787\n"
     ]
    }
   ],
   "source": [
    "model_performance(olsmodel6, x_train, x_test)"
   ]
  },
  {
   "cell_type": "markdown",
   "id": "b7e6c279",
   "metadata": {},
   "source": [
    "The r squared and adj. r squared has reduced a little, but it is still high. \n",
    "The RMSE of train data is now greater than test but they are still close to each other which means the model is not\n",
    "overfitting the training data anymore"
   ]
  },
  {
   "cell_type": "code",
   "execution_count": null,
   "id": "fae66b90",
   "metadata": {},
   "outputs": [],
   "source": []
  },
  {
   "cell_type": "code",
   "execution_count": 876,
   "id": "1a735a84",
   "metadata": {},
   "outputs": [
    {
     "name": "stdout",
     "output_type": "stream",
     "text": [
      "                      feature            VIF\n",
      "0                       const  818551.197778\n",
      "1                        Year       1.893758\n",
      "2           Kilometers_Driven       1.626274\n",
      "3                       Seats       1.863125\n",
      "4                fuel_economy       3.223834\n",
      "5                   power_num       4.526415\n",
      "6          Location_Bangalore       2.400622\n",
      "7            Location_Chennai       2.829874\n",
      "8         Location_Coimbatore       3.471558\n",
      "9              Location_Delhi       3.243776\n",
      "10         Location_Hyderabad       3.662483\n",
      "11            Location_Jaipur       2.580656\n",
      "12             Location_Kochi       3.675594\n",
      "13           Location_Kolkata       3.171577\n",
      "14            Location_Mumbai       3.994070\n",
      "15              Location_Pune       3.293777\n",
      "16           Fuel_Type_Diesel      29.248173\n",
      "17              Fuel_Type_LPG       1.295538\n",
      "18           Fuel_Type_Petrol      30.619619\n",
      "19        Transmission_Manual       2.349834\n",
      "20          Owner_Type_Second       1.180259\n",
      "21           Owner_Type_Third       1.082689\n",
      "22     car_category_Mid-Range       1.747636\n",
      "23   car_category_Luxury_Cars       2.689702\n",
      "24  car_category_Ultra_luxury       4.624323\n"
     ]
    }
   ],
   "source": [
    "# removing engine and new_price coumns\n",
    "col_to_drop = \"engine_num\"\n",
    "x_train = x_train.loc[:, ~x_train.columns.str.startswith(col_to_drop)]\n",
    "x_test = x_test.loc[:, ~x_test.columns.str.startswith(col_to_drop)]\n",
    "col_to_drop = \"new_price_num\"\n",
    "x_train = x_train.loc[:, ~x_train.columns.str.startswith(col_to_drop)]\n",
    "x_test = x_test.loc[:, ~x_test.columns.str.startswith(col_to_drop)]\n",
    "\n",
    "# Checking VIF again\n",
    "vif = checking_vif(x_train)\n",
    "print(vif)"
   ]
  },
  {
   "cell_type": "markdown",
   "id": "71b3af49",
   "metadata": {},
   "source": [
    "No more high VIF scores."
   ]
  },
  {
   "cell_type": "code",
   "execution_count": 877,
   "id": "470233ed",
   "metadata": {},
   "outputs": [
    {
     "name": "stdout",
     "output_type": "stream",
     "text": [
      "                            OLS Regression Results                            \n",
      "==============================================================================\n",
      "Dep. Variable:              Price_log   R-squared:                       0.915\n",
      "Model:                            OLS   Adj. R-squared:                  0.914\n",
      "Method:                 Least Squares   F-statistic:                     1484.\n",
      "Date:                Fri, 01 Dec 2023   Prob (F-statistic):               0.00\n",
      "Time:                        01:58:27   Log-Likelihood:                 84.998\n",
      "No. Observations:                3334   AIC:                            -120.0\n",
      "Df Residuals:                    3309   BIC:                             32.80\n",
      "Df Model:                          24                                         \n",
      "Covariance Type:            nonrobust                                         \n",
      "=============================================================================================\n",
      "                                coef    std err          t      P>|t|      [0.025      0.975]\n",
      "---------------------------------------------------------------------------------------------\n",
      "const                      -226.8288      3.710    -61.141      0.000    -234.103    -219.555\n",
      "Year                          0.1168      0.002     63.152      0.000       0.113       0.120\n",
      "Kilometers_Driven            -0.0012      0.000     -8.137      0.000      -0.001      -0.001\n",
      "Seats                         0.0266      0.008      3.538      0.000       0.012       0.041\n",
      "fuel_economy                 -0.0149      0.002     -8.375      0.000      -0.018      -0.011\n",
      "power_num                     0.0056      0.000     31.359      0.000       0.005       0.006\n",
      "Location_Bangalore            0.1169      0.027      4.286      0.000       0.063       0.170\n",
      "Location_Chennai              0.0197      0.026      0.756      0.449      -0.031       0.071\n",
      "Location_Coimbatore           0.0790      0.025      3.165      0.002       0.030       0.128\n",
      "Location_Delhi               -0.0741      0.025     -2.984      0.003      -0.123      -0.025\n",
      "Location_Hyderabad            0.1207      0.024      4.966      0.000       0.073       0.168\n",
      "Location_Jaipur              -0.0536      0.027     -2.015      0.044      -0.106      -0.001\n",
      "Location_Kochi               -0.0415      0.025     -1.683      0.093      -0.090       0.007\n",
      "Location_Kolkata             -0.2229      0.025     -8.877      0.000      -0.272      -0.174\n",
      "Location_Mumbai              -0.0496      0.024     -2.065      0.039      -0.097      -0.003\n",
      "Location_Pune                -0.0271      0.025     -1.088      0.276      -0.076       0.022\n",
      "Fuel_Type_Diesel              0.1908      0.045      4.280      0.000       0.103       0.278\n",
      "Fuel_Type_LPG                -0.1331      0.095     -1.395      0.163      -0.320       0.054\n",
      "Fuel_Type_Petrol             -0.0510      0.046     -1.115      0.265      -0.141       0.039\n",
      "Transmission_Manual          -0.0903      0.014     -6.572      0.000      -0.117      -0.063\n",
      "Owner_Type_Second            -0.0458      0.013     -3.615      0.000      -0.071      -0.021\n",
      "Owner_Type_Third             -0.1863      0.037     -4.983      0.000      -0.260      -0.113\n",
      "car_category_Mid-Range        0.2842      0.016     17.896      0.000       0.253       0.315\n",
      "car_category_Luxury_Cars      0.6239      0.022     28.653      0.000       0.581       0.667\n",
      "car_category_Ultra_luxury     0.7636      0.027     28.763      0.000       0.712       0.816\n",
      "==============================================================================\n",
      "Omnibus:                     1354.854   Durbin-Watson:                   2.015\n",
      "Prob(Omnibus):                  0.000   Jarque-Bera (JB):            57371.298\n",
      "Skew:                          -1.213   Prob(JB):                         0.00\n",
      "Kurtosis:                      23.177   Cond. No.                     1.83e+06\n",
      "==============================================================================\n",
      "\n",
      "Notes:\n",
      "[1] Standard Errors assume that the covariance matrix of the errors is correctly specified.\n",
      "[2] The condition number is large, 1.83e+06. This might indicate that there are\n",
      "strong multicollinearity or other numerical problems.\n",
      "    Data        RMSE          MAE\n",
      "0  Train  5263.74567  2189.303649\n",
      "1   Test  4710.98312  2075.821125\n"
     ]
    }
   ],
   "source": [
    "olsmodel3 = build_ols_model(x_train)\n",
    "print(olsmodel3.summary())\n",
    "model_performance(olsmodel3, x_train, x_test)"
   ]
  },
  {
   "cell_type": "code",
   "execution_count": 878,
   "id": "c9504d32",
   "metadata": {},
   "outputs": [],
   "source": [
    "y_pred_test_pricelog = olsmodel3.predict(x_test) # predicting price \n",
    "y_pred_test_Price = y_pred_test_pricelog.apply(math.exp) # exponentiating predicted log value\n",
    "y_test_Price = y_test[\"Price_log\"]"
   ]
  },
  {
   "cell_type": "code",
   "execution_count": 879,
   "id": "2d869bad",
   "metadata": {},
   "outputs": [
    {
     "name": "stdout",
     "output_type": "stream",
     "text": [
      "R-squared for the test dataset: 0.9098285696761572\n"
     ]
    }
   ],
   "source": [
    "from sklearn.metrics import r2_score\n",
    "\n",
    "# y_test contains the actual target values in the test dataset\n",
    "# y_pred contains the predicted values from your model\n",
    "\n",
    "# Calculate R-squared for the test dataset\n",
    "r_squared = r2_score(y_test_Price, y_pred_test_pricelog)\n",
    "\n",
    "print(\"R-squared for the test dataset:\", r_squared)"
   ]
  },
  {
   "cell_type": "code",
   "execution_count": 880,
   "id": "df225eb4",
   "metadata": {},
   "outputs": [],
   "source": [
    "y_pred_train_pricelog = olsmodel3.predict(x_train)\n",
    "y_pred_train_Price = y_pred_train_pricelog.apply(math.exp)\n",
    "y_train_Price = y_train[\"Price_log\"]"
   ]
  },
  {
   "cell_type": "code",
   "execution_count": 881,
   "id": "0fdde6e2",
   "metadata": {},
   "outputs": [
    {
     "name": "stdout",
     "output_type": "stream",
     "text": [
      "R-squared for the train dataset: 0.914978622054987\n"
     ]
    }
   ],
   "source": [
    "from sklearn.metrics import r2_score\n",
    "\n",
    "# y_test contains the actual target values in the test dataset\n",
    "# y_pred contains the predicted values from your model\n",
    "\n",
    "# Calculate R-squared for the test dataset\n",
    "r_squared = r2_score(y_train_Price, y_pred_train_pricelog)\n",
    "\n",
    "print(\"R-squared for the train dataset:\", r_squared)"
   ]
  },
  {
   "cell_type": "markdown",
   "id": "41fe4127",
   "metadata": {},
   "source": [
    "The multicollinearity has been removed. Assumption 1 is satisfied"
   ]
  },
  {
   "cell_type": "code",
   "execution_count": 882,
   "id": "25cebb8a",
   "metadata": {},
   "outputs": [
    {
     "data": {
      "text/plain": [
       "[Text(0.5, 1.0, 'fuel Type count')]"
      ]
     },
     "execution_count": 882,
     "metadata": {},
     "output_type": "execute_result"
    },
    {
     "data": {
      "image/png": "[encoded data removed]",
      "text/plain": [
       "<Figure size 432x288 with 1 Axes>"
      ]
     },
     "metadata": {
      "needs_background": "light"
     },
     "output_type": "display_data"
    }
   ],
   "source": [
    "# barchart of fuel type\n",
    "sns.countplot(y = \"Fuel_Type\", data = df_1, order = df_1[\"Fuel_Type\"].value_counts().index).set(\n",
    "    title=\"fuel Type count\")"
   ]
  },
  {
   "cell_type": "code",
   "execution_count": 883,
   "id": "d4606e0f",
   "metadata": {},
   "outputs": [
    {
     "data": {
      "text/plain": [
       "[Text(0.5, 1.0, 'location count')]"
      ]
     },
     "execution_count": 883,
     "metadata": {},
     "output_type": "execute_result"
    },
    {
     "data": {
      "image/png": "[encoded data removed]",
      "text/plain": [
       "<Figure size 432x288 with 1 Axes>"
      ]
     },
     "metadata": {
      "needs_background": "light"
     },
     "output_type": "display_data"
    }
   ],
   "source": [
    "# barchart of location \n",
    "sns.countplot(y = \"Location\", data = df_1, order = df_1[\"Location\"].value_counts().index).set(\n",
    "    title=\"location count\")"
   ]
  },
  {
   "cell_type": "code",
   "execution_count": 884,
   "id": "72b16e6a",
   "metadata": {},
   "outputs": [
    {
     "data": {
      "text/plain": [
       "[Text(0.5, 1.0, 'Owner type count')]"
      ]
     },
     "execution_count": 884,
     "metadata": {},
     "output_type": "execute_result"
    },
    {
     "data": {
      "image/png": "[encoded data removed]",
      "text/plain": [
       "<Figure size 432x288 with 1 Axes>"
      ]
     },
     "metadata": {
      "needs_background": "light"
     },
     "output_type": "display_data"
    }
   ],
   "source": [
    "\n",
    "sns.countplot(y = \"Owner_Type\", data = df_1, order = df_1[\"Owner_Type\"].value_counts().index).set(\n",
    "    title=\"Owner type count\")"
   ]
  },
  {
   "cell_type": "code",
   "execution_count": 885,
   "id": "cf6057aa",
   "metadata": {},
   "outputs": [],
   "source": [
    "df_3 = df_1.copy()"
   ]
  },
  {
   "cell_type": "code",
   "execution_count": 886,
   "id": "1990165a",
   "metadata": {},
   "outputs": [
    {
     "data": {
      "text/html": [
       "<div>\n",
       "<style scoped>\n",
       "    .dataframe tbody tr th:only-of-type {\n",
       "        vertical-align: middle;\n",
       "    }\n",
       "\n",
       "    .dataframe tbody tr th {\n",
       "        vertical-align: top;\n",
       "    }\n",
       "\n",
       "    .dataframe thead th {\n",
       "        text-align: right;\n",
       "    }\n",
       "</style>\n",
       "<table border=\"1\" class=\"dataframe\">\n",
       "  <thead>\n",
       "    <tr style=\"text-align: right;\">\n",
       "      <th></th>\n",
       "      <th>Location</th>\n",
       "      <th>Year</th>\n",
       "      <th>Kilometers_Driven</th>\n",
       "      <th>Fuel_Type</th>\n",
       "      <th>Transmission</th>\n",
       "      <th>Owner_Type</th>\n",
       "      <th>Seats</th>\n",
       "      <th>Price</th>\n",
       "      <th>fuel_economy</th>\n",
       "      <th>engine_num</th>\n",
       "      <th>power_num</th>\n",
       "      <th>new_price_num</th>\n",
       "      <th>Price_log</th>\n",
       "      <th>car_category</th>\n",
       "    </tr>\n",
       "  </thead>\n",
       "  <tbody>\n",
       "    <tr>\n",
       "      <th>1</th>\n",
       "      <td>Pune</td>\n",
       "      <td>2015</td>\n",
       "      <td>41.000</td>\n",
       "      <td>Diesel</td>\n",
       "      <td>Manual</td>\n",
       "      <td>First</td>\n",
       "      <td>5.0</td>\n",
       "      <td>15060.240964</td>\n",
       "      <td>19.67</td>\n",
       "      <td>1582.0</td>\n",
       "      <td>126.20</td>\n",
       "      <td>16.06</td>\n",
       "      <td>9.619814</td>\n",
       "      <td>Mid-Range</td>\n",
       "    </tr>\n",
       "    <tr>\n",
       "      <th>2</th>\n",
       "      <td>Chennai</td>\n",
       "      <td>2011</td>\n",
       "      <td>46.000</td>\n",
       "      <td>Petrol</td>\n",
       "      <td>Manual</td>\n",
       "      <td>First</td>\n",
       "      <td>5.0</td>\n",
       "      <td>5421.686747</td>\n",
       "      <td>18.20</td>\n",
       "      <td>1199.0</td>\n",
       "      <td>88.70</td>\n",
       "      <td>8.61</td>\n",
       "      <td>8.598162</td>\n",
       "      <td>Affordable</td>\n",
       "    </tr>\n",
       "    <tr>\n",
       "      <th>3</th>\n",
       "      <td>Chennai</td>\n",
       "      <td>2012</td>\n",
       "      <td>87.000</td>\n",
       "      <td>Diesel</td>\n",
       "      <td>Manual</td>\n",
       "      <td>First</td>\n",
       "      <td>7.0</td>\n",
       "      <td>7228.915663</td>\n",
       "      <td>20.77</td>\n",
       "      <td>1248.0</td>\n",
       "      <td>88.76</td>\n",
       "      <td>11.27</td>\n",
       "      <td>8.885844</td>\n",
       "      <td>Affordable</td>\n",
       "    </tr>\n",
       "    <tr>\n",
       "      <th>4</th>\n",
       "      <td>Coimbatore</td>\n",
       "      <td>2013</td>\n",
       "      <td>40.670</td>\n",
       "      <td>Diesel</td>\n",
       "      <td>Automatic</td>\n",
       "      <td>Second</td>\n",
       "      <td>5.0</td>\n",
       "      <td>21373.493976</td>\n",
       "      <td>15.20</td>\n",
       "      <td>1968.0</td>\n",
       "      <td>140.80</td>\n",
       "      <td>53.14</td>\n",
       "      <td>9.969907</td>\n",
       "      <td>Ultra_luxury</td>\n",
       "    </tr>\n",
       "    <tr>\n",
       "      <th>6</th>\n",
       "      <td>Jaipur</td>\n",
       "      <td>2013</td>\n",
       "      <td>86.999</td>\n",
       "      <td>Diesel</td>\n",
       "      <td>Manual</td>\n",
       "      <td>First</td>\n",
       "      <td>5.0</td>\n",
       "      <td>4216.867470</td>\n",
       "      <td>23.08</td>\n",
       "      <td>1461.0</td>\n",
       "      <td>63.10</td>\n",
       "      <td>9.47</td>\n",
       "      <td>8.346848</td>\n",
       "      <td>Affordable</td>\n",
       "    </tr>\n",
       "  </tbody>\n",
       "</table>\n",
       "</div>"
      ],
      "text/plain": [
       "     Location  Year  Kilometers_Driven Fuel_Type Transmission Owner_Type  \\\n",
       "1        Pune  2015             41.000    Diesel       Manual      First   \n",
       "2     Chennai  2011             46.000    Petrol       Manual      First   \n",
       "3     Chennai  2012             87.000    Diesel       Manual      First   \n",
       "4  Coimbatore  2013             40.670    Diesel    Automatic     Second   \n",
       "6      Jaipur  2013             86.999    Diesel       Manual      First   \n",
       "\n",
       "   Seats         Price  fuel_economy  engine_num  power_num  new_price_num  \\\n",
       "1    5.0  15060.240964         19.67      1582.0     126.20          16.06   \n",
       "2    5.0   5421.686747         18.20      1199.0      88.70           8.61   \n",
       "3    7.0   7228.915663         20.77      1248.0      88.76          11.27   \n",
       "4    5.0  21373.493976         15.20      1968.0     140.80          53.14   \n",
       "6    5.0   4216.867470         23.08      1461.0      63.10           9.47   \n",
       "\n",
       "   Price_log  car_category  \n",
       "1   9.619814     Mid-Range  \n",
       "2   8.598162    Affordable  \n",
       "3   8.885844    Affordable  \n",
       "4   9.969907  Ultra_luxury  \n",
       "6   8.346848    Affordable  "
      ]
     },
     "execution_count": 886,
     "metadata": {},
     "output_type": "execute_result"
    }
   ],
   "source": [
    "# dropping LPG, CNG, Third, Fourth and Above since there is very less data points on them.\n",
    "df_3 = df_3.drop(df_3[df_3['Fuel_Type'] == 'CNG'].index)\n",
    "df_3 = df_3.drop(df_3[df_3['Fuel_Type'] == 'LPG'].index)\n",
    "df_3 = df_3.drop(df_3[df_3['Owner_Type'] == 'Third'].index)\n",
    "df_3 = df_3.drop(df_3[df_3['Owner_Type'] == 'Fourth & Above'].index)\n",
    "df_3.head(5)"
   ]
  },
  {
   "cell_type": "code",
   "execution_count": 887,
   "id": "819f01ed",
   "metadata": {},
   "outputs": [
    {
     "name": "stderr",
     "output_type": "stream",
     "text": [
      "/Users/muhammadraees/opt/anaconda3/lib/python3.9/site-packages/statsmodels/tsa/tsatools.py:142: FutureWarning: In a future version of pandas all arguments of concat except for the argument 'objs' will be keyword-only\n",
      "  x = pd.concat(x[::order], 1)\n"
     ]
    }
   ],
   "source": [
    "ind_vars = df_3.drop([\"Price\", \"Price_log\"], axis = 1)\n",
    "dep_var = df_3[[\"Price_log\", \"Price\"]]\n",
    "\n",
    "# Dummy encoding\n",
    "ind_vars_num = encode(ind_vars)\n",
    "\n",
    "# Splitting data into train and test\n",
    "X_train, X_test, y_train, y_test = train_test_split(ind_vars_num, dep_var, test_size = 0.3, random_state = 1)\n",
    "\n",
    "x_train = sm.add_constant(X_train)\n",
    "x_test = sm.add_constant(X_test)"
   ]
  },
  {
   "cell_type": "code",
   "execution_count": 888,
   "id": "6beddb88",
   "metadata": {},
   "outputs": [],
   "source": [
    "col_to_drop = \"engine_num\"\n",
    "x_train = x_train.loc[:, ~x_train.columns.str.startswith(col_to_drop)]\n",
    "x_test = x_test.loc[:, ~x_test.columns.str.startswith(col_to_drop)]\n",
    "col_to_drop = \"new_price_num\"\n",
    "x_train = x_train.loc[:, ~x_train.columns.str.startswith(col_to_drop)]\n",
    "x_test = x_test.loc[:, ~x_test.columns.str.startswith(col_to_drop)]"
   ]
  },
  {
   "cell_type": "code",
   "execution_count": 889,
   "id": "938af348",
   "metadata": {},
   "outputs": [
    {
     "name": "stdout",
     "output_type": "stream",
     "text": [
      "                            OLS Regression Results                            \n",
      "==============================================================================\n",
      "Dep. Variable:              Price_log   R-squared:                       0.912\n",
      "Model:                            OLS   Adj. R-squared:                  0.911\n",
      "Method:                 Least Squares   F-statistic:                     1591.\n",
      "Date:                Fri, 01 Dec 2023   Prob (F-statistic):               0.00\n",
      "Time:                        01:58:32   Log-Likelihood:                 109.58\n",
      "No. Observations:                3251   AIC:                            -175.2\n",
      "Df Residuals:                    3229   BIC:                            -41.25\n",
      "Df Model:                          21                                         \n",
      "Covariance Type:            nonrobust                                         \n",
      "=============================================================================================\n",
      "                                coef    std err          t      P>|t|      [0.025      0.975]\n",
      "---------------------------------------------------------------------------------------------\n",
      "const                      -232.2180      3.687    -62.986      0.000    -239.447    -224.989\n",
      "Year                          0.1196      0.002     65.072      0.000       0.116       0.123\n",
      "Kilometers_Driven            -0.0009      0.000     -6.526      0.000      -0.001      -0.001\n",
      "Seats                         0.0278      0.008      3.636      0.000       0.013       0.043\n",
      "fuel_economy                 -0.0182      0.002     -9.982      0.000      -0.022      -0.015\n",
      "power_num                     0.0050      0.000     29.472      0.000       0.005       0.005\n",
      "Location_Bangalore            0.1232      0.028      4.425      0.000       0.069       0.178\n",
      "Location_Chennai              0.0168      0.027      0.625      0.532      -0.036       0.069\n",
      "Location_Coimbatore           0.0743      0.026      2.908      0.004       0.024       0.124\n",
      "Location_Delhi               -0.0677      0.026     -2.650      0.008      -0.118      -0.018\n",
      "Location_Hyderabad            0.1076      0.025      4.300      0.000       0.059       0.157\n",
      "Location_Jaipur              -0.0626      0.027     -2.290      0.022      -0.116      -0.009\n",
      "Location_Kochi               -0.0387      0.025     -1.524      0.128      -0.089       0.011\n",
      "Location_Kolkata             -0.2288      0.026     -8.813      0.000      -0.280      -0.178\n",
      "Location_Mumbai              -0.0373      0.025     -1.501      0.133      -0.086       0.011\n",
      "Location_Pune                -0.0364      0.026     -1.408      0.159      -0.087       0.014\n",
      "Fuel_Type_Petrol             -0.2671      0.013    -21.324      0.000      -0.292      -0.243\n",
      "Transmission_Manual          -0.1021      0.014     -7.558      0.000      -0.129      -0.076\n",
      "Owner_Type_Second            -0.0464      0.013     -3.687      0.000      -0.071      -0.022\n",
      "car_category_Mid-Range        0.2655      0.016     16.642      0.000       0.234       0.297\n",
      "car_category_Luxury_Cars      0.6233      0.022     28.310      0.000       0.580       0.667\n",
      "car_category_Ultra_luxury     0.7853      0.027     29.485      0.000       0.733       0.837\n",
      "==============================================================================\n",
      "Omnibus:                     1338.143   Durbin-Watson:                   1.944\n",
      "Prob(Omnibus):                  0.000   Jarque-Bera (JB):            44676.369\n",
      "Skew:                          -1.306   Prob(JB):                         0.00\n",
      "Kurtosis:                      20.972   Cond. No.                     1.81e+06\n",
      "==============================================================================\n",
      "\n",
      "Notes:\n",
      "[1] Standard Errors assume that the covariance matrix of the errors is correctly specified.\n",
      "[2] The condition number is large, 1.81e+06. This might indicate that there are\n",
      "strong multicollinearity or other numerical problems.\n",
      "    Data         RMSE          MAE\n",
      "0  Train  4383.519338  2094.714528\n",
      "1   Test  6168.705364  2347.406991\n"
     ]
    }
   ],
   "source": [
    "# Fitting linear model on new dataset\n",
    "olsmodel9 = build_ols_model(x_train)\n",
    "print(olsmodel9.summary())\n",
    "\n",
    "model_performance(olsmodel9, x_train, x_test)"
   ]
  },
  {
   "cell_type": "code",
   "execution_count": 890,
   "id": "a590324f",
   "metadata": {},
   "outputs": [],
   "source": [
    "y_pred_test_pricelog = olsmodel9.predict(x_test)   # predicting price\n",
    "y_pred_test_Price = y_pred_test_pricelog.apply(math.exp) # exponentiating predicted log value\n",
    "y_test_Price = y_test[\"Price_log\"]"
   ]
  },
  {
   "cell_type": "code",
   "execution_count": 891,
   "id": "9bcb60aa",
   "metadata": {},
   "outputs": [
    {
     "name": "stdout",
     "output_type": "stream",
     "text": [
      "R-squared for the test dataset: 0.9144221173320894\n"
     ]
    }
   ],
   "source": [
    "r_squared = r2_score(y_test_Price, y_pred_test_pricelog)\n",
    "\n",
    "print(\"R-squared for the test dataset:\", r_squared)"
   ]
  },
  {
   "cell_type": "code",
   "execution_count": 892,
   "id": "e6bfc007",
   "metadata": {},
   "outputs": [],
   "source": [
    "y_pred_train_pricelog = olsmodel9.predict(x_train)\n",
    "y_pred_train_Price = y_pred_train_pricelog.apply(math.exp)\n",
    "y_train_Price = y_train[\"Price_log\"]"
   ]
  },
  {
   "cell_type": "code",
   "execution_count": 893,
   "id": "110b3527",
   "metadata": {},
   "outputs": [
    {
     "name": "stdout",
     "output_type": "stream",
     "text": [
      "R-squared for the train dataset: 0.9118773842367114\n"
     ]
    }
   ],
   "source": [
    "r_squared = r2_score(y_train_Price, y_pred_train_pricelog)\n",
    "\n",
    "print(\"R-squared for the train dataset:\", r_squared)"
   ]
  },
  {
   "cell_type": "markdown",
   "id": "4972a12b",
   "metadata": {},
   "source": [
    "### Assumption 2: Linearity of variables"
   ]
  },
  {
   "cell_type": "code",
   "execution_count": 894,
   "id": "47620b9e",
   "metadata": {},
   "outputs": [
    {
     "name": "stderr",
     "output_type": "stream",
     "text": [
      "/Users/muhammadraees/opt/anaconda3/lib/python3.9/site-packages/seaborn/_decorators.py:36: FutureWarning: Pass the following variables as keyword args: x, y. From version 0.12, the only valid positional argument will be `data`, and passing other arguments without an explicit keyword will result in an error or misinterpretation.\n",
      "  warnings.warn(\n"
     ]
    },
    {
     "data": {
      "text/plain": [
       "Text(0.5, 1.0, 'Residual plot')"
      ]
     },
     "execution_count": 894,
     "metadata": {},
     "output_type": "execute_result"
    },
    {
     "data": {
      "image/png": "[encoded data removed]",
      "text/plain": [
       "<Figure size 432x288 with 1 Axes>"
      ]
     },
     "metadata": {
      "needs_background": "light"
     },
     "output_type": "display_data"
    }
   ],
   "source": [
    "residuals = olsmodel6.resid\n",
    "fitted_values = olsmodel6.fittedvalues\n",
    "sns.residplot(fitted_values, residuals, color = \"green\", lowess = True)\n",
    "\n",
    "plt.xlabel(\"Fitted Values\")\n",
    "plt.ylabel(\"Residual\")\n",
    "plt.title(\"Residual plot\")"
   ]
  },
  {
   "cell_type": "markdown",
   "id": "5caf0854",
   "metadata": {},
   "source": [
    "The relationship between Residual and fitted values is random and there is no pattern. This satisfies assumption 2"
   ]
  },
  {
   "cell_type": "markdown",
   "id": "901c44f6",
   "metadata": {},
   "source": [
    "### Assumption 3: Normality"
   ]
  },
  {
   "cell_type": "code",
   "execution_count": 895,
   "id": "c72cef7d",
   "metadata": {},
   "outputs": [
    {
     "name": "stderr",
     "output_type": "stream",
     "text": [
      "/Users/muhammadraees/opt/anaconda3/lib/python3.9/site-packages/seaborn/distributions.py:2619: FutureWarning: `distplot` is a deprecated function and will be removed in a future version. Please adapt your code to use either `displot` (a figure-level function with similar flexibility) or `histplot` (an axes-level function for histograms).\n",
      "  warnings.warn(msg, FutureWarning)\n"
     ]
    },
    {
     "data": {
      "text/plain": [
       "<AxesSubplot:ylabel='Density'>"
      ]
     },
     "execution_count": 895,
     "metadata": {},
     "output_type": "execute_result"
    },
    {
     "data": {
      "image/png": "[encoded data removed]",
      "text/plain": [
       "<Figure size 432x288 with 1 Axes>"
      ]
     },
     "metadata": {
      "needs_background": "light"
     },
     "output_type": "display_data"
    }
   ],
   "source": [
    "sns.distplot(residuals)"
   ]
  },
  {
   "cell_type": "code",
   "execution_count": 896,
   "id": "9b5c6014",
   "metadata": {},
   "outputs": [
    {
     "data": {
      "image/png": "[encoded data removed]",
      "text/plain": [
       "<Figure size 432x288 with 1 Axes>"
      ]
     },
     "metadata": {
      "needs_background": "light"
     },
     "output_type": "display_data"
    }
   ],
   "source": [
    "\n",
    "stats.probplot(residuals, dist = \"norm\", plot = pylab)\n",
    "plt.show()"
   ]
  },
  {
   "cell_type": "markdown",
   "id": "2f506655",
   "metadata": {},
   "source": [
    "The distribution of the residual is normal which means assumption 3 of normality is satisfied."
   ]
  },
  {
   "cell_type": "markdown",
   "id": "c83549f2",
   "metadata": {},
   "source": [
    "### Assumption 4: Mean of residual is 0 "
   ]
  },
  {
   "cell_type": "code",
   "execution_count": 897,
   "id": "f0d7d3d4",
   "metadata": {},
   "outputs": [
    {
     "data": {
      "text/plain": [
       "4.570623690229951e-13"
      ]
     },
     "execution_count": 897,
     "metadata": {},
     "output_type": "execute_result"
    }
   ],
   "source": [
    "np.mean(residuals)"
   ]
  },
  {
   "cell_type": "markdown",
   "id": "437c6b21",
   "metadata": {},
   "source": [
    "The mean of residual is almost 0 so assumption 4 is satisfied"
   ]
  },
  {
   "cell_type": "markdown",
   "id": "d8b1eaaf",
   "metadata": {},
   "source": [
    "### Taking a look at 80/20 train/test"
   ]
  },
  {
   "cell_type": "code",
   "execution_count": 898,
   "id": "75cd3e7c",
   "metadata": {},
   "outputs": [
    {
     "name": "stderr",
     "output_type": "stream",
     "text": [
      "/Users/muhammadraees/opt/anaconda3/lib/python3.9/site-packages/statsmodels/tsa/tsatools.py:142: FutureWarning: In a future version of pandas all arguments of concat except for the argument 'objs' will be keyword-only\n",
      "  x = pd.concat(x[::order], 1)\n"
     ]
    }
   ],
   "source": [
    "ind_vars = df_1.drop([\"Price\", \"Price_log\"], axis = 1)\n",
    "dep_var = df_1[[\"Price_log\", \"Price\"]]\n",
    "\n",
    "# Dummy encoding\n",
    "ind_vars_num = encode(ind_vars)\n",
    "\n",
    "# Splitting data into train and test\n",
    "X_train, X_test, y_train, y_test = train_test_split(ind_vars_num, dep_var, test_size = 0.2, random_state = 1)\n",
    "\n",
    "x_train = sm.add_constant(X_train)\n",
    "x_test = sm.add_constant(X_test)\n",
    "\n"
   ]
  },
  {
   "cell_type": "code",
   "execution_count": 899,
   "id": "8dc20e2d",
   "metadata": {},
   "outputs": [],
   "source": [
    "col_to_drop = \"engine_num\"\n",
    "x_train = x_train.loc[:, ~x_train.columns.str.startswith(col_to_drop)]\n",
    "x_test = x_test.loc[:, ~x_test.columns.str.startswith(col_to_drop)]\n",
    "col_to_drop = \"new_price_num\"\n",
    "x_train = x_train.loc[:, ~x_train.columns.str.startswith(col_to_drop)]\n",
    "x_test = x_test.loc[:, ~x_test.columns.str.startswith(col_to_drop)]"
   ]
  },
  {
   "cell_type": "code",
   "execution_count": 900,
   "id": "5e080944",
   "metadata": {},
   "outputs": [
    {
     "name": "stdout",
     "output_type": "stream",
     "text": [
      "                            OLS Regression Results                            \n",
      "==============================================================================\n",
      "Dep. Variable:              Price_log   R-squared:                       0.915\n",
      "Model:                            OLS   Adj. R-squared:                  0.914\n",
      "Method:                 Least Squares   F-statistic:                     1691.\n",
      "Date:                Fri, 01 Dec 2023   Prob (F-statistic):               0.00\n",
      "Time:                        01:58:36   Log-Likelihood:                 122.85\n",
      "No. Observations:                3811   AIC:                            -195.7\n",
      "Df Residuals:                    3786   BIC:                            -39.56\n",
      "Df Model:                          24                                         \n",
      "Covariance Type:            nonrobust                                         \n",
      "=============================================================================================\n",
      "                                coef    std err          t      P>|t|      [0.025      0.975]\n",
      "---------------------------------------------------------------------------------------------\n",
      "const                      -227.2684      3.384    -67.156      0.000    -233.903    -220.633\n",
      "Year                          0.1170      0.002     69.341      0.000       0.114       0.120\n",
      "Kilometers_Driven            -0.0009      0.000     -7.617      0.000      -0.001      -0.001\n",
      "Seats                         0.0248      0.007      3.571      0.000       0.011       0.038\n",
      "fuel_economy                 -0.0152      0.002     -9.158      0.000      -0.018      -0.012\n",
      "power_num                     0.0055      0.000     33.125      0.000       0.005       0.006\n",
      "Location_Bangalore            0.1174      0.025      4.636      0.000       0.068       0.167\n",
      "Location_Chennai              0.0144      0.024      0.600      0.549      -0.033       0.062\n",
      "Location_Coimbatore           0.0689      0.023      2.991      0.003       0.024       0.114\n",
      "Location_Delhi               -0.0846      0.023     -3.690      0.000      -0.130      -0.040\n",
      "Location_Hyderabad            0.1098      0.022      4.881      0.000       0.066       0.154\n",
      "Location_Jaipur              -0.0616      0.025     -2.505      0.012      -0.110      -0.013\n",
      "Location_Kochi               -0.0463      0.023     -2.024      0.043      -0.091      -0.001\n",
      "Location_Kolkata             -0.2308      0.023     -9.900      0.000      -0.276      -0.185\n",
      "Location_Mumbai              -0.0491      0.022     -2.204      0.028      -0.093      -0.005\n",
      "Location_Pune                -0.0346      0.023     -1.493      0.135      -0.080       0.011\n",
      "Fuel_Type_Diesel              0.2111      0.041      5.154      0.000       0.131       0.291\n",
      "Fuel_Type_LPG                -0.1198      0.093     -1.286      0.198      -0.302       0.063\n",
      "Fuel_Type_Petrol             -0.0368      0.042     -0.876      0.381      -0.119       0.045\n",
      "Transmission_Manual          -0.0995      0.013     -7.886      0.000      -0.124      -0.075\n",
      "Owner_Type_Second            -0.0529      0.012     -4.470      0.000      -0.076      -0.030\n",
      "Owner_Type_Third             -0.1937      0.034     -5.718      0.000      -0.260      -0.127\n",
      "car_category_Mid-Range        0.2734      0.015     18.592      0.000       0.245       0.302\n",
      "car_category_Luxury_Cars      0.6197      0.020     30.759      0.000       0.580       0.659\n",
      "car_category_Ultra_luxury     0.7679      0.025     31.211      0.000       0.720       0.816\n",
      "==============================================================================\n",
      "Omnibus:                     1443.759   Durbin-Watson:                   2.014\n",
      "Prob(Omnibus):                  0.000   Jarque-Bera (JB):            52768.633\n",
      "Skew:                          -1.127   Prob(JB):                         0.00\n",
      "Kurtosis:                      21.090   Cond. No.                     1.79e+06\n",
      "==============================================================================\n",
      "\n",
      "Notes:\n",
      "[1] Standard Errors assume that the covariance matrix of the errors is correctly specified.\n",
      "[2] The condition number is large, 1.79e+06. This might indicate that there are\n",
      "strong multicollinearity or other numerical problems.\n",
      "    Data         RMSE          MAE\n",
      "0  Train  5073.027454  2145.946656\n",
      "1   Test  5007.719714  2165.185891\n"
     ]
    }
   ],
   "source": [
    "# Fitting linear model on new dataset\n",
    "olsmodel7 = build_ols_model(x_train)\n",
    "print(olsmodel7.summary())\n",
    "model_performance(olsmodel7, x_train, x_test)"
   ]
  },
  {
   "cell_type": "code",
   "execution_count": 901,
   "id": "b1d6c607",
   "metadata": {},
   "outputs": [],
   "source": [
    "y_pred_test_pricelog = olsmodel7.predict(x_test) # predicting price\n",
    "y_pred_test_Price = y_pred_test_pricelog.apply(math.exp)  # exponentiating predicted log value\n",
    "y_test_Price = y_test[\"Price_log\"]\n"
   ]
  },
  {
   "cell_type": "code",
   "execution_count": 902,
   "id": "798ecfc0",
   "metadata": {},
   "outputs": [
    {
     "name": "stdout",
     "output_type": "stream",
     "text": [
      "R-squared for the test dataset: 0.9097677953749574\n"
     ]
    }
   ],
   "source": [
    "from sklearn.metrics import r2_score\n",
    "\n",
    "# y_test contains the actual target values in the test dataset\n",
    "# y_pred contains the predicted values from your model\n",
    "\n",
    "# Calculating R-squared for the test dataset\n",
    "r_squared = r2_score(y_test_Price, y_pred_test_pricelog)\n",
    "\n",
    "print(\"R-squared for the test dataset:\", r_squared)"
   ]
  },
  {
   "cell_type": "code",
   "execution_count": 903,
   "id": "3c462735",
   "metadata": {},
   "outputs": [
    {
     "name": "stdout",
     "output_type": "stream",
     "text": [
      "R-squared for the train dataset: 0.9118773842367114\n"
     ]
    }
   ],
   "source": [
    "from sklearn.metrics import r2_score\n",
    "\n",
    "# y_test contains the actual target values in the test dataset\n",
    "# y_pred contains the predicted values from your model\n",
    "\n",
    "# Calculating R-squared for the test dataset\n",
    "r_squared = r2_score(y_train_Price, y_pred_train_pricelog)\n",
    "\n",
    "print(\"R-squared for the train dataset:\", r_squared)"
   ]
  }
 ],
 "metadata": {
  "kernelspec": {
   "display_name": "Python 3 (ipykernel)",
   "language": "python",
   "name": "python3"
  },
  "language_info": {
   "codemirror_mode": {
    "name": "ipython",
    "version": 3
   },
   "file_extension": ".py",
   "mimetype": "text/x-python",
   "name": "python",
   "nbconvert_exporter": "python",
   "pygments_lexer": "ipython3",
   "version": "3.9.7"
  }
 },
 "nbformat": 4,
 "nbformat_minor": 5
}
